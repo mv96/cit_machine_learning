{
 "cells": [
  {
   "cell_type": "markdown",
   "metadata": {},
   "source": [
    "# in this implemetation we will try to examine the effect of weighted KNN and \n",
    "# try to explore different values of K and their impact on the accuracy score"
   ]
  },
  {
   "cell_type": "code",
   "execution_count": 4,
   "metadata": {},
   "outputs": [],
   "source": [
    "#loading the train data\n",
    "import numpy as np\n",
    "from numpy import genfromtxt\n",
    "from tqdm import tqdm\n",
    "import time\n",
    "my_data = genfromtxt('trainingData.csv', delimiter=',')\n",
    "\n",
    "#upon loading we found that the data has total 11 cols starting from 1 as the 1st col\n",
    "#or you can say 10 cols starting from 0 as the 1st col\n",
    "y_train=my_data[:,10]# this prints the labels\n",
    "x_train=my_data[:,:-1] #every row except the last row until last col\n",
    "\n",
    "#for test data\n",
    "from numpy import genfromtxt\n",
    "my_data = genfromtxt('testData.csv', delimiter=',')\n",
    "y_test=my_data[:,10]\n",
    "x_test=my_data[:,:-1]"
   ]
  },
  {
   "cell_type": "code",
   "execution_count": 5,
   "metadata": {},
   "outputs": [],
   "source": [
    "#before we begin lets import some of the important functions that we made in the part 1 and use them here\n",
    "\n",
    "def d1_euc_dist(list1,list2):\n",
    "    import numpy as np\n",
    "    if (len(list1)==len(list2)):\n",
    "        print(\"\\n\")\n",
    "        #print(\"elements are of equal length, euc dist can be calculated\")\n",
    "    else:\n",
    "        print(\"length of paths is not equal\")\n",
    "        return\n",
    "    diff=(list1-list2)\n",
    "    power=np.power(diff,2)\n",
    "    total=np.sum(power)\n",
    "    result=np.sqrt(total)\n",
    "    return result\n",
    "\n",
    "def mink_dist(list1,list2,p):\n",
    "    \"\"\"takes a 2d matrix and another 2d matrix and computes a result of distances\n",
    "    this computes the value of the power p as the minkowski dist\"\"\"\n",
    "    if (list1.shape!=list2.shape):\n",
    "        print(\"shapes do not match ip1 :{} and ip2: {}\".format(list1.shape,list2.shape))\n",
    "    diff=(list1-list2)\n",
    "    power=np.power(diff,p)\n",
    "    total=np.sum(power, axis=1)\n",
    "    total=total.reshape((power.shape[0], 1))\n",
    "    distances=np.power(total,(1/p))\n",
    "    return distances\n",
    "\n",
    "def calculateDistances(array2d, array1d,p=2):\n",
    "    \"\"\"array 2d is my all training points taken for calculation of distance\n",
    "    array 1d is the query point with which the distance has to be calculated\"\"\"\n",
    "    #lets broadcast this query to all the points in the train \n",
    "    shape_arr1=array2d.shape\n",
    "    #make ones of the same shape as train data is given\n",
    "    broadcast_shape=np.ones(shape_arr1,dtype=np.int16)*array1d\n",
    "    #now calculate the distance between the two arrays\n",
    "    distances=mink_dist(broadcast_shape,array2d,p)\n",
    "    #add an index to the distances\n",
    "    rows=distances.shape[0] #counts froom 0\n",
    "    index=np.arange(0,rows,1)\n",
    "    index=index.reshape((index.shape[0], 1))\n",
    "    #stacking indexes with distances \n",
    "    index_dist=np.column_stack((index,distances))\n",
    "    \n",
    "    #now sorting the arrays based on 1st axis\n",
    "    index_dist=index_dist[index_dist[:,1].argsort()]\n",
    "    \"\"\"returning the index value of the distance that can be used to look for the vector\n",
    "    also returning the distance\"\"\"\n",
    "    index=index_dist[:,0]\n",
    "    #distances=index_dist[:,1]\n",
    "    #shortest distances on the top\n",
    "    return index, distances\n",
    "\n",
    "def accuracy_score(arr1,arr2):\n",
    "    \"\"\"compares elements in both the arrays if they are same then its a match oterwise, No match\n",
    "    return acc_score defined as total matches upon the elements present\"\"\"\n",
    "    #since both of them are col vectors\n",
    "    #we can take the row size as total number of elements\n",
    "    total=arr1.shape[0]#row in arr1\n",
    "    match=0\n",
    "    for ele1,ele2 in zip(arr1,arr2):\n",
    "        if(ele1==ele2):\n",
    "            match+=1\n",
    "    return match/total\n"
   ]
  },
  {
   "cell_type": "code",
   "execution_count": 6,
   "metadata": {},
   "outputs": [
    {
     "name": "stderr",
     "output_type": "stream",
     "text": [
      " 12%|█▏        | 123/1000 [00:00<00:01, 614.12it/s]"
     ]
    },
    {
     "name": "stdout",
     "output_type": "stream",
     "text": [
      "==================================================\n",
      "knn calculating..... for k= 1\n"
     ]
    },
    {
     "name": "stderr",
     "output_type": "stream",
     "text": [
      "100%|██████████| 1000/1000 [00:01<00:00, 639.44it/s]\n",
      "  6%|▋         | 63/1000 [00:00<00:01, 628.59it/s]"
     ]
    },
    {
     "name": "stdout",
     "output_type": "stream",
     "text": [
      "the accuracy value is :89.5\n",
      "==================================================\n",
      "\n",
      "\n",
      "==================================================\n",
      "knn calculating..... for k= 2\n"
     ]
    },
    {
     "name": "stderr",
     "output_type": "stream",
     "text": [
      "100%|██████████| 1000/1000 [00:01<00:00, 649.42it/s]\n",
      "  6%|▋         | 64/1000 [00:00<00:01, 639.85it/s]"
     ]
    },
    {
     "name": "stdout",
     "output_type": "stream",
     "text": [
      "the accuracy value is :89.2\n",
      "==================================================\n",
      "\n",
      "\n",
      "==================================================\n",
      "knn calculating..... for k= 3\n"
     ]
    },
    {
     "name": "stderr",
     "output_type": "stream",
     "text": [
      "100%|██████████| 1000/1000 [00:01<00:00, 660.72it/s]"
     ]
    },
    {
     "name": "stdout",
     "output_type": "stream",
     "text": [
      "the accuracy value is :91.0\n",
      "==================================================\n",
      "\n",
      "\n"
     ]
    },
    {
     "name": "stderr",
     "output_type": "stream",
     "text": [
      "\n"
     ]
    }
   ],
   "source": [
    "#now if we want our k dynamic we need to make two additional functions \n",
    "\n",
    "#slice(K,indexes,distances) >>>> given a k value slices the K nearest distances and returns the sorted distances and indexes\n",
    "\n",
    "#majority_vote(index)>>>> takes all the indexes values and looks them up in the y_train label and does a majority count\n",
    "#returns me the class that has the maximum occurance\n",
    "def slice_k(k,indexes,distances):\n",
    "    \"\"\"slices top k elements from index and distances\"\"\"\n",
    "    rows=indexes.shape[0]\n",
    "    indexes=indexes.reshape(rows,1)\n",
    "    k_indexes=indexes[:k]#select top k rows\n",
    "    k_distances=distances[:k]\n",
    "    return k_indexes, k_distances\n",
    "\n",
    "\n",
    "def majority_vote(indexes,y_train):\n",
    "    \"\"\"computes the majority vote by looking at the labels in y_train at corresponding indexes\"\"\"\n",
    "    unique_elements=np.unique(y_train)# we can have many classes, we might have to use knn for n classes\n",
    "    #instead of three so with dynamic approach we can reuse this function\n",
    "    class_count={}\n",
    "    for element in unique_elements: #make a dictionary of all elements count\n",
    "        class_count[element]=0\n",
    "    for ele1 in indexes:\n",
    "        ele1=int(ele1)\n",
    "        label=y_train[ele1]\n",
    "        class_count[label]+=1\n",
    "    #print(class_count)#this stores the vote count\n",
    "    maximum = max(class_count.values())\n",
    "    #print(maximum) #this is the maximum value in dictionary lets try to look where is this max value\n",
    "    #note if two classes have same number of votes this will return the first class of occurance\n",
    "    for key, value in class_count.items():\n",
    "        if(value==maximum):\n",
    "            label=key\n",
    "            break\n",
    "    #print(label)\n",
    "    return label\n",
    "    \n",
    "for k in range(1,4):\n",
    "    y_test_predicted=[]\n",
    "    print(\"=\"*50)\n",
    "    print(\"knn calculating..... for k= {}\".format(k))\n",
    "\n",
    "    for element in tqdm(x_test):\n",
    "        indexes,distances=calculateDistances(x_train, element)\n",
    "        #print(distances.shape)\n",
    "        indexes,distances=slice_k(k,indexes,distances)\n",
    "        label=majority_vote(indexes,y_train)\n",
    "        y_test_predicted.append(label)\n",
    "\n",
    "    y_test_predicted=np.asarray(y_test_predicted)##y_predicted is my predictions\n",
    "\n",
    "    acc=accuracy_score(y_test,y_test_predicted)*100\n",
    "    print(\"the accuracy value is :{}\".format(acc))\n",
    "    print(\"=\"*50)\n",
    "    print(\"\\n\")"
   ]
  },
  {
   "cell_type": "markdown",
   "metadata": {},
   "source": [
    "# In the above example we saw that accuracy is subjective to the k value, so which K value to choose?\n",
    "\n",
    "We will pick that value of K that maximizes accuracy.\n",
    "relying on more than 1 neighbour was a good decision as this makes my model robust and label takes a value based on majority vote from nearest neighbours.\n",
    "\n",
    "but there are two problems taking the maximum accuracy K\n",
    "\n",
    "1- accuracy fails when data is imbalanced- suppose I have 90% points classified as class \"A\" and only 10% points saying class \"B\" then even a very Naive model that flags every point as class \"A\" will have a 90% accuracy, hence accuracy does not hold any meaning in imbalanced datasets.\n",
    "\n",
    "2- problem of easily overfitting- this is another drawback of imbalanced datasets when the K value is very high, suppose k=total points then no matter which query I will give I will always decide the output as majority class i.e class \"A\" even when the query very close to the other class \"B\" selecting a bigger size of K makes model makes decision biased towards class \"A\" or simply overfitting\n",
    "\n",
    "solution 1- since we cannot rely on other evaluation metrics for this problem, I will set my benchmark as the model that always predicts the majority class in the dataset and then we will see what would be the accuracy of the model that always outputs the majority class  \n",
    "\n",
    "solution 2- we can draw a k vs accuracy graph and where ever we see that the accuracy is increased we will take that.\n",
    "(If there are two K values that give the same accuracy then I will take the greater of the two ,Why ?\n",
    "because when I take greater K value I am immune to noise{outliers} as I am relying my trust on more number of neighbours instead of a very small size)\n",
    "\n",
    "There are other problems with KNN which will be explained in the pdf \n"
   ]
  },
  {
   "cell_type": "code",
   "execution_count": 7,
   "metadata": {},
   "outputs": [
    {
     "name": "stdout",
     "output_type": "stream",
     "text": [
      "{0.0: 1317, 1.0: 1341, 2.0: 1342}\n",
      "1342\n",
      "the baseline accuracy would be :33.550000000000004\n"
     ]
    }
   ],
   "source": [
    "#now lets work on solution 1\n",
    "unique_labels=np.unique(y_train) #contains a list of all unique labels \n",
    "class_count={}\n",
    "for element in unique_labels: #make a dictionary of all unique labels and set the count 0\n",
    "    class_count[element]=0\n",
    "for ele1 in y_train:\n",
    "    for label in unique_labels:\n",
    "        if(label==ele1):\n",
    "            class_count[label]+=1\n",
    "            \n",
    "print(class_count)            \n",
    "print(max(class_count.values()))\n",
    "baseline=(max(class_count.values())/sum(class_count.values()))*100\n",
    "print(\"the baseline accuracy would be :{}\".format(baseline))\n",
    "#as we found in our analysis that the data is pretty balanced, hence we dont need worry for this problem\n",
    "#if I output majority class in balanced data it doesnot matter as the max accuracy I can get is 33.55%\n",
    "#and the accuracy that I am getting is way more than baseline\n",
    "#so this problem is already taken care of "
   ]
  },
  {
   "cell_type": "markdown",
   "metadata": {},
   "source": [
    "# you can turn of the below code as it can take alot of time depending upon the processor inside your laptop it shows what happens when my K value is equal to the number of data points"
   ]
  },
  {
   "cell_type": "raw",
   "metadata": {},
   "source": [
    "#now we tackle problem 2, which value of K to be decided\n",
    "#if I try to run the KNN with K value equal to the total points in the data then it will always output me the query point\n",
    "#as the majority class and I should get an accuracy of baseline as discussed above \n",
    "#make two lists to store the values\n",
    "k_ranges_all=[]\n",
    "accuracy_ranges_all=[]\n",
    "\n",
    "data_points=x_train.shape[0]\n",
    "print(\"total number of data points in the x_train are :{} \".format(data_points))\n",
    "\n",
    "##we will run the knn till the total points +10 just to show that after we reach the k= maximum number we dont get\n",
    "#any improvements\n",
    "#copy the same code as above\n",
    "\n",
    "for k in tqdm(range(1,data_points+10)):\n",
    "    y_test_predicted=[]\n",
    "    for element in x_test:\n",
    "        indexes,distances=calculateDistances(x_train, element)\n",
    "        #print(distances.shape)\n",
    "        indexes,distances=slice_k(k,indexes,distances)\n",
    "        label=majority_vote(indexes,y_train)\n",
    "        y_test_predicted.append(label)\n",
    "    y_test_predicted=np.asarray(y_test_predicted)##y_predicted is my predictions\n",
    "    acc=accuracy_score(y_test,y_test_predicted)*100\n",
    "    #store the accuracy and k value in the list\n",
    "    k_ranges.append_all(k)\n",
    "    accuracy_ranges.append_all(acc)\n",
    "    \n",
    "print(\"the k values are : {}\".format(k_ranges))\n",
    "print(\"the accuracy wrt k are :{}\".format(accuracy_ranges))\n",
    "#plotting graphs with matplot lib\n",
    "%matplotlib inline\n",
    "import warnings\n",
    "warnings.filterwarnings(\"ignore\")\n",
    "import matplotlib.pyplot as plt\n",
    "plt.figure(1, figsize=(6, 4))\n",
    "plt.clf()\n",
    "plt.plot(k_ranges_all, accuracy_ranges_all, linewidth=2)\n",
    "plt.plot(k_ranges_all, accuracy_ranges_all, 'ro')\n",
    "plt.axis('tight')\n",
    "plt.grid()\n",
    "plt.xlabel('k values')\n",
    "plt.ylabel('accuracy')\n",
    "plt.title(\"knn on all k's\")\n",
    "plt.show()\n",
    "ind=accuracy_ranges_all.index(max(accuracy_ranges_all))\n",
    "print(\"maximum accuracy is {} at {}th run\".format(max(accuracy_ranges_all),ind))\n",
    "best_k_alld=k_ranges_all[ind]\n",
    "print(\"the best k value is:{}, and the accuracy is {}\".format(best_k_all,accuracy_ranges_all[ind]))\n",
    "\n",
    "#upon visualizing we found that when k value is very large it always labels majority class \n",
    "#and gives baseline accuracy\n",
    "#this is quite evident with the graph shown"
   ]
  },
  {
   "cell_type": "code",
   "execution_count": 8,
   "metadata": {},
   "outputs": [
    {
     "name": "stderr",
     "output_type": "stream",
     "text": [
      "  6%|▌         | 62/1000 [00:00<00:01, 615.15it/s]"
     ]
    },
    {
     "name": "stdout",
     "output_type": "stream",
     "text": [
      "==================================================\n",
      "knn calculating..... for k= 1\n"
     ]
    },
    {
     "name": "stderr",
     "output_type": "stream",
     "text": [
      "100%|██████████| 1000/1000 [00:01<00:00, 644.91it/s]\n",
      "  6%|▋         | 65/1000 [00:00<00:01, 639.42it/s]"
     ]
    },
    {
     "name": "stdout",
     "output_type": "stream",
     "text": [
      "the accuracy value is :89.5\n",
      "==================================================\n",
      "\n",
      "\n",
      "==================================================\n",
      "knn calculating..... for k= 2\n"
     ]
    },
    {
     "name": "stderr",
     "output_type": "stream",
     "text": [
      "100%|██████████| 1000/1000 [00:01<00:00, 646.59it/s]\n",
      "  7%|▋         | 66/1000 [00:00<00:01, 648.69it/s]"
     ]
    },
    {
     "name": "stdout",
     "output_type": "stream",
     "text": [
      "the accuracy value is :89.2\n",
      "==================================================\n",
      "\n",
      "\n",
      "==================================================\n",
      "knn calculating..... for k= 3\n"
     ]
    },
    {
     "name": "stderr",
     "output_type": "stream",
     "text": [
      "100%|██████████| 1000/1000 [00:01<00:00, 656.34it/s]\n",
      "  7%|▋         | 67/1000 [00:00<00:01, 666.80it/s]"
     ]
    },
    {
     "name": "stdout",
     "output_type": "stream",
     "text": [
      "the accuracy value is :91.0\n",
      "==================================================\n",
      "\n",
      "\n",
      "==================================================\n",
      "knn calculating..... for k= 4\n"
     ]
    },
    {
     "name": "stderr",
     "output_type": "stream",
     "text": [
      "100%|██████████| 1000/1000 [00:01<00:00, 658.64it/s]\n",
      "  6%|▋         | 64/1000 [00:00<00:01, 630.85it/s]"
     ]
    },
    {
     "name": "stdout",
     "output_type": "stream",
     "text": [
      "the accuracy value is :92.0\n",
      "==================================================\n",
      "\n",
      "\n",
      "==================================================\n",
      "knn calculating..... for k= 5\n"
     ]
    },
    {
     "name": "stderr",
     "output_type": "stream",
     "text": [
      "100%|██████████| 1000/1000 [00:01<00:00, 648.87it/s]\n",
      "  6%|▋         | 64/1000 [00:00<00:01, 636.40it/s]"
     ]
    },
    {
     "name": "stdout",
     "output_type": "stream",
     "text": [
      "the accuracy value is :92.4\n",
      "==================================================\n",
      "\n",
      "\n",
      "==================================================\n",
      "knn calculating..... for k= 6\n"
     ]
    },
    {
     "name": "stderr",
     "output_type": "stream",
     "text": [
      "100%|██████████| 1000/1000 [00:01<00:00, 610.63it/s]\n",
      "  6%|▌         | 59/1000 [00:00<00:01, 585.10it/s]"
     ]
    },
    {
     "name": "stdout",
     "output_type": "stream",
     "text": [
      "the accuracy value is :92.30000000000001\n",
      "==================================================\n",
      "\n",
      "\n",
      "==================================================\n",
      "knn calculating..... for k= 7\n"
     ]
    },
    {
     "name": "stderr",
     "output_type": "stream",
     "text": [
      "100%|██████████| 1000/1000 [00:01<00:00, 653.62it/s]\n",
      "  6%|▌         | 61/1000 [00:00<00:01, 602.48it/s]"
     ]
    },
    {
     "name": "stdout",
     "output_type": "stream",
     "text": [
      "the accuracy value is :92.2\n",
      "==================================================\n",
      "\n",
      "\n",
      "==================================================\n",
      "knn calculating..... for k= 8\n"
     ]
    },
    {
     "name": "stderr",
     "output_type": "stream",
     "text": [
      "100%|██████████| 1000/1000 [00:01<00:00, 621.73it/s]\n",
      "  6%|▌         | 62/1000 [00:00<00:01, 616.15it/s]"
     ]
    },
    {
     "name": "stdout",
     "output_type": "stream",
     "text": [
      "the accuracy value is :91.8\n",
      "==================================================\n",
      "\n",
      "\n",
      "==================================================\n",
      "knn calculating..... for k= 9\n"
     ]
    },
    {
     "name": "stderr",
     "output_type": "stream",
     "text": [
      "100%|██████████| 1000/1000 [00:01<00:00, 643.03it/s]\n",
      "  7%|▋         | 67/1000 [00:00<00:01, 660.42it/s]"
     ]
    },
    {
     "name": "stdout",
     "output_type": "stream",
     "text": [
      "the accuracy value is :92.80000000000001\n",
      "==================================================\n",
      "\n",
      "\n",
      "==================================================\n",
      "knn calculating..... for k= 10\n"
     ]
    },
    {
     "name": "stderr",
     "output_type": "stream",
     "text": [
      "100%|██████████| 1000/1000 [00:01<00:00, 644.98it/s]\n",
      " 13%|█▎        | 127/1000 [00:00<00:01, 625.32it/s]"
     ]
    },
    {
     "name": "stdout",
     "output_type": "stream",
     "text": [
      "the accuracy value is :92.2\n",
      "==================================================\n",
      "\n",
      "\n",
      "==================================================\n",
      "knn calculating..... for k= 11\n"
     ]
    },
    {
     "name": "stderr",
     "output_type": "stream",
     "text": [
      "100%|██████████| 1000/1000 [00:01<00:00, 636.93it/s]\n",
      "  7%|▋         | 68/1000 [00:00<00:01, 674.13it/s]"
     ]
    },
    {
     "name": "stdout",
     "output_type": "stream",
     "text": [
      "the accuracy value is :91.8\n",
      "==================================================\n",
      "\n",
      "\n",
      "==================================================\n",
      "knn calculating..... for k= 12\n"
     ]
    },
    {
     "name": "stderr",
     "output_type": "stream",
     "text": [
      "100%|██████████| 1000/1000 [00:01<00:00, 639.41it/s]\n",
      " 12%|█▏        | 120/1000 [00:00<00:01, 591.46it/s]"
     ]
    },
    {
     "name": "stdout",
     "output_type": "stream",
     "text": [
      "the accuracy value is :92.0\n",
      "==================================================\n",
      "\n",
      "\n",
      "==================================================\n",
      "knn calculating..... for k= 13\n"
     ]
    },
    {
     "name": "stderr",
     "output_type": "stream",
     "text": [
      "100%|██████████| 1000/1000 [00:01<00:00, 621.66it/s]\n",
      "  7%|▋         | 68/1000 [00:00<00:01, 677.49it/s]"
     ]
    },
    {
     "name": "stdout",
     "output_type": "stream",
     "text": [
      "the accuracy value is :91.9\n",
      "==================================================\n",
      "\n",
      "\n",
      "==================================================\n",
      "knn calculating..... for k= 14\n"
     ]
    },
    {
     "name": "stderr",
     "output_type": "stream",
     "text": [
      "100%|██████████| 1000/1000 [00:01<00:00, 642.56it/s]\n",
      "  6%|▋         | 63/1000 [00:00<00:01, 618.78it/s]"
     ]
    },
    {
     "name": "stdout",
     "output_type": "stream",
     "text": [
      "the accuracy value is :92.4\n",
      "==================================================\n",
      "\n",
      "\n",
      "==================================================\n",
      "knn calculating..... for k= 15\n"
     ]
    },
    {
     "name": "stderr",
     "output_type": "stream",
     "text": [
      "100%|██████████| 1000/1000 [00:01<00:00, 637.11it/s]\n",
      "  6%|▌         | 60/1000 [00:00<00:01, 592.29it/s]"
     ]
    },
    {
     "name": "stdout",
     "output_type": "stream",
     "text": [
      "the accuracy value is :92.4\n",
      "==================================================\n",
      "\n",
      "\n",
      "==================================================\n",
      "knn calculating..... for k= 16\n"
     ]
    },
    {
     "name": "stderr",
     "output_type": "stream",
     "text": [
      "100%|██████████| 1000/1000 [00:01<00:00, 651.64it/s]\n",
      "  7%|▋         | 68/1000 [00:00<00:01, 676.88it/s]"
     ]
    },
    {
     "name": "stdout",
     "output_type": "stream",
     "text": [
      "the accuracy value is :92.0\n",
      "==================================================\n",
      "\n",
      "\n",
      "==================================================\n",
      "knn calculating..... for k= 17\n"
     ]
    },
    {
     "name": "stderr",
     "output_type": "stream",
     "text": [
      "100%|██████████| 1000/1000 [00:01<00:00, 636.37it/s]\n",
      "  6%|▌         | 62/1000 [00:00<00:01, 611.83it/s]"
     ]
    },
    {
     "name": "stdout",
     "output_type": "stream",
     "text": [
      "the accuracy value is :91.7\n",
      "==================================================\n",
      "\n",
      "\n",
      "==================================================\n",
      "knn calculating..... for k= 18\n"
     ]
    },
    {
     "name": "stderr",
     "output_type": "stream",
     "text": [
      "100%|██████████| 1000/1000 [00:01<00:00, 613.80it/s]\n",
      "  6%|▋         | 63/1000 [00:00<00:01, 623.23it/s]"
     ]
    },
    {
     "name": "stdout",
     "output_type": "stream",
     "text": [
      "the accuracy value is :91.9\n",
      "==================================================\n",
      "\n",
      "\n",
      "==================================================\n",
      "knn calculating..... for k= 19\n"
     ]
    },
    {
     "name": "stderr",
     "output_type": "stream",
     "text": [
      "100%|██████████| 1000/1000 [00:01<00:00, 639.90it/s]\n",
      "  7%|▋         | 69/1000 [00:00<00:01, 685.58it/s]"
     ]
    },
    {
     "name": "stdout",
     "output_type": "stream",
     "text": [
      "the accuracy value is :91.7\n",
      "==================================================\n",
      "\n",
      "\n",
      "==================================================\n",
      "knn calculating..... for k= 20\n"
     ]
    },
    {
     "name": "stderr",
     "output_type": "stream",
     "text": [
      "100%|██████████| 1000/1000 [00:01<00:00, 652.31it/s]\n",
      "  6%|▌         | 62/1000 [00:00<00:01, 615.85it/s]"
     ]
    },
    {
     "name": "stdout",
     "output_type": "stream",
     "text": [
      "the accuracy value is :91.4\n",
      "==================================================\n",
      "\n",
      "\n",
      "==================================================\n",
      "knn calculating..... for k= 21\n"
     ]
    },
    {
     "name": "stderr",
     "output_type": "stream",
     "text": [
      "100%|██████████| 1000/1000 [00:01<00:00, 631.81it/s]\n",
      "  7%|▋         | 68/1000 [00:00<00:01, 674.64it/s]"
     ]
    },
    {
     "name": "stdout",
     "output_type": "stream",
     "text": [
      "the accuracy value is :91.4\n",
      "==================================================\n",
      "\n",
      "\n",
      "==================================================\n",
      "knn calculating..... for k= 22\n"
     ]
    },
    {
     "name": "stderr",
     "output_type": "stream",
     "text": [
      "100%|██████████| 1000/1000 [00:01<00:00, 656.02it/s]\n",
      "  7%|▋         | 68/1000 [00:00<00:01, 677.80it/s]"
     ]
    },
    {
     "name": "stdout",
     "output_type": "stream",
     "text": [
      "the accuracy value is :91.60000000000001\n",
      "==================================================\n",
      "\n",
      "\n",
      "==================================================\n",
      "knn calculating..... for k= 23\n"
     ]
    },
    {
     "name": "stderr",
     "output_type": "stream",
     "text": [
      "100%|██████████| 1000/1000 [00:01<00:00, 599.59it/s]\n",
      "  7%|▋         | 67/1000 [00:00<00:01, 660.56it/s]"
     ]
    },
    {
     "name": "stdout",
     "output_type": "stream",
     "text": [
      "the accuracy value is :91.3\n",
      "==================================================\n",
      "\n",
      "\n",
      "==================================================\n",
      "knn calculating..... for k= 24\n"
     ]
    },
    {
     "name": "stderr",
     "output_type": "stream",
     "text": [
      "100%|██████████| 1000/1000 [00:01<00:00, 599.62it/s]\n",
      "  7%|▋         | 68/1000 [00:00<00:01, 675.32it/s]"
     ]
    },
    {
     "name": "stdout",
     "output_type": "stream",
     "text": [
      "the accuracy value is :90.8\n",
      "==================================================\n",
      "\n",
      "\n",
      "==================================================\n",
      "knn calculating..... for k= 25\n"
     ]
    },
    {
     "name": "stderr",
     "output_type": "stream",
     "text": [
      "100%|██████████| 1000/1000 [00:01<00:00, 669.31it/s]\n",
      "  7%|▋         | 68/1000 [00:00<00:01, 672.70it/s]"
     ]
    },
    {
     "name": "stdout",
     "output_type": "stream",
     "text": [
      "the accuracy value is :90.60000000000001\n",
      "==================================================\n",
      "\n",
      "\n",
      "==================================================\n",
      "knn calculating..... for k= 26\n"
     ]
    },
    {
     "name": "stderr",
     "output_type": "stream",
     "text": [
      "100%|██████████| 1000/1000 [00:01<00:00, 624.78it/s]\n",
      " 12%|█▏        | 123/1000 [00:00<00:01, 613.79it/s]"
     ]
    },
    {
     "name": "stdout",
     "output_type": "stream",
     "text": [
      "the accuracy value is :90.7\n",
      "==================================================\n",
      "\n",
      "\n",
      "==================================================\n",
      "knn calculating..... for k= 27\n"
     ]
    },
    {
     "name": "stderr",
     "output_type": "stream",
     "text": [
      "100%|██████████| 1000/1000 [00:01<00:00, 616.94it/s]\n",
      "  6%|▌         | 57/1000 [00:00<00:01, 569.25it/s]"
     ]
    },
    {
     "name": "stdout",
     "output_type": "stream",
     "text": [
      "the accuracy value is :90.8\n",
      "==================================================\n",
      "\n",
      "\n",
      "==================================================\n",
      "knn calculating..... for k= 28\n"
     ]
    },
    {
     "name": "stderr",
     "output_type": "stream",
     "text": [
      "100%|██████████| 1000/1000 [00:01<00:00, 639.85it/s]\n",
      "  7%|▋         | 67/1000 [00:00<00:01, 668.57it/s]"
     ]
    },
    {
     "name": "stdout",
     "output_type": "stream",
     "text": [
      "the accuracy value is :90.4\n",
      "==================================================\n",
      "\n",
      "\n",
      "==================================================\n",
      "knn calculating..... for k= 29\n"
     ]
    },
    {
     "name": "stderr",
     "output_type": "stream",
     "text": [
      "100%|██████████| 1000/1000 [00:01<00:00, 644.61it/s]\n",
      "  7%|▋         | 68/1000 [00:00<00:01, 679.37it/s]"
     ]
    },
    {
     "name": "stdout",
     "output_type": "stream",
     "text": [
      "the accuracy value is :90.7\n",
      "==================================================\n",
      "\n",
      "\n",
      "==================================================\n",
      "knn calculating..... for k= 30\n"
     ]
    },
    {
     "name": "stderr",
     "output_type": "stream",
     "text": [
      "100%|██████████| 1000/1000 [00:01<00:00, 616.65it/s]"
     ]
    },
    {
     "name": "stdout",
     "output_type": "stream",
     "text": [
      "the accuracy value is :90.3\n",
      "==================================================\n",
      "\n",
      "\n",
      "total time:47.232909202575684\n"
     ]
    },
    {
     "name": "stderr",
     "output_type": "stream",
     "text": [
      "\n"
     ]
    }
   ],
   "source": [
    "#this is a highly unpractical way of looking at all the k values so inorder to avoid excessive training time\n",
    "#we will not train our model for this long, we usually will train uptill 30 kNN values\n",
    "tic=time.time()\n",
    "k_ranges=[]\n",
    "accuracy_ranges=[]\n",
    "for k in range(1,31):\n",
    "    y_test_predicted=[]\n",
    "    print(\"=\"*50)\n",
    "    print(\"knn calculating..... for k= {}\".format(k))\n",
    "\n",
    "    for element in tqdm(x_test):\n",
    "        indexes,distances=calculateDistances(x_train, element)\n",
    "        #print(distances.shape)\n",
    "        indexes,distances=slice_k(k,indexes,distances)\n",
    "        label=majority_vote(indexes,y_train)\n",
    "        y_test_predicted.append(label)\n",
    "\n",
    "    y_test_predicted=np.asarray(y_test_predicted)##y_predicted is my predictions\n",
    "\n",
    "    acc=accuracy_score(y_test,y_test_predicted)*100\n",
    "    print(\"the accuracy value is :{}\".format(acc))\n",
    "    print(\"=\"*50)\n",
    "    print(\"\\n\")\n",
    "    k_ranges.append(k)\n",
    "    accuracy_ranges.append(acc)\n",
    "    \n",
    "toc=time.time()    \n",
    "knn_time=toc-tic\n",
    "print(\"total time:{}\".format(knn_time))\n"
   ]
  },
  {
   "cell_type": "code",
   "execution_count": 9,
   "metadata": {},
   "outputs": [
    {
     "name": "stdout",
     "output_type": "stream",
     "text": [
      "[89.5, 89.2, 91.0, 92.0, 92.4, 92.30000000000001, 92.2, 91.8, 92.80000000000001, 92.2, 91.8, 92.0, 91.9, 92.4, 92.4, 92.0, 91.7, 91.9, 91.7, 91.4, 91.4, 91.60000000000001, 91.3, 90.8, 90.60000000000001, 90.7, 90.8, 90.4, 90.7, 90.3]\n"
     ]
    },
    {
     "data": {
      "image/png": "[encoded data removed]",
      "text/plain": [
       "<Figure size 432x288 with 1 Axes>"
      ]
     },
     "metadata": {
      "needs_background": "light"
     },
     "output_type": "display_data"
    },
    {
     "name": "stdout",
     "output_type": "stream",
     "text": [
      "maximum accuracy is 92.80000000000001 at 8th run\n",
      "the best k value is:9, and the accuracy is 92.80000000000001\n"
     ]
    }
   ],
   "source": [
    "print(accuracy_ranges)\n",
    "#plotting graphs with matplot lib\n",
    "%matplotlib inline\n",
    "import warnings\n",
    "warnings.filterwarnings(\"ignore\")\n",
    "import matplotlib.pyplot as plt\n",
    "plt.figure(1, figsize=(6, 4))\n",
    "plt.clf()\n",
    "plt.plot(k_ranges, accuracy_ranges, linewidth=2)\n",
    "plt.legend([\"accuracies\"])\n",
    "plt.plot(k_ranges, accuracy_ranges, 'ro')\n",
    "plt.axis('tight')\n",
    "plt.grid()\n",
    "plt.xlabel('k values')\n",
    "plt.ylabel('accuracy')\n",
    "plt.title(\"knn:{}\".format(knn_time))\n",
    "plt.show()\n",
    "ind=accuracy_ranges.index(max(accuracy_ranges))\n",
    "print(\"maximum accuracy is {} at {}th run\".format(max(accuracy_ranges),ind))\n",
    "best_k=k_ranges[ind]\n",
    "print(\"the best k value is:{}, and the accuracy is {}\".format(best_k,accuracy_ranges[ind]))\n",
    "#there is one problem still here \n",
    "#since every point that lies in the neighbourhood has weight values equal to 1 \n",
    "#meaning the position of the nearest neighbour does not matter as much as it's in the neighbourhood\n",
    "#what could have been improved over here is if my weights change their value according to the distance \n",
    "#meaning lower distance should have higher weight value \n",
    "#substitute  the word vote in the above example with these weights, instead now I can calculate the \n",
    "#total weight score of each class and whoever has max weight should give better accuracy"
   ]
  },
  {
   "cell_type": "code",
   "execution_count": 10,
   "metadata": {},
   "outputs": [
    {
     "name": "stderr",
     "output_type": "stream",
     "text": [
      "  6%|▋         | 64/1000 [00:00<00:01, 632.54it/s]"
     ]
    },
    {
     "name": "stdout",
     "output_type": "stream",
     "text": [
      "==================================================\n",
      "knn calculating..... for k= 1\n"
     ]
    },
    {
     "name": "stderr",
     "output_type": "stream",
     "text": [
      "100%|██████████| 1000/1000 [00:01<00:00, 619.31it/s]\n",
      "  6%|▌         | 58/1000 [00:00<00:01, 573.38it/s]"
     ]
    },
    {
     "name": "stdout",
     "output_type": "stream",
     "text": [
      "the accuracy value is :89.5\n",
      "==================================================\n",
      "\n",
      "\n",
      "==================================================\n",
      "knn calculating..... for k= 2\n"
     ]
    },
    {
     "name": "stderr",
     "output_type": "stream",
     "text": [
      "100%|██████████| 1000/1000 [00:01<00:00, 608.70it/s]\n",
      "  6%|▌         | 60/1000 [00:00<00:01, 598.25it/s]"
     ]
    },
    {
     "name": "stdout",
     "output_type": "stream",
     "text": [
      "the accuracy value is :89.1\n",
      "==================================================\n",
      "\n",
      "\n",
      "==================================================\n",
      "knn calculating..... for k= 3\n"
     ]
    },
    {
     "name": "stderr",
     "output_type": "stream",
     "text": [
      "100%|██████████| 1000/1000 [00:01<00:00, 607.71it/s]\n",
      "  6%|▋         | 63/1000 [00:00<00:01, 621.00it/s]"
     ]
    },
    {
     "name": "stdout",
     "output_type": "stream",
     "text": [
      "the accuracy value is :91.2\n",
      "==================================================\n",
      "\n",
      "\n",
      "==================================================\n",
      "knn calculating..... for k= 4\n"
     ]
    },
    {
     "name": "stderr",
     "output_type": "stream",
     "text": [
      "100%|██████████| 1000/1000 [00:01<00:00, 612.60it/s]\n",
      "  7%|▋         | 66/1000 [00:00<00:01, 651.23it/s]"
     ]
    },
    {
     "name": "stdout",
     "output_type": "stream",
     "text": [
      "the accuracy value is :91.4\n",
      "==================================================\n",
      "\n",
      "\n",
      "==================================================\n",
      "knn calculating..... for k= 5\n"
     ]
    },
    {
     "name": "stderr",
     "output_type": "stream",
     "text": [
      "100%|██████████| 1000/1000 [00:01<00:00, 654.54it/s]\n",
      "  6%|▌         | 60/1000 [00:00<00:01, 596.27it/s]"
     ]
    },
    {
     "name": "stdout",
     "output_type": "stream",
     "text": [
      "the accuracy value is :92.10000000000001\n",
      "==================================================\n",
      "\n",
      "\n",
      "==================================================\n",
      "knn calculating..... for k= 6\n"
     ]
    },
    {
     "name": "stderr",
     "output_type": "stream",
     "text": [
      "100%|██████████| 1000/1000 [00:01<00:00, 603.58it/s]\n",
      " 13%|█▎        | 127/1000 [00:00<00:01, 641.32it/s]"
     ]
    },
    {
     "name": "stdout",
     "output_type": "stream",
     "text": [
      "the accuracy value is :92.0\n",
      "==================================================\n",
      "\n",
      "\n",
      "==================================================\n",
      "knn calculating..... for k= 7\n"
     ]
    },
    {
     "name": "stderr",
     "output_type": "stream",
     "text": [
      "100%|██████████| 1000/1000 [00:01<00:00, 642.07it/s]\n",
      " 13%|█▎        | 132/1000 [00:00<00:01, 656.19it/s]"
     ]
    },
    {
     "name": "stdout",
     "output_type": "stream",
     "text": [
      "the accuracy value is :91.8\n",
      "==================================================\n",
      "\n",
      "\n",
      "==================================================\n",
      "knn calculating..... for k= 8\n"
     ]
    },
    {
     "name": "stderr",
     "output_type": "stream",
     "text": [
      "100%|██████████| 1000/1000 [00:01<00:00, 659.90it/s]\n",
      "  7%|▋         | 66/1000 [00:00<00:01, 653.30it/s]"
     ]
    },
    {
     "name": "stdout",
     "output_type": "stream",
     "text": [
      "the accuracy value is :91.4\n",
      "==================================================\n",
      "\n",
      "\n",
      "==================================================\n",
      "knn calculating..... for k= 9\n"
     ]
    },
    {
     "name": "stderr",
     "output_type": "stream",
     "text": [
      "100%|██████████| 1000/1000 [00:01<00:00, 656.96it/s]\n",
      "  6%|▌         | 62/1000 [00:00<00:01, 612.58it/s]"
     ]
    },
    {
     "name": "stdout",
     "output_type": "stream",
     "text": [
      "the accuracy value is :92.7\n",
      "==================================================\n",
      "\n",
      "\n",
      "==================================================\n",
      "knn calculating..... for k= 10\n"
     ]
    },
    {
     "name": "stderr",
     "output_type": "stream",
     "text": [
      "100%|██████████| 1000/1000 [00:01<00:00, 604.26it/s]\n",
      "  7%|▋         | 66/1000 [00:00<00:01, 650.90it/s]"
     ]
    },
    {
     "name": "stdout",
     "output_type": "stream",
     "text": [
      "the accuracy value is :91.9\n",
      "==================================================\n",
      "\n",
      "\n",
      "==================================================\n",
      "knn calculating..... for k= 11\n"
     ]
    },
    {
     "name": "stderr",
     "output_type": "stream",
     "text": [
      "100%|██████████| 1000/1000 [00:01<00:00, 630.93it/s]\n",
      "  6%|▌         | 62/1000 [00:00<00:01, 608.85it/s]"
     ]
    },
    {
     "name": "stdout",
     "output_type": "stream",
     "text": [
      "the accuracy value is :92.30000000000001\n",
      "==================================================\n",
      "\n",
      "\n",
      "==================================================\n",
      "knn calculating..... for k= 12\n"
     ]
    },
    {
     "name": "stderr",
     "output_type": "stream",
     "text": [
      "100%|██████████| 1000/1000 [00:01<00:00, 589.77it/s]\n",
      "  6%|▌         | 61/1000 [00:00<00:01, 602.01it/s]"
     ]
    },
    {
     "name": "stdout",
     "output_type": "stream",
     "text": [
      "the accuracy value is :92.30000000000001\n",
      "==================================================\n",
      "\n",
      "\n",
      "==================================================\n",
      "knn calculating..... for k= 13\n"
     ]
    },
    {
     "name": "stderr",
     "output_type": "stream",
     "text": [
      "100%|██████████| 1000/1000 [00:01<00:00, 586.40it/s]\n",
      "  6%|▌         | 59/1000 [00:00<00:01, 584.08it/s]"
     ]
    },
    {
     "name": "stdout",
     "output_type": "stream",
     "text": [
      "the accuracy value is :92.0\n",
      "==================================================\n",
      "\n",
      "\n",
      "==================================================\n",
      "knn calculating..... for k= 14\n"
     ]
    },
    {
     "name": "stderr",
     "output_type": "stream",
     "text": [
      "100%|██████████| 1000/1000 [00:01<00:00, 589.71it/s]\n",
      "  6%|▌         | 60/1000 [00:00<00:01, 592.79it/s]"
     ]
    },
    {
     "name": "stdout",
     "output_type": "stream",
     "text": [
      "the accuracy value is :92.0\n",
      "==================================================\n",
      "\n",
      "\n",
      "==================================================\n",
      "knn calculating..... for k= 15\n"
     ]
    },
    {
     "name": "stderr",
     "output_type": "stream",
     "text": [
      "100%|██████████| 1000/1000 [00:01<00:00, 593.58it/s]\n",
      "  6%|▌         | 60/1000 [00:00<00:01, 598.91it/s]"
     ]
    },
    {
     "name": "stdout",
     "output_type": "stream",
     "text": [
      "the accuracy value is :92.10000000000001\n",
      "==================================================\n",
      "\n",
      "\n",
      "==================================================\n",
      "knn calculating..... for k= 16\n"
     ]
    },
    {
     "name": "stderr",
     "output_type": "stream",
     "text": [
      "100%|██████████| 1000/1000 [00:01<00:00, 590.33it/s]\n",
      "  6%|▌         | 61/1000 [00:00<00:01, 603.20it/s]"
     ]
    },
    {
     "name": "stdout",
     "output_type": "stream",
     "text": [
      "the accuracy value is :91.9\n",
      "==================================================\n",
      "\n",
      "\n",
      "==================================================\n",
      "knn calculating..... for k= 17\n"
     ]
    },
    {
     "name": "stderr",
     "output_type": "stream",
     "text": [
      "100%|██████████| 1000/1000 [00:01<00:00, 593.86it/s]\n",
      "  6%|▋         | 64/1000 [00:00<00:01, 638.69it/s]"
     ]
    },
    {
     "name": "stdout",
     "output_type": "stream",
     "text": [
      "the accuracy value is :91.7\n",
      "==================================================\n",
      "\n",
      "\n",
      "==================================================\n",
      "knn calculating..... for k= 18\n"
     ]
    },
    {
     "name": "stderr",
     "output_type": "stream",
     "text": [
      "100%|██████████| 1000/1000 [00:01<00:00, 608.03it/s]\n",
      "  6%|▌         | 62/1000 [00:00<00:01, 615.36it/s]"
     ]
    },
    {
     "name": "stdout",
     "output_type": "stream",
     "text": [
      "the accuracy value is :91.7\n",
      "==================================================\n",
      "\n",
      "\n",
      "==================================================\n",
      "knn calculating..... for k= 19\n"
     ]
    },
    {
     "name": "stderr",
     "output_type": "stream",
     "text": [
      "100%|██████████| 1000/1000 [00:01<00:00, 601.54it/s]\n",
      "  6%|▌         | 60/1000 [00:00<00:01, 592.43it/s]"
     ]
    },
    {
     "name": "stdout",
     "output_type": "stream",
     "text": [
      "the accuracy value is :91.60000000000001\n",
      "==================================================\n",
      "\n",
      "\n",
      "==================================================\n",
      "knn calculating..... for k= 20\n"
     ]
    },
    {
     "name": "stderr",
     "output_type": "stream",
     "text": [
      "100%|██████████| 1000/1000 [00:01<00:00, 637.08it/s]\n",
      " 13%|█▎        | 127/1000 [00:00<00:01, 623.34it/s]"
     ]
    },
    {
     "name": "stdout",
     "output_type": "stream",
     "text": [
      "the accuracy value is :91.5\n",
      "==================================================\n",
      "\n",
      "\n",
      "==================================================\n",
      "knn calculating..... for k= 21\n"
     ]
    },
    {
     "name": "stderr",
     "output_type": "stream",
     "text": [
      "100%|██████████| 1000/1000 [00:01<00:00, 631.44it/s]\n",
      "  7%|▋         | 66/1000 [00:00<00:01, 656.33it/s]"
     ]
    },
    {
     "name": "stdout",
     "output_type": "stream",
     "text": [
      "the accuracy value is :91.5\n",
      "==================================================\n",
      "\n",
      "\n",
      "==================================================\n",
      "knn calculating..... for k= 22\n"
     ]
    },
    {
     "name": "stderr",
     "output_type": "stream",
     "text": [
      "100%|██████████| 1000/1000 [00:01<00:00, 634.64it/s]\n",
      " 13%|█▎        | 132/1000 [00:00<00:01, 658.53it/s]"
     ]
    },
    {
     "name": "stdout",
     "output_type": "stream",
     "text": [
      "the accuracy value is :91.7\n",
      "==================================================\n",
      "\n",
      "\n",
      "==================================================\n",
      "knn calculating..... for k= 23\n"
     ]
    },
    {
     "name": "stderr",
     "output_type": "stream",
     "text": [
      "100%|██████████| 1000/1000 [00:01<00:00, 662.14it/s]\n",
      "  6%|▌         | 60/1000 [00:00<00:01, 597.87it/s]"
     ]
    },
    {
     "name": "stdout",
     "output_type": "stream",
     "text": [
      "the accuracy value is :91.4\n",
      "==================================================\n",
      "\n",
      "\n",
      "==================================================\n",
      "knn calculating..... for k= 24\n"
     ]
    },
    {
     "name": "stderr",
     "output_type": "stream",
     "text": [
      "100%|██████████| 1000/1000 [00:01<00:00, 623.52it/s]\n",
      "  6%|▋         | 65/1000 [00:00<00:01, 647.34it/s]"
     ]
    },
    {
     "name": "stdout",
     "output_type": "stream",
     "text": [
      "the accuracy value is :90.60000000000001\n",
      "==================================================\n",
      "\n",
      "\n",
      "==================================================\n",
      "knn calculating..... for k= 25\n"
     ]
    },
    {
     "name": "stderr",
     "output_type": "stream",
     "text": [
      "100%|██████████| 1000/1000 [00:01<00:00, 640.48it/s]\n",
      " 12%|█▏        | 123/1000 [00:00<00:01, 601.53it/s]"
     ]
    },
    {
     "name": "stdout",
     "output_type": "stream",
     "text": [
      "the accuracy value is :90.9\n",
      "==================================================\n",
      "\n",
      "\n",
      "==================================================\n",
      "knn calculating..... for k= 26\n"
     ]
    },
    {
     "name": "stderr",
     "output_type": "stream",
     "text": [
      "100%|██████████| 1000/1000 [00:01<00:00, 641.47it/s]\n",
      " 12%|█▎        | 125/1000 [00:00<00:01, 632.55it/s]"
     ]
    },
    {
     "name": "stdout",
     "output_type": "stream",
     "text": [
      "the accuracy value is :90.60000000000001\n",
      "==================================================\n",
      "\n",
      "\n",
      "==================================================\n",
      "knn calculating..... for k= 27\n"
     ]
    },
    {
     "name": "stderr",
     "output_type": "stream",
     "text": [
      "100%|██████████| 1000/1000 [00:01<00:00, 619.76it/s]\n",
      " 12%|█▎        | 125/1000 [00:00<00:01, 623.31it/s]"
     ]
    },
    {
     "name": "stdout",
     "output_type": "stream",
     "text": [
      "the accuracy value is :90.60000000000001\n",
      "==================================================\n",
      "\n",
      "\n",
      "==================================================\n",
      "knn calculating..... for k= 28\n"
     ]
    },
    {
     "name": "stderr",
     "output_type": "stream",
     "text": [
      "100%|██████████| 1000/1000 [00:01<00:00, 624.54it/s]\n",
      " 13%|█▎        | 129/1000 [00:00<00:01, 646.88it/s]"
     ]
    },
    {
     "name": "stdout",
     "output_type": "stream",
     "text": [
      "the accuracy value is :90.5\n",
      "==================================================\n",
      "\n",
      "\n",
      "==================================================\n",
      "knn calculating..... for k= 29\n"
     ]
    },
    {
     "name": "stderr",
     "output_type": "stream",
     "text": [
      "100%|██████████| 1000/1000 [00:01<00:00, 640.17it/s]\n",
      " 12%|█▏        | 124/1000 [00:00<00:01, 597.77it/s]"
     ]
    },
    {
     "name": "stdout",
     "output_type": "stream",
     "text": [
      "the accuracy value is :90.4\n",
      "==================================================\n",
      "\n",
      "\n",
      "==================================================\n",
      "knn calculating..... for k= 30\n"
     ]
    },
    {
     "name": "stderr",
     "output_type": "stream",
     "text": [
      "100%|██████████| 1000/1000 [00:01<00:00, 635.27it/s]"
     ]
    },
    {
     "name": "stdout",
     "output_type": "stream",
     "text": [
      "the accuracy value is :89.7\n",
      "==================================================\n",
      "\n",
      "\n",
      "total time taken by knn is :48.41345000267029\n"
     ]
    },
    {
     "name": "stderr",
     "output_type": "stream",
     "text": [
      "\n"
     ]
    }
   ],
   "source": [
    "#there is one problem still here \n",
    "#since every point that lies in the neighbourhood has weight values equal to 1 \n",
    "#meaning the position of the nearest neighbour does not matter as much as it's in the neighbourhood\n",
    "#what could have been improved over here is if my weights change their value according to the distance \n",
    "#meaning lower distance should have higher weight value \n",
    "#substitute  the word vote in the above example with these weights, instead now I can calculate the \n",
    "#total weight score of each class and whoever has max weight should give better accuracy\n",
    "#weighted knn for k=10\n",
    "def weighted_majority_vote(distances,indexes,y_train,weight_penalty):\n",
    "    \"\"\"computes the weighted majority vote and returns a label\"\"\"\n",
    "    row,col=distances.shape\n",
    "    distances=np.power(distances,weight_penalty)\n",
    "    values=np.divide(np.ones((row,col)),distances)\n",
    "    unique_elements=np.unique(y_train)# we can have many classes, we might have to use knn for n classes\n",
    "    #instead of three so with dynamic approach we can reuse this function\n",
    "    class_count={}\n",
    "    for element in unique_elements: #make a dictionary of all elements count\n",
    "        class_count[element]=0\n",
    "    #print(class_count)\n",
    "    i=0\n",
    "    for ele1 in indexes:\n",
    "        ele1=int(ele1)\n",
    "        label=y_train[ele1]\n",
    "        #print(ele1,label)\n",
    "        class_count[label]+=float(values[i]) #add the corresponding weight in dictionary\n",
    "        i+=1\n",
    "        \n",
    "    #print(class_count)#this stores the vote count\n",
    "    maximum = max(class_count.values())\n",
    "    #print(maximum) #this is the maximum value in dictionary lets try to look where is this max value\n",
    "    for key, value in class_count.items():\n",
    "        if(value==maximum):\n",
    "            label=key\n",
    "            break\n",
    "    return label   \n",
    "\n",
    "import time\n",
    "tic=time.time()\n",
    "k_ranges_weight=[]\n",
    "accuracy_ranges_weight=[]\n",
    "\n",
    "for k in range(1,31):\n",
    "    y_test_predicted=[]\n",
    "    print(\"=\"*50)\n",
    "    print(\"knn calculating..... for k= {}\".format(k))\n",
    "\n",
    "    for element in tqdm(x_test):\n",
    "        indexes,distances=calculateDistances(x_train, element)\n",
    "        #print(distances.shape)\n",
    "        indexes,distances=slice_k(k,indexes,distances)\n",
    "        label=weighted_majority_vote(distances,indexes,y_train,1)\n",
    "        y_test_predicted.append(label)\n",
    "\n",
    "    y_test_predicted=np.asarray(y_test_predicted)##y_predicted is my predictions\n",
    "\n",
    "    acc=accuracy_score(y_test,y_test_predicted)*100\n",
    "    print(\"the accuracy value is :{}\".format(acc))\n",
    "    print(\"=\"*50)\n",
    "    print(\"\\n\") \n",
    "    k_ranges_weight.append(k)\n",
    "    accuracy_ranges_weight.append(acc)\n",
    "\n",
    "toc=time.time()\n",
    "weighted_knn_time=toc-tic\n",
    "print(\"total time taken by knn is :{}\".format(weighted_knn_time))\n"
   ]
  },
  {
   "cell_type": "code",
   "execution_count": 11,
   "metadata": {},
   "outputs": [
    {
     "name": "stdout",
     "output_type": "stream",
     "text": [
      "[89.5, 89.1, 91.2, 91.4, 92.10000000000001, 92.0, 91.8, 91.4, 92.7, 91.9, 92.30000000000001, 92.30000000000001, 92.0, 92.0, 92.10000000000001, 91.9, 91.7, 91.7, 91.60000000000001, 91.5, 91.5, 91.7, 91.4, 90.60000000000001, 90.9, 90.60000000000001, 90.60000000000001, 90.5, 90.4, 89.7]\n"
     ]
    },
    {
     "data": {
      "image/png": "[encoded data removed]",
      "text/plain": [
       "<Figure size 432x288 with 1 Axes>"
      ]
     },
     "metadata": {
      "needs_background": "light"
     },
     "output_type": "display_data"
    },
    {
     "name": "stdout",
     "output_type": "stream",
     "text": [
      "maximum accuracy is 92.7 at 8th run\n",
      "the best k value is:9, and the accuracy is 92.7\n"
     ]
    }
   ],
   "source": [
    "print(accuracy_ranges_weight)\n",
    "#plotting graphs with matplot lib\n",
    "%matplotlib inline\n",
    "import warnings\n",
    "warnings.filterwarnings(\"ignore\")\n",
    "import matplotlib.pyplot as plt\n",
    "plt.figure(1, figsize=(6, 4))\n",
    "plt.clf()\n",
    "plt.plot(k_ranges_weight, accuracy_ranges_weight, linewidth=2)\n",
    "plt.plot(k_ranges_weight, accuracy_ranges_weight, 'ro')\n",
    "plt.axis('tight')\n",
    "plt.grid()\n",
    "plt.xlabel('k values')\n",
    "plt.ylabel('accuracy')\n",
    "plt.title(\"knn with weights:{}sec\".format(weighted_knn_time))\n",
    "plt.show()\n",
    "ind=accuracy_ranges_weight.index(max(accuracy_ranges_weight))\n",
    "print(\"maximum accuracy is {} at {}th run\".format(max(accuracy_ranges_weight),ind))\n",
    "best_k_weight=k_ranges_weight[ind]\n",
    "print(\"the best k value is:{}, and the accuracy is {}\".format(best_k_weight,accuracy_ranges_weight[ind]))"
   ]
  },
  {
   "cell_type": "code",
   "execution_count": 12,
   "metadata": {},
   "outputs": [
    {
     "data": {
      "image/png": "[encoded data removed]",
      "text/plain": [
       "<Figure size 432x288 with 1 Axes>"
      ]
     },
     "metadata": {
      "needs_background": "light"
     },
     "output_type": "display_data"
    }
   ],
   "source": [
    "#comparison of both knn approaches\n",
    "#plotting graphs with matplot lib\n",
    "%matplotlib inline\n",
    "import warnings\n",
    "warnings.filterwarnings(\"ignore\")\n",
    "import matplotlib.pyplot as plt\n",
    "plt.figure(1, figsize=(6, 4))\n",
    "plt.clf()\n",
    "plt.plot(k_ranges_weight, accuracy_ranges_weight,\"r-\", linewidth=2,label='knn')\n",
    "plt.plot(k_ranges, accuracy_ranges,linewidth=2,label=\"weighted knn\")\n",
    "plt.legend(['weighted knn',\"knn\"])\n",
    "plt.axis('tight')\n",
    "plt.grid()\n",
    "plt.xlabel('k values')\n",
    "plt.ylabel('accuracy')\n",
    "plt.title(\"knn vs weighted knn\")\n",
    "plt.legend()\n",
    "plt.show()\n",
    "#there is one problem still here \n",
    "#since every point that lies in the neighbourhood has weight values equal to 1 \n",
    "#meaning the position of the nearest neighbour does not matter as much as it's in the neighbourhood\n",
    "#what could have been improved over here is if my weights change their value according to the distance \n",
    "#meaning lower distance should have higher weight value \n",
    "#substitute  the word vote in the above example with these weights, instead now I can calculate the \n",
    "#total weight score of each class and whoever has max weight should give better accuracy"
   ]
  },
  {
   "cell_type": "markdown",
   "metadata": {},
   "source": [
    "# weighted knn for k=10 (as asked in the second part)"
   ]
  },
  {
   "cell_type": "code",
   "execution_count": 13,
   "metadata": {},
   "outputs": [
    {
     "name": "stderr",
     "output_type": "stream",
     "text": [
      "\r",
      "  0%|          | 0/1000 [00:00<?, ?it/s]"
     ]
    },
    {
     "name": "stdout",
     "output_type": "stream",
     "text": [
      "==================================================\n",
      "knn calculating..... for k= 10\n"
     ]
    },
    {
     "name": "stderr",
     "output_type": "stream",
     "text": [
      "100%|██████████| 1000/1000 [00:01<00:00, 645.73it/s]"
     ]
    },
    {
     "name": "stdout",
     "output_type": "stream",
     "text": [
      "the accuracy value is :91.9\n",
      "==================================================\n",
      "\n",
      "\n"
     ]
    },
    {
     "name": "stderr",
     "output_type": "stream",
     "text": [
      "\n"
     ]
    }
   ],
   "source": [
    "#weighted knn for k=10\n",
    "\n",
    "def weighted_majority_vote(distances,indexes,y_train,weight_penalty):\n",
    "    \"\"\"computes the weighted majority vote and returns a label\"\"\"\n",
    "    row,col=distances.shape\n",
    "    distances=np.power(distances,weight_penalty)\n",
    "    values=np.divide(np.ones((row,col)),distances)\n",
    "    unique_elements=np.unique(y_train)# we can have many classes, we might have to use knn for n classes\n",
    "    #instead of three so with dynamic approach we can reuse this function\n",
    "    class_count={}\n",
    "    for element in unique_elements: #make a dictionary of all elements count\n",
    "        class_count[element]=0\n",
    "    #print(class_count)\n",
    "    i=0\n",
    "    for ele1 in indexes:\n",
    "        ele1=int(ele1)\n",
    "        label=y_train[ele1]\n",
    "        #print(ele1,label)\n",
    "        class_count[label]+=float(values[i]) #add the corresponding weight in dictionary\n",
    "        i+=1\n",
    "        \n",
    "    #print(class_count)#this stores the vote count\n",
    "    maximum = max(class_count.values())\n",
    "    #print(maximum) #this is the maximum value in dictionary lets try to look where is this max value\n",
    "    for key, value in class_count.items():\n",
    "        if(value==maximum):\n",
    "            label=key\n",
    "            break\n",
    "    return label  \n",
    "\n",
    "k=10\n",
    "\n",
    "y_test_predicted=[]\n",
    "print(\"=\"*50)\n",
    "print(\"knn calculating..... for k= {}\".format(k))\n",
    "\n",
    "for element in tqdm(x_test):\n",
    "    indexes,distances=calculateDistances(x_train, element)\n",
    "    #print(distances.shape)\n",
    "    indexes,distances=slice_k(k,indexes,distances)\n",
    "    label=weighted_majority_vote(distances,indexes,y_train,weight_penalty=1)\n",
    "    y_test_predicted.append(label)\n",
    "\n",
    "y_test_predicted=np.asarray(y_test_predicted)##y_predicted is my predictions\n",
    "\n",
    "acc=accuracy_score(y_test,y_test_predicted)*100\n",
    "print(\"the accuracy value is :{}\".format(acc))\n",
    "print(\"=\"*50)\n",
    "print(\"\\n\") \n",
    "\n"
   ]
  },
  {
   "cell_type": "markdown",
   "metadata": {},
   "source": [
    "# Problem with euclidean distance as measure \n",
    "\n",
    "as explained in the pdf we know euclidean measure is not the best measure, as the feature with bigger range dominates the feature with smaller hence we have to use col standardization that equally scales features proportitional and shifting the centre to the origin \n",
    "\n",
    "In this demonstration I am allowed to tackle the problem with high level libraries"
   ]
  },
  {
   "cell_type": "code",
   "execution_count": 27,
   "metadata": {},
   "outputs": [
    {
     "name": "stderr",
     "output_type": "stream",
     "text": [
      "  6%|▋         | 64/1000 [00:00<00:01, 634.73it/s]"
     ]
    },
    {
     "name": "stdout",
     "output_type": "stream",
     "text": [
      "==================================================\n",
      "knn calculating..... for k= 1\n"
     ]
    },
    {
     "name": "stderr",
     "output_type": "stream",
     "text": [
      "100%|██████████| 1000/1000 [00:01<00:00, 658.25it/s]\n",
      "  7%|▋         | 68/1000 [00:00<00:01, 676.43it/s]"
     ]
    },
    {
     "name": "stdout",
     "output_type": "stream",
     "text": [
      "the accuracy value is :83.2\n",
      "==================================================\n",
      "\n",
      "\n",
      "==================================================\n",
      "knn calculating..... for k= 2\n"
     ]
    },
    {
     "name": "stderr",
     "output_type": "stream",
     "text": [
      "100%|██████████| 1000/1000 [00:01<00:00, 666.97it/s]\n",
      "  6%|▋         | 63/1000 [00:00<00:01, 626.15it/s]"
     ]
    },
    {
     "name": "stdout",
     "output_type": "stream",
     "text": [
      "the accuracy value is :83.5\n",
      "==================================================\n",
      "\n",
      "\n",
      "==================================================\n",
      "knn calculating..... for k= 3\n"
     ]
    },
    {
     "name": "stderr",
     "output_type": "stream",
     "text": [
      "100%|██████████| 1000/1000 [00:01<00:00, 677.32it/s]\n",
      " 13%|█▎        | 134/1000 [00:00<00:01, 667.49it/s]"
     ]
    },
    {
     "name": "stdout",
     "output_type": "stream",
     "text": [
      "the accuracy value is :83.89999999999999\n",
      "==================================================\n",
      "\n",
      "\n",
      "==================================================\n",
      "knn calculating..... for k= 4\n"
     ]
    },
    {
     "name": "stderr",
     "output_type": "stream",
     "text": [
      "100%|██████████| 1000/1000 [00:01<00:00, 644.36it/s]\n",
      "  6%|▋         | 63/1000 [00:00<00:01, 629.56it/s]"
     ]
    },
    {
     "name": "stdout",
     "output_type": "stream",
     "text": [
      "the accuracy value is :84.1\n",
      "==================================================\n",
      "\n",
      "\n",
      "==================================================\n",
      "knn calculating..... for k= 5\n"
     ]
    },
    {
     "name": "stderr",
     "output_type": "stream",
     "text": [
      "100%|██████████| 1000/1000 [00:01<00:00, 619.74it/s]\n",
      "  6%|▌         | 60/1000 [00:00<00:01, 590.54it/s]"
     ]
    },
    {
     "name": "stdout",
     "output_type": "stream",
     "text": [
      "the accuracy value is :84.0\n",
      "==================================================\n",
      "\n",
      "\n",
      "==================================================\n",
      "knn calculating..... for k= 6\n"
     ]
    },
    {
     "name": "stderr",
     "output_type": "stream",
     "text": [
      "100%|██████████| 1000/1000 [00:01<00:00, 656.19it/s]\n",
      "  7%|▋         | 68/1000 [00:00<00:01, 670.65it/s]"
     ]
    },
    {
     "name": "stdout",
     "output_type": "stream",
     "text": [
      "the accuracy value is :83.89999999999999\n",
      "==================================================\n",
      "\n",
      "\n",
      "==================================================\n",
      "knn calculating..... for k= 7\n"
     ]
    },
    {
     "name": "stderr",
     "output_type": "stream",
     "text": [
      "100%|██████████| 1000/1000 [00:01<00:00, 669.02it/s]\n",
      " 14%|█▎        | 136/1000 [00:00<00:01, 677.58it/s]"
     ]
    },
    {
     "name": "stdout",
     "output_type": "stream",
     "text": [
      "the accuracy value is :83.7\n",
      "==================================================\n",
      "\n",
      "\n",
      "==================================================\n",
      "knn calculating..... for k= 8\n"
     ]
    },
    {
     "name": "stderr",
     "output_type": "stream",
     "text": [
      "100%|██████████| 1000/1000 [00:01<00:00, 676.29it/s]\n",
      " 14%|█▎        | 136/1000 [00:00<00:01, 677.39it/s]"
     ]
    },
    {
     "name": "stdout",
     "output_type": "stream",
     "text": [
      "the accuracy value is :84.89999999999999\n",
      "==================================================\n",
      "\n",
      "\n",
      "==================================================\n",
      "knn calculating..... for k= 9\n"
     ]
    },
    {
     "name": "stderr",
     "output_type": "stream",
     "text": [
      "100%|██████████| 1000/1000 [00:01<00:00, 688.03it/s]\n",
      "  7%|▋         | 70/1000 [00:00<00:01, 692.40it/s]"
     ]
    },
    {
     "name": "stdout",
     "output_type": "stream",
     "text": [
      "the accuracy value is :83.6\n",
      "==================================================\n",
      "\n",
      "\n",
      "==================================================\n",
      "knn calculating..... for k= 10\n"
     ]
    },
    {
     "name": "stderr",
     "output_type": "stream",
     "text": [
      "100%|██████████| 1000/1000 [00:01<00:00, 690.57it/s]\n",
      "  7%|▋         | 70/1000 [00:00<00:01, 695.20it/s]"
     ]
    },
    {
     "name": "stdout",
     "output_type": "stream",
     "text": [
      "the accuracy value is :83.2\n",
      "==================================================\n",
      "\n",
      "\n",
      "==================================================\n",
      "knn calculating..... for k= 11\n"
     ]
    },
    {
     "name": "stderr",
     "output_type": "stream",
     "text": [
      "100%|██████████| 1000/1000 [00:01<00:00, 636.94it/s]\n",
      "  6%|▋         | 64/1000 [00:00<00:01, 633.87it/s]"
     ]
    },
    {
     "name": "stdout",
     "output_type": "stream",
     "text": [
      "the accuracy value is :82.69999999999999\n",
      "==================================================\n",
      "\n",
      "\n",
      "==================================================\n",
      "knn calculating..... for k= 12\n"
     ]
    },
    {
     "name": "stderr",
     "output_type": "stream",
     "text": [
      "100%|██████████| 1000/1000 [00:01<00:00, 651.99it/s]\n",
      "  7%|▋         | 70/1000 [00:00<00:01, 695.79it/s]"
     ]
    },
    {
     "name": "stdout",
     "output_type": "stream",
     "text": [
      "the accuracy value is :82.39999999999999\n",
      "==================================================\n",
      "\n",
      "\n",
      "==================================================\n",
      "knn calculating..... for k= 13\n"
     ]
    },
    {
     "name": "stderr",
     "output_type": "stream",
     "text": [
      "100%|██████████| 1000/1000 [00:01<00:00, 690.76it/s]\n",
      "  7%|▋         | 70/1000 [00:00<00:01, 694.04it/s]"
     ]
    },
    {
     "name": "stdout",
     "output_type": "stream",
     "text": [
      "the accuracy value is :83.5\n",
      "==================================================\n",
      "\n",
      "\n",
      "==================================================\n",
      "knn calculating..... for k= 14\n"
     ]
    },
    {
     "name": "stderr",
     "output_type": "stream",
     "text": [
      "100%|██████████| 1000/1000 [00:01<00:00, 681.00it/s]\n",
      " 14%|█▍        | 138/1000 [00:00<00:01, 687.91it/s]"
     ]
    },
    {
     "name": "stdout",
     "output_type": "stream",
     "text": [
      "the accuracy value is :82.3\n",
      "==================================================\n",
      "\n",
      "\n",
      "==================================================\n",
      "knn calculating..... for k= 15\n"
     ]
    },
    {
     "name": "stderr",
     "output_type": "stream",
     "text": [
      "100%|██████████| 1000/1000 [00:01<00:00, 680.41it/s]\n",
      "  7%|▋         | 69/1000 [00:00<00:01, 683.53it/s]"
     ]
    },
    {
     "name": "stdout",
     "output_type": "stream",
     "text": [
      "the accuracy value is :83.1\n",
      "==================================================\n",
      "\n",
      "\n",
      "==================================================\n",
      "knn calculating..... for k= 16\n"
     ]
    },
    {
     "name": "stderr",
     "output_type": "stream",
     "text": [
      "100%|██████████| 1000/1000 [00:01<00:00, 674.41it/s]\n",
      "  7%|▋         | 69/1000 [00:00<00:01, 681.58it/s]"
     ]
    },
    {
     "name": "stdout",
     "output_type": "stream",
     "text": [
      "the accuracy value is :82.3\n",
      "==================================================\n",
      "\n",
      "\n",
      "==================================================\n",
      "knn calculating..... for k= 17\n"
     ]
    },
    {
     "name": "stderr",
     "output_type": "stream",
     "text": [
      "100%|██████████| 1000/1000 [00:01<00:00, 683.96it/s]\n",
      "  6%|▋         | 65/1000 [00:00<00:01, 645.13it/s]"
     ]
    },
    {
     "name": "stdout",
     "output_type": "stream",
     "text": [
      "the accuracy value is :82.39999999999999\n",
      "==================================================\n",
      "\n",
      "\n",
      "==================================================\n",
      "knn calculating..... for k= 18\n"
     ]
    },
    {
     "name": "stderr",
     "output_type": "stream",
     "text": [
      "100%|██████████| 1000/1000 [00:01<00:00, 674.28it/s]\n",
      "  7%|▋         | 66/1000 [00:00<00:01, 652.91it/s]"
     ]
    },
    {
     "name": "stdout",
     "output_type": "stream",
     "text": [
      "the accuracy value is :82.19999999999999\n",
      "==================================================\n",
      "\n",
      "\n",
      "==================================================\n",
      "knn calculating..... for k= 19\n"
     ]
    },
    {
     "name": "stderr",
     "output_type": "stream",
     "text": [
      "100%|██████████| 1000/1000 [00:01<00:00, 672.40it/s]\n",
      "  7%|▋         | 69/1000 [00:00<00:01, 687.83it/s]"
     ]
    },
    {
     "name": "stdout",
     "output_type": "stream",
     "text": [
      "the accuracy value is :82.0\n",
      "==================================================\n",
      "\n",
      "\n",
      "==================================================\n",
      "knn calculating..... for k= 20\n"
     ]
    },
    {
     "name": "stderr",
     "output_type": "stream",
     "text": [
      "100%|██████████| 1000/1000 [00:01<00:00, 650.54it/s]\n",
      "  7%|▋         | 69/1000 [00:00<00:01, 681.41it/s]"
     ]
    },
    {
     "name": "stdout",
     "output_type": "stream",
     "text": [
      "the accuracy value is :81.89999999999999\n",
      "==================================================\n",
      "\n",
      "\n",
      "==================================================\n",
      "knn calculating..... for k= 21\n"
     ]
    },
    {
     "name": "stderr",
     "output_type": "stream",
     "text": [
      "100%|██████████| 1000/1000 [00:01<00:00, 629.93it/s]\n",
      "  6%|▋         | 63/1000 [00:00<00:01, 628.99it/s]"
     ]
    },
    {
     "name": "stdout",
     "output_type": "stream",
     "text": [
      "the accuracy value is :81.39999999999999\n",
      "==================================================\n",
      "\n",
      "\n",
      "==================================================\n",
      "knn calculating..... for k= 22\n"
     ]
    },
    {
     "name": "stderr",
     "output_type": "stream",
     "text": [
      "100%|██████████| 1000/1000 [00:01<00:00, 630.87it/s]\n",
      "  7%|▋         | 69/1000 [00:00<00:01, 684.31it/s]"
     ]
    },
    {
     "name": "stdout",
     "output_type": "stream",
     "text": [
      "the accuracy value is :82.0\n",
      "==================================================\n",
      "\n",
      "\n",
      "==================================================\n",
      "knn calculating..... for k= 23\n"
     ]
    },
    {
     "name": "stderr",
     "output_type": "stream",
     "text": [
      "100%|██████████| 1000/1000 [00:01<00:00, 632.10it/s]\n",
      " 13%|█▎        | 132/1000 [00:00<00:01, 663.25it/s]"
     ]
    },
    {
     "name": "stdout",
     "output_type": "stream",
     "text": [
      "the accuracy value is :81.39999999999999\n",
      "==================================================\n",
      "\n",
      "\n",
      "==================================================\n",
      "knn calculating..... for k= 24\n"
     ]
    },
    {
     "name": "stderr",
     "output_type": "stream",
     "text": [
      "100%|██████████| 1000/1000 [00:01<00:00, 624.89it/s]\n",
      "  6%|▋         | 63/1000 [00:00<00:01, 623.68it/s]"
     ]
    },
    {
     "name": "stdout",
     "output_type": "stream",
     "text": [
      "the accuracy value is :81.39999999999999\n",
      "==================================================\n",
      "\n",
      "\n",
      "==================================================\n",
      "knn calculating..... for k= 25\n"
     ]
    },
    {
     "name": "stderr",
     "output_type": "stream",
     "text": [
      "100%|██████████| 1000/1000 [00:01<00:00, 663.82it/s]\n",
      " 14%|█▍        | 138/1000 [00:00<00:01, 686.27it/s]"
     ]
    },
    {
     "name": "stdout",
     "output_type": "stream",
     "text": [
      "the accuracy value is :81.5\n",
      "==================================================\n",
      "\n",
      "\n",
      "==================================================\n",
      "knn calculating..... for k= 26\n"
     ]
    },
    {
     "name": "stderr",
     "output_type": "stream",
     "text": [
      "100%|██████████| 1000/1000 [00:01<00:00, 657.69it/s]\n",
      " 12%|█▏        | 120/1000 [00:00<00:01, 598.04it/s]"
     ]
    },
    {
     "name": "stdout",
     "output_type": "stream",
     "text": [
      "the accuracy value is :81.69999999999999\n",
      "==================================================\n",
      "\n",
      "\n",
      "==================================================\n",
      "knn calculating..... for k= 27\n"
     ]
    },
    {
     "name": "stderr",
     "output_type": "stream",
     "text": [
      "100%|██████████| 1000/1000 [00:01<00:00, 630.88it/s]\n",
      "  7%|▋         | 70/1000 [00:00<00:01, 697.55it/s]"
     ]
    },
    {
     "name": "stdout",
     "output_type": "stream",
     "text": [
      "the accuracy value is :81.5\n",
      "==================================================\n",
      "\n",
      "\n",
      "==================================================\n",
      "knn calculating..... for k= 28\n"
     ]
    },
    {
     "name": "stderr",
     "output_type": "stream",
     "text": [
      "100%|██████████| 1000/1000 [00:01<00:00, 604.10it/s]\n",
      "  6%|▌         | 62/1000 [00:00<00:01, 613.51it/s]"
     ]
    },
    {
     "name": "stdout",
     "output_type": "stream",
     "text": [
      "the accuracy value is :81.39999999999999\n",
      "==================================================\n",
      "\n",
      "\n",
      "==================================================\n",
      "knn calculating..... for k= 29\n"
     ]
    },
    {
     "name": "stderr",
     "output_type": "stream",
     "text": [
      "100%|██████████| 1000/1000 [00:01<00:00, 622.60it/s]\n",
      "  6%|▋         | 63/1000 [00:00<00:01, 622.07it/s]"
     ]
    },
    {
     "name": "stdout",
     "output_type": "stream",
     "text": [
      "the accuracy value is :80.9\n",
      "==================================================\n",
      "\n",
      "\n",
      "==================================================\n",
      "knn calculating..... for k= 30\n"
     ]
    },
    {
     "name": "stderr",
     "output_type": "stream",
     "text": [
      "100%|██████████| 1000/1000 [00:01<00:00, 603.53it/s]"
     ]
    },
    {
     "name": "stdout",
     "output_type": "stream",
     "text": [
      "the accuracy value is :81.10000000000001\n",
      "==================================================\n",
      "\n",
      "\n",
      "the exection time on knn after std is :46.02084302902222\n"
     ]
    },
    {
     "name": "stderr",
     "output_type": "stream",
     "text": [
      "\n"
     ]
    }
   ],
   "source": [
    "#upon loading we found that the data has total 11 cols starting from 1 as the 1st col\n",
    "#or you can say 10 cols starting from 0 as the 1st col\n",
    "#standardize the data necessary before pca\n",
    "# Data-preprocessing: Standardizing the data\n",
    "def normalize_X(x):\n",
    "    maximum=np.amax(x, axis=0) #col wise max\n",
    "    minimum=np.amin(x, axis=0) #col wise min\n",
    "    deno=np.subtract(maximum,abs(minimum))\n",
    "    x=(x-minimum)/deno\n",
    "    return x\n",
    "    \n",
    "\n",
    "from numpy import genfromtxt\n",
    "my_data = genfromtxt('trainingData.csv', delimiter=',')\n",
    "\n",
    "y_train=my_data[:,10]# this prints the labels\n",
    "x_train=my_data[:,:-1] #every row except the last row until last col\n",
    "x_train=normalize_X(x_train)\n",
    "\n",
    "\n",
    "#x_test =normalize_X(x_test)\n",
    "my_data = genfromtxt('testData.csv', delimiter=',')\n",
    "y_test=my_data[:,10]\n",
    "x_test=my_data[:,:-1]\n",
    "x_test=normalize_X(x_test)\n",
    "\n",
    "\n",
    "\n",
    "#normal knn\n",
    "tic=time.time()\n",
    "k_ranges_std=[]\n",
    "accuracy_ranges_std=[]\n",
    "for k in range(1,31):\n",
    "    y_test_predicted=[]\n",
    "    print(\"=\"*50)\n",
    "    print(\"knn calculating..... for k= {}\".format(k))\n",
    "\n",
    "    for element in tqdm(x_test):\n",
    "        indexes,distances=calculateDistances(x_train, element)\n",
    "        #print(distances.shape)\n",
    "        indexes,distances=slice_k(k,indexes,distances)\n",
    "        label=majority_vote(indexes,y_train)\n",
    "        y_test_predicted.append(label)\n",
    "\n",
    "    y_test_predicted=np.asarray(y_test_predicted)##y_predicted is my predictions\n",
    "\n",
    "    acc=accuracy_score(y_test,y_test_predicted)*100\n",
    "    print(\"the accuracy value is :{}\".format(acc))\n",
    "    print(\"=\"*50)\n",
    "    print(\"\\n\")\n",
    "    k_ranges_std.append(k)\n",
    "    accuracy_ranges_std.append(acc)\n",
    "toc=time.time() \n",
    "print(\"the exection time on knn after std is :{}\".format(toc-tic))\n"
   ]
  },
  {
   "cell_type": "code",
   "execution_count": 28,
   "metadata": {},
   "outputs": [
    {
     "name": "stdout",
     "output_type": "stream",
     "text": [
      "[83.2, 83.5, 83.89999999999999, 84.1, 84.0, 83.89999999999999, 83.7, 84.89999999999999, 83.6, 83.2, 82.69999999999999, 82.39999999999999, 83.5, 82.3, 83.1, 82.3, 82.39999999999999, 82.19999999999999, 82.0, 81.89999999999999, 81.39999999999999, 82.0, 81.39999999999999, 81.39999999999999, 81.5, 81.69999999999999, 81.5, 81.39999999999999, 80.9, 81.10000000000001]\n"
     ]
    },
    {
     "data": {
      "image/png": "[encoded data removed]",
      "text/plain": [
       "<Figure size 432x288 with 1 Axes>"
      ]
     },
     "metadata": {
      "needs_background": "light"
     },
     "output_type": "display_data"
    },
    {
     "name": "stdout",
     "output_type": "stream",
     "text": [
      "maximum accuracy is 84.89999999999999 at 8th run\n",
      "the best k value is:9, and the accuracy is 83.6\n"
     ]
    }
   ],
   "source": [
    "print(accuracy_ranges_std)\n",
    "#plotting graphs with matplot lib\n",
    "%matplotlib inline\n",
    "import warnings\n",
    "warnings.filterwarnings(\"ignore\")\n",
    "import matplotlib.pyplot as plt\n",
    "plt.figure(1, figsize=(6, 4))\n",
    "plt.clf()\n",
    "plt.plot(k_ranges_std, accuracy_ranges_std, linewidth=2)\n",
    "plt.plot(k_ranges, accuracy_ranges)\n",
    "plt.legend([\"normalized knn\",\"normal knn\"])\n",
    "plt.axis('tight')\n",
    "plt.grid()\n",
    "plt.xlabel('k values')\n",
    "plt.ylabel('accuracy')\n",
    "plt.show()\n",
    "ind=accuracy_ranges.index(max(accuracy_ranges))\n",
    "print(\"maximum accuracy is {} at {}th run\".format(max(accuracy_ranges_std),ind))\n",
    "best_k_std=k_ranges_std[ind]\n",
    "print(\"the best k value is:{}, and the accuracy is {}\".format(best_k_std,accuracy_ranges_std[ind]))"
   ]
  },
  {
   "cell_type": "markdown",
   "metadata": {},
   "source": [
    "In the above diagram we see that normalization does not help instead it reduces the accuracy."
   ]
  },
  {
   "cell_type": "code",
   "execution_count": 29,
   "metadata": {},
   "outputs": [
    {
     "name": "stderr",
     "output_type": "stream",
     "text": [
      "\r",
      "  0%|          | 0/1000 [00:00<?, ?it/s]"
     ]
    },
    {
     "name": "stdout",
     "output_type": "stream",
     "text": [
      "==================================================\n",
      "knn calculating..... for k= 1\n"
     ]
    },
    {
     "name": "stderr",
     "output_type": "stream",
     "text": [
      "100%|██████████| 1000/1000 [00:01<00:00, 606.15it/s]\n",
      " 12%|█▏        | 123/1000 [00:00<00:01, 613.91it/s]"
     ]
    },
    {
     "name": "stdout",
     "output_type": "stream",
     "text": [
      "the accuracy value is :83.2\n",
      "==================================================\n",
      "\n",
      "\n",
      "==================================================\n",
      "knn calculating..... for k= 2\n"
     ]
    },
    {
     "name": "stderr",
     "output_type": "stream",
     "text": [
      "100%|██████████| 1000/1000 [00:01<00:00, 620.39it/s]\n",
      "  6%|▌         | 60/1000 [00:00<00:01, 597.50it/s]"
     ]
    },
    {
     "name": "stdout",
     "output_type": "stream",
     "text": [
      "the accuracy value is :82.8\n",
      "==================================================\n",
      "\n",
      "\n",
      "==================================================\n",
      "knn calculating..... for k= 3\n"
     ]
    },
    {
     "name": "stderr",
     "output_type": "stream",
     "text": [
      "100%|██████████| 1000/1000 [00:01<00:00, 584.21it/s]\n",
      "  6%|▌         | 62/1000 [00:00<00:01, 619.94it/s]"
     ]
    },
    {
     "name": "stdout",
     "output_type": "stream",
     "text": [
      "the accuracy value is :83.6\n",
      "==================================================\n",
      "\n",
      "\n",
      "==================================================\n",
      "knn calculating..... for k= 4\n"
     ]
    },
    {
     "name": "stderr",
     "output_type": "stream",
     "text": [
      "100%|██████████| 1000/1000 [00:01<00:00, 616.38it/s]\n",
      "  6%|▋         | 63/1000 [00:00<00:01, 628.59it/s]"
     ]
    },
    {
     "name": "stdout",
     "output_type": "stream",
     "text": [
      "the accuracy value is :83.1\n",
      "==================================================\n",
      "\n",
      "\n",
      "==================================================\n",
      "knn calculating..... for k= 5\n"
     ]
    },
    {
     "name": "stderr",
     "output_type": "stream",
     "text": [
      "100%|██████████| 1000/1000 [00:01<00:00, 629.68it/s]\n",
      "  6%|▌         | 60/1000 [00:00<00:01, 592.03it/s]"
     ]
    },
    {
     "name": "stdout",
     "output_type": "stream",
     "text": [
      "the accuracy value is :84.0\n",
      "==================================================\n",
      "\n",
      "\n",
      "==================================================\n",
      "knn calculating..... for k= 6\n"
     ]
    },
    {
     "name": "stderr",
     "output_type": "stream",
     "text": [
      "100%|██████████| 1000/1000 [00:01<00:00, 637.08it/s]\n",
      "  6%|▋         | 64/1000 [00:00<00:01, 638.13it/s]"
     ]
    },
    {
     "name": "stdout",
     "output_type": "stream",
     "text": [
      "the accuracy value is :83.8\n",
      "==================================================\n",
      "\n",
      "\n",
      "==================================================\n",
      "knn calculating..... for k= 7\n"
     ]
    },
    {
     "name": "stderr",
     "output_type": "stream",
     "text": [
      "100%|██████████| 1000/1000 [00:01<00:00, 628.52it/s]\n",
      "  7%|▋         | 67/1000 [00:00<00:01, 664.29it/s]"
     ]
    },
    {
     "name": "stdout",
     "output_type": "stream",
     "text": [
      "the accuracy value is :83.3\n",
      "==================================================\n",
      "\n",
      "\n",
      "==================================================\n",
      "knn calculating..... for k= 8\n"
     ]
    },
    {
     "name": "stderr",
     "output_type": "stream",
     "text": [
      "100%|██████████| 1000/1000 [00:01<00:00, 626.68it/s]\n",
      "  6%|▋         | 64/1000 [00:00<00:01, 629.34it/s]"
     ]
    },
    {
     "name": "stdout",
     "output_type": "stream",
     "text": [
      "the accuracy value is :84.5\n",
      "==================================================\n",
      "\n",
      "\n",
      "==================================================\n",
      "knn calculating..... for k= 9\n"
     ]
    },
    {
     "name": "stderr",
     "output_type": "stream",
     "text": [
      "100%|██████████| 1000/1000 [00:01<00:00, 618.42it/s]\n",
      "  6%|▌         | 62/1000 [00:00<00:01, 617.57it/s]"
     ]
    },
    {
     "name": "stdout",
     "output_type": "stream",
     "text": [
      "the accuracy value is :83.8\n",
      "==================================================\n",
      "\n",
      "\n",
      "==================================================\n",
      "knn calculating..... for k= 10\n"
     ]
    },
    {
     "name": "stderr",
     "output_type": "stream",
     "text": [
      "100%|██████████| 1000/1000 [00:01<00:00, 580.04it/s]\n",
      "  6%|▌         | 62/1000 [00:00<00:01, 612.47it/s]"
     ]
    },
    {
     "name": "stdout",
     "output_type": "stream",
     "text": [
      "the accuracy value is :83.3\n",
      "==================================================\n",
      "\n",
      "\n",
      "==================================================\n",
      "knn calculating..... for k= 11\n"
     ]
    },
    {
     "name": "stderr",
     "output_type": "stream",
     "text": [
      "100%|██████████| 1000/1000 [00:01<00:00, 638.85it/s]\n",
      "  6%|▌         | 58/1000 [00:00<00:01, 579.94it/s]"
     ]
    },
    {
     "name": "stdout",
     "output_type": "stream",
     "text": [
      "the accuracy value is :83.1\n",
      "==================================================\n",
      "\n",
      "\n",
      "==================================================\n",
      "knn calculating..... for k= 12\n"
     ]
    },
    {
     "name": "stderr",
     "output_type": "stream",
     "text": [
      "100%|██████████| 1000/1000 [00:01<00:00, 606.79it/s]\n",
      "  6%|▌         | 60/1000 [00:00<00:01, 592.66it/s]"
     ]
    },
    {
     "name": "stdout",
     "output_type": "stream",
     "text": [
      "the accuracy value is :82.5\n",
      "==================================================\n",
      "\n",
      "\n",
      "==================================================\n",
      "knn calculating..... for k= 13\n"
     ]
    },
    {
     "name": "stderr",
     "output_type": "stream",
     "text": [
      "100%|██████████| 1000/1000 [00:01<00:00, 610.21it/s]\n",
      "  6%|▋         | 64/1000 [00:00<00:01, 633.33it/s]"
     ]
    },
    {
     "name": "stdout",
     "output_type": "stream",
     "text": [
      "the accuracy value is :83.5\n",
      "==================================================\n",
      "\n",
      "\n",
      "==================================================\n",
      "knn calculating..... for k= 14\n"
     ]
    },
    {
     "name": "stderr",
     "output_type": "stream",
     "text": [
      "100%|██████████| 1000/1000 [00:01<00:00, 623.37it/s]\n",
      "  6%|▋         | 63/1000 [00:00<00:01, 620.94it/s]"
     ]
    },
    {
     "name": "stdout",
     "output_type": "stream",
     "text": [
      "the accuracy value is :82.6\n",
      "==================================================\n",
      "\n",
      "\n",
      "==================================================\n",
      "knn calculating..... for k= 15\n"
     ]
    },
    {
     "name": "stderr",
     "output_type": "stream",
     "text": [
      "100%|██████████| 1000/1000 [00:01<00:00, 617.71it/s]\n",
      "  6%|▌         | 62/1000 [00:00<00:01, 610.34it/s]"
     ]
    },
    {
     "name": "stdout",
     "output_type": "stream",
     "text": [
      "the accuracy value is :83.1\n",
      "==================================================\n",
      "\n",
      "\n",
      "==================================================\n",
      "knn calculating..... for k= 16\n"
     ]
    },
    {
     "name": "stderr",
     "output_type": "stream",
     "text": [
      "100%|██████████| 1000/1000 [00:01<00:00, 617.34it/s]\n",
      "  6%|▌         | 59/1000 [00:00<00:01, 584.26it/s]"
     ]
    },
    {
     "name": "stdout",
     "output_type": "stream",
     "text": [
      "the accuracy value is :82.5\n",
      "==================================================\n",
      "\n",
      "\n",
      "==================================================\n",
      "knn calculating..... for k= 17\n"
     ]
    },
    {
     "name": "stderr",
     "output_type": "stream",
     "text": [
      "100%|██████████| 1000/1000 [00:01<00:00, 618.08it/s]\n",
      "  6%|▋         | 63/1000 [00:00<00:01, 623.42it/s]"
     ]
    },
    {
     "name": "stdout",
     "output_type": "stream",
     "text": [
      "the accuracy value is :82.6\n",
      "==================================================\n",
      "\n",
      "\n",
      "==================================================\n",
      "knn calculating..... for k= 18\n"
     ]
    },
    {
     "name": "stderr",
     "output_type": "stream",
     "text": [
      "100%|██████████| 1000/1000 [00:01<00:00, 649.00it/s]\n",
      "  7%|▋         | 69/1000 [00:00<00:01, 686.77it/s]"
     ]
    },
    {
     "name": "stdout",
     "output_type": "stream",
     "text": [
      "the accuracy value is :82.0\n",
      "==================================================\n",
      "\n",
      "\n",
      "==================================================\n",
      "knn calculating..... for k= 19\n"
     ]
    },
    {
     "name": "stderr",
     "output_type": "stream",
     "text": [
      "100%|██████████| 1000/1000 [00:01<00:00, 679.20it/s]\n",
      "  6%|▌         | 58/1000 [00:00<00:01, 575.09it/s]"
     ]
    },
    {
     "name": "stdout",
     "output_type": "stream",
     "text": [
      "the accuracy value is :82.19999999999999\n",
      "==================================================\n",
      "\n",
      "\n",
      "==================================================\n",
      "knn calculating..... for k= 20\n"
     ]
    },
    {
     "name": "stderr",
     "output_type": "stream",
     "text": [
      "100%|██████████| 1000/1000 [00:01<00:00, 617.59it/s]\n",
      "  6%|▋         | 64/1000 [00:00<00:01, 637.34it/s]"
     ]
    },
    {
     "name": "stdout",
     "output_type": "stream",
     "text": [
      "the accuracy value is :82.0\n",
      "==================================================\n",
      "\n",
      "\n",
      "==================================================\n",
      "knn calculating..... for k= 21\n"
     ]
    },
    {
     "name": "stderr",
     "output_type": "stream",
     "text": [
      "100%|██████████| 1000/1000 [00:01<00:00, 673.93it/s]\n",
      "  7%|▋         | 69/1000 [00:00<00:01, 684.52it/s]"
     ]
    },
    {
     "name": "stdout",
     "output_type": "stream",
     "text": [
      "the accuracy value is :81.39999999999999\n",
      "==================================================\n",
      "\n",
      "\n",
      "==================================================\n",
      "knn calculating..... for k= 22\n"
     ]
    },
    {
     "name": "stderr",
     "output_type": "stream",
     "text": [
      "100%|██████████| 1000/1000 [00:01<00:00, 645.81it/s]\n",
      "  7%|▋         | 68/1000 [00:00<00:01, 670.84it/s]"
     ]
    },
    {
     "name": "stdout",
     "output_type": "stream",
     "text": [
      "the accuracy value is :81.89999999999999\n",
      "==================================================\n",
      "\n",
      "\n",
      "==================================================\n",
      "knn calculating..... for k= 23\n"
     ]
    },
    {
     "name": "stderr",
     "output_type": "stream",
     "text": [
      "100%|██████████| 1000/1000 [00:01<00:00, 645.71it/s]\n",
      "  7%|▋         | 67/1000 [00:00<00:01, 666.11it/s]"
     ]
    },
    {
     "name": "stdout",
     "output_type": "stream",
     "text": [
      "the accuracy value is :81.89999999999999\n",
      "==================================================\n",
      "\n",
      "\n",
      "==================================================\n",
      "knn calculating..... for k= 24\n"
     ]
    },
    {
     "name": "stderr",
     "output_type": "stream",
     "text": [
      "100%|██████████| 1000/1000 [00:01<00:00, 626.74it/s]\n",
      "  6%|▌         | 56/1000 [00:00<00:01, 554.70it/s]"
     ]
    },
    {
     "name": "stdout",
     "output_type": "stream",
     "text": [
      "the accuracy value is :81.39999999999999\n",
      "==================================================\n",
      "\n",
      "\n",
      "==================================================\n",
      "knn calculating..... for k= 25\n"
     ]
    },
    {
     "name": "stderr",
     "output_type": "stream",
     "text": [
      "100%|██████████| 1000/1000 [00:01<00:00, 625.95it/s]\n",
      " 14%|█▎        | 137/1000 [00:00<00:01, 682.79it/s]"
     ]
    },
    {
     "name": "stdout",
     "output_type": "stream",
     "text": [
      "the accuracy value is :81.2\n",
      "==================================================\n",
      "\n",
      "\n",
      "==================================================\n",
      "knn calculating..... for k= 26\n"
     ]
    },
    {
     "name": "stderr",
     "output_type": "stream",
     "text": [
      "100%|██████████| 1000/1000 [00:01<00:00, 619.93it/s]\n",
      "  6%|▋         | 65/1000 [00:00<00:01, 642.67it/s]"
     ]
    },
    {
     "name": "stdout",
     "output_type": "stream",
     "text": [
      "the accuracy value is :81.3\n",
      "==================================================\n",
      "\n",
      "\n",
      "==================================================\n",
      "knn calculating..... for k= 27\n"
     ]
    },
    {
     "name": "stderr",
     "output_type": "stream",
     "text": [
      "100%|██████████| 1000/1000 [00:01<00:00, 626.64it/s]\n",
      "  6%|▌         | 62/1000 [00:00<00:01, 617.97it/s]"
     ]
    },
    {
     "name": "stdout",
     "output_type": "stream",
     "text": [
      "the accuracy value is :81.5\n",
      "==================================================\n",
      "\n",
      "\n",
      "==================================================\n",
      "knn calculating..... for k= 28\n"
     ]
    },
    {
     "name": "stderr",
     "output_type": "stream",
     "text": [
      "100%|██████████| 1000/1000 [00:01<00:00, 656.32it/s]\n",
      "  7%|▋         | 68/1000 [00:00<00:01, 677.42it/s]"
     ]
    },
    {
     "name": "stdout",
     "output_type": "stream",
     "text": [
      "the accuracy value is :81.3\n",
      "==================================================\n",
      "\n",
      "\n",
      "==================================================\n",
      "knn calculating..... for k= 29\n"
     ]
    },
    {
     "name": "stderr",
     "output_type": "stream",
     "text": [
      "100%|██████████| 1000/1000 [00:01<00:00, 662.78it/s]\n",
      "  7%|▋         | 69/1000 [00:00<00:01, 682.10it/s]"
     ]
    },
    {
     "name": "stdout",
     "output_type": "stream",
     "text": [
      "the accuracy value is :81.10000000000001\n",
      "==================================================\n",
      "\n",
      "\n",
      "==================================================\n",
      "knn calculating..... for k= 30\n"
     ]
    },
    {
     "name": "stderr",
     "output_type": "stream",
     "text": [
      "100%|██████████| 1000/1000 [00:01<00:00, 639.58it/s]\n"
     ]
    },
    {
     "name": "stdout",
     "output_type": "stream",
     "text": [
      "the accuracy value is :81.10000000000001\n",
      "==================================================\n",
      "\n",
      "\n",
      "time taken to evaluate is:47.820046186447144\n",
      "[83.2, 82.8, 83.6, 83.1, 84.0, 83.8, 83.3, 84.5, 83.8, 83.3, 83.1, 82.5, 83.5, 82.6, 83.1, 82.5, 82.6, 82.0, 82.19999999999999, 82.0, 81.39999999999999, 81.89999999999999, 81.89999999999999, 81.39999999999999, 81.2, 81.3, 81.5, 81.3, 81.10000000000001, 81.10000000000001]\n"
     ]
    },
    {
     "data": {
      "image/png": "[encoded data removed]",
      "text/plain": [
       "<Figure size 432x288 with 1 Axes>"
      ]
     },
     "metadata": {
      "needs_background": "light"
     },
     "output_type": "display_data"
    },
    {
     "name": "stdout",
     "output_type": "stream",
     "text": [
      "maximum accuracy is 84.5 at 7th run\n",
      "the best k value is:8, and the accuracy is 84.5\n"
     ]
    }
   ],
   "source": [
    "k_ranges_weight_std=[]\n",
    "accuracy_ranges_weight_std=[]\n",
    "tic=time.time()\n",
    "for k in range(1,31):\n",
    "    y_test_predicted=[]\n",
    "    print(\"=\"*50)\n",
    "    print(\"knn calculating..... for k= {}\".format(k))\n",
    "\n",
    "    for element in tqdm(x_test):\n",
    "        indexes,distances=calculateDistances(x_train, element)\n",
    "        #print(distances.shape)\n",
    "        indexes,distances=slice_k(k,indexes,distances)\n",
    "        label=weighted_majority_vote(distances,indexes,y_train,1)\n",
    "        y_test_predicted.append(label)\n",
    "\n",
    "    y_test_predicted=np.asarray(y_test_predicted)##y_predicted is my predictions\n",
    "\n",
    "    acc=accuracy_score(y_test,y_test_predicted)*100\n",
    "    print(\"the accuracy value is :{}\".format(acc))\n",
    "    print(\"=\"*50)\n",
    "    print(\"\\n\") \n",
    "    k_ranges_weight_std.append(k)\n",
    "    accuracy_ranges_weight_std.append(acc)\n",
    "    \n",
    "toc=time.time()\n",
    "print(\"time taken to evaluate is:{}\".format(toc-tic))\n",
    "print(accuracy_ranges_weight_std)\n",
    "#plotting graphs with matplot lib\n",
    "%matplotlib inline\n",
    "import warnings\n",
    "warnings.filterwarnings(\"ignore\")\n",
    "import matplotlib.pyplot as plt\n",
    "plt.figure(1, figsize=(6, 4))\n",
    "plt.clf()\n",
    "plt.plot(k_ranges_weight_std, accuracy_ranges_weight_std, linewidth=2)\n",
    "plt.plot(k_ranges_weight, accuracy_ranges_weight)\n",
    "plt.legend([\"k weighted on std\",\"knn weighted no std\"])\n",
    "plt.axis('tight')\n",
    "plt.grid()\n",
    "plt.xlabel('k values')\n",
    "plt.ylabel('accuracy')\n",
    "plt.title(\"knn weighted normalized vs knn weighted not normalized\")\n",
    "plt.show()\n",
    "ind=accuracy_ranges_weight_std.index(max(accuracy_ranges_weight_std))\n",
    "print(\"maximum accuracy is {} at {}th run\".format(max(accuracy_ranges_weight_std),ind))\n",
    "best_k_weight_std=k_ranges_weight_std[ind]\n",
    "print(\"the best k value is:{}, and the accuracy is {}\".format(best_k_weight_std,accuracy_ranges_weight_std[ind]))"
   ]
  },
  {
   "cell_type": "markdown",
   "metadata": {},
   "source": [
    "#the results have slightly less top accuracy without normalization.\n",
    "#sometimes standardization helps to get better accuracy and sometimes it just fails,\n",
    "#but it is a good practice to always apply normalization\n",
    "#In our experimental analysis found execution time is 1 sec slower\n",
    "#since it is normalized, we eliminate the large feature values that are dominating in euclidean distance measure but at the same time the feature value becomes float points and many float points can cause slower calculation\n"
   ]
  },
  {
   "cell_type": "markdown",
   "metadata": {},
   "source": [
    "# can we test our results for weight penalizing the far distant points even more  let's try- "
   ]
  },
  {
   "cell_type": "code",
   "execution_count": 23,
   "metadata": {},
   "outputs": [
    {
     "name": "stderr",
     "output_type": "stream",
     "text": [
      "  6%|▌         | 62/1000 [00:00<00:01, 616.57it/s]"
     ]
    },
    {
     "name": "stdout",
     "output_type": "stream",
     "text": [
      "(4000, 10)\n",
      "==================================================\n",
      "knn calculating..... for k= 1 and n=1\n"
     ]
    },
    {
     "name": "stderr",
     "output_type": "stream",
     "text": [
      "100%|██████████| 1000/1000 [00:01<00:00, 631.95it/s]\n",
      "  6%|▌         | 61/1000 [00:00<00:01, 599.33it/s]"
     ]
    },
    {
     "name": "stdout",
     "output_type": "stream",
     "text": [
      "the accuracy value is :89.5\n",
      "==================================================\n",
      "\n",
      "\n",
      "==================================================\n",
      "knn calculating..... for k= 1 and n=2\n"
     ]
    },
    {
     "name": "stderr",
     "output_type": "stream",
     "text": [
      "100%|██████████| 1000/1000 [00:01<00:00, 646.35it/s]\n",
      " 13%|█▎        | 129/1000 [00:00<00:01, 645.05it/s]"
     ]
    },
    {
     "name": "stdout",
     "output_type": "stream",
     "text": [
      "the accuracy value is :89.5\n",
      "==================================================\n",
      "\n",
      "\n",
      "==================================================\n",
      "knn calculating..... for k= 1 and n=3\n"
     ]
    },
    {
     "name": "stderr",
     "output_type": "stream",
     "text": [
      "100%|██████████| 1000/1000 [00:01<00:00, 630.19it/s]\n",
      "  6%|▌         | 60/1000 [00:00<00:01, 597.24it/s]"
     ]
    },
    {
     "name": "stdout",
     "output_type": "stream",
     "text": [
      "the accuracy value is :89.5\n",
      "==================================================\n",
      "\n",
      "\n",
      "==================================================\n",
      "knn calculating..... for k= 1 and n=4\n"
     ]
    },
    {
     "name": "stderr",
     "output_type": "stream",
     "text": [
      "100%|██████████| 1000/1000 [00:01<00:00, 588.21it/s]\n",
      "  7%|▋         | 67/1000 [00:00<00:01, 664.34it/s]"
     ]
    },
    {
     "name": "stdout",
     "output_type": "stream",
     "text": [
      "the accuracy value is :89.5\n",
      "==================================================\n",
      "\n",
      "\n",
      "==================================================\n",
      "knn calculating..... for k= 1 and n=5\n"
     ]
    },
    {
     "name": "stderr",
     "output_type": "stream",
     "text": [
      "100%|██████████| 1000/1000 [00:01<00:00, 606.43it/s]\n",
      " 13%|█▎        | 129/1000 [00:00<00:01, 645.24it/s]"
     ]
    },
    {
     "name": "stdout",
     "output_type": "stream",
     "text": [
      "the accuracy value is :89.5\n",
      "==================================================\n",
      "\n",
      "\n",
      "==================================================\n",
      "knn calculating..... for k= 2 and n=1\n"
     ]
    },
    {
     "name": "stderr",
     "output_type": "stream",
     "text": [
      "100%|██████████| 1000/1000 [00:01<00:00, 653.11it/s]\n",
      "  6%|▋         | 65/1000 [00:00<00:01, 648.63it/s]"
     ]
    },
    {
     "name": "stdout",
     "output_type": "stream",
     "text": [
      "the accuracy value is :89.1\n",
      "==================================================\n",
      "\n",
      "\n",
      "==================================================\n",
      "knn calculating..... for k= 2 and n=2\n"
     ]
    },
    {
     "name": "stderr",
     "output_type": "stream",
     "text": [
      "100%|██████████| 1000/1000 [00:01<00:00, 591.70it/s]\n",
      "  6%|▌         | 61/1000 [00:00<00:01, 598.74it/s]"
     ]
    },
    {
     "name": "stdout",
     "output_type": "stream",
     "text": [
      "the accuracy value is :89.1\n",
      "==================================================\n",
      "\n",
      "\n",
      "==================================================\n",
      "knn calculating..... for k= 2 and n=3\n"
     ]
    },
    {
     "name": "stderr",
     "output_type": "stream",
     "text": [
      "100%|██████████| 1000/1000 [00:01<00:00, 625.05it/s]\n",
      "  6%|▋         | 65/1000 [00:00<00:01, 640.95it/s]"
     ]
    },
    {
     "name": "stdout",
     "output_type": "stream",
     "text": [
      "the accuracy value is :89.1\n",
      "==================================================\n",
      "\n",
      "\n",
      "==================================================\n",
      "knn calculating..... for k= 2 and n=4\n"
     ]
    },
    {
     "name": "stderr",
     "output_type": "stream",
     "text": [
      "100%|██████████| 1000/1000 [00:01<00:00, 640.47it/s]\n",
      " 12%|█▏        | 124/1000 [00:00<00:01, 622.52it/s]"
     ]
    },
    {
     "name": "stdout",
     "output_type": "stream",
     "text": [
      "the accuracy value is :89.1\n",
      "==================================================\n",
      "\n",
      "\n",
      "==================================================\n",
      "knn calculating..... for k= 2 and n=5\n"
     ]
    },
    {
     "name": "stderr",
     "output_type": "stream",
     "text": [
      "100%|██████████| 1000/1000 [00:01<00:00, 623.04it/s]\n",
      " 14%|█▎        | 136/1000 [00:00<00:01, 678.33it/s]"
     ]
    },
    {
     "name": "stdout",
     "output_type": "stream",
     "text": [
      "the accuracy value is :89.1\n",
      "==================================================\n",
      "\n",
      "\n",
      "==================================================\n",
      "knn calculating..... for k= 3 and n=1\n"
     ]
    },
    {
     "name": "stderr",
     "output_type": "stream",
     "text": [
      "100%|██████████| 1000/1000 [00:01<00:00, 638.96it/s]\n",
      "  6%|▌         | 62/1000 [00:00<00:01, 613.67it/s]"
     ]
    },
    {
     "name": "stdout",
     "output_type": "stream",
     "text": [
      "the accuracy value is :91.2\n",
      "==================================================\n",
      "\n",
      "\n",
      "==================================================\n",
      "knn calculating..... for k= 3 and n=2\n"
     ]
    },
    {
     "name": "stderr",
     "output_type": "stream",
     "text": [
      "100%|██████████| 1000/1000 [00:01<00:00, 598.89it/s]\n",
      "  6%|▌         | 61/1000 [00:00<00:01, 606.58it/s]"
     ]
    },
    {
     "name": "stdout",
     "output_type": "stream",
     "text": [
      "the accuracy value is :89.8\n",
      "==================================================\n",
      "\n",
      "\n",
      "==================================================\n",
      "knn calculating..... for k= 3 and n=3\n"
     ]
    },
    {
     "name": "stderr",
     "output_type": "stream",
     "text": [
      "100%|██████████| 1000/1000 [00:01<00:00, 582.61it/s]\n",
      "  6%|▌         | 58/1000 [00:00<00:01, 575.90it/s]"
     ]
    },
    {
     "name": "stdout",
     "output_type": "stream",
     "text": [
      "the accuracy value is :89.5\n",
      "==================================================\n",
      "\n",
      "\n",
      "==================================================\n",
      "knn calculating..... for k= 3 and n=4\n"
     ]
    },
    {
     "name": "stderr",
     "output_type": "stream",
     "text": [
      "100%|██████████| 1000/1000 [00:01<00:00, 607.91it/s]\n",
      "  6%|▌         | 62/1000 [00:00<00:01, 617.89it/s]"
     ]
    },
    {
     "name": "stdout",
     "output_type": "stream",
     "text": [
      "the accuracy value is :89.1\n",
      "==================================================\n",
      "\n",
      "\n",
      "==================================================\n",
      "knn calculating..... for k= 3 and n=5\n"
     ]
    },
    {
     "name": "stderr",
     "output_type": "stream",
     "text": [
      "100%|██████████| 1000/1000 [00:01<00:00, 620.71it/s]\n",
      "  6%|▌         | 60/1000 [00:00<00:01, 597.73it/s]"
     ]
    },
    {
     "name": "stdout",
     "output_type": "stream",
     "text": [
      "the accuracy value is :89.1\n",
      "==================================================\n",
      "\n",
      "\n",
      "==================================================\n",
      "knn calculating..... for k= 4 and n=1\n"
     ]
    },
    {
     "name": "stderr",
     "output_type": "stream",
     "text": [
      "100%|██████████| 1000/1000 [00:01<00:00, 623.72it/s]\n",
      "  7%|▋         | 66/1000 [00:00<00:01, 654.61it/s]"
     ]
    },
    {
     "name": "stdout",
     "output_type": "stream",
     "text": [
      "the accuracy value is :91.4\n",
      "==================================================\n",
      "\n",
      "\n",
      "==================================================\n",
      "knn calculating..... for k= 4 and n=2\n"
     ]
    },
    {
     "name": "stderr",
     "output_type": "stream",
     "text": [
      "100%|██████████| 1000/1000 [00:01<00:00, 642.84it/s]\n",
      "  6%|▌         | 62/1000 [00:00<00:01, 619.08it/s]"
     ]
    },
    {
     "name": "stdout",
     "output_type": "stream",
     "text": [
      "the accuracy value is :91.0\n",
      "==================================================\n",
      "\n",
      "\n",
      "==================================================\n",
      "knn calculating..... for k= 4 and n=3\n"
     ]
    },
    {
     "name": "stderr",
     "output_type": "stream",
     "text": [
      "100%|██████████| 1000/1000 [00:01<00:00, 657.54it/s]\n",
      "  7%|▋         | 66/1000 [00:00<00:01, 649.50it/s]"
     ]
    },
    {
     "name": "stdout",
     "output_type": "stream",
     "text": [
      "the accuracy value is :90.3\n",
      "==================================================\n",
      "\n",
      "\n",
      "==================================================\n",
      "knn calculating..... for k= 4 and n=4\n"
     ]
    },
    {
     "name": "stderr",
     "output_type": "stream",
     "text": [
      "100%|██████████| 1000/1000 [00:01<00:00, 633.26it/s]\n",
      " 13%|█▎        | 134/1000 [00:00<00:01, 661.61it/s]"
     ]
    },
    {
     "name": "stdout",
     "output_type": "stream",
     "text": [
      "the accuracy value is :90.2\n",
      "==================================================\n",
      "\n",
      "\n",
      "==================================================\n",
      "knn calculating..... for k= 4 and n=5\n"
     ]
    },
    {
     "name": "stderr",
     "output_type": "stream",
     "text": [
      "100%|██████████| 1000/1000 [00:01<00:00, 639.90it/s]\n",
      "  7%|▋         | 67/1000 [00:00<00:01, 655.14it/s]"
     ]
    },
    {
     "name": "stdout",
     "output_type": "stream",
     "text": [
      "the accuracy value is :89.8\n",
      "==================================================\n",
      "\n",
      "\n",
      "==================================================\n",
      "knn calculating..... for k= 5 and n=1\n"
     ]
    },
    {
     "name": "stderr",
     "output_type": "stream",
     "text": [
      "100%|██████████| 1000/1000 [00:01<00:00, 623.35it/s]\n",
      " 13%|█▎        | 126/1000 [00:00<00:01, 637.45it/s]"
     ]
    },
    {
     "name": "stdout",
     "output_type": "stream",
     "text": [
      "the accuracy value is :92.10000000000001\n",
      "==================================================\n",
      "\n",
      "\n",
      "==================================================\n",
      "knn calculating..... for k= 5 and n=2\n"
     ]
    },
    {
     "name": "stderr",
     "output_type": "stream",
     "text": [
      "100%|██████████| 1000/1000 [00:01<00:00, 605.91it/s]\n",
      "  6%|▌         | 61/1000 [00:00<00:01, 604.56it/s]"
     ]
    },
    {
     "name": "stdout",
     "output_type": "stream",
     "text": [
      "the accuracy value is :91.2\n",
      "==================================================\n",
      "\n",
      "\n",
      "==================================================\n",
      "knn calculating..... for k= 5 and n=3\n"
     ]
    },
    {
     "name": "stderr",
     "output_type": "stream",
     "text": [
      "100%|██████████| 1000/1000 [00:01<00:00, 620.70it/s]\n",
      "  6%|▌         | 62/1000 [00:00<00:01, 611.88it/s]"
     ]
    },
    {
     "name": "stdout",
     "output_type": "stream",
     "text": [
      "the accuracy value is :91.0\n",
      "==================================================\n",
      "\n",
      "\n",
      "==================================================\n",
      "knn calculating..... for k= 5 and n=4\n"
     ]
    },
    {
     "name": "stderr",
     "output_type": "stream",
     "text": [
      "100%|██████████| 1000/1000 [00:01<00:00, 603.20it/s]\n",
      " 12%|█▏        | 124/1000 [00:00<00:01, 606.36it/s]"
     ]
    },
    {
     "name": "stdout",
     "output_type": "stream",
     "text": [
      "the accuracy value is :90.10000000000001\n",
      "==================================================\n",
      "\n",
      "\n",
      "==================================================\n",
      "knn calculating..... for k= 5 and n=5\n"
     ]
    },
    {
     "name": "stderr",
     "output_type": "stream",
     "text": [
      "100%|██████████| 1000/1000 [00:01<00:00, 623.54it/s]\n",
      "  6%|▌         | 61/1000 [00:00<00:01, 608.31it/s]"
     ]
    },
    {
     "name": "stdout",
     "output_type": "stream",
     "text": [
      "the accuracy value is :89.7\n",
      "==================================================\n",
      "\n",
      "\n",
      "==================================================\n",
      "knn calculating..... for k= 6 and n=1\n"
     ]
    },
    {
     "name": "stderr",
     "output_type": "stream",
     "text": [
      "100%|██████████| 1000/1000 [00:01<00:00, 571.79it/s]\n",
      "  6%|▌         | 58/1000 [00:00<00:01, 572.24it/s]"
     ]
    },
    {
     "name": "stdout",
     "output_type": "stream",
     "text": [
      "the accuracy value is :92.0\n",
      "==================================================\n",
      "\n",
      "\n",
      "==================================================\n",
      "knn calculating..... for k= 6 and n=2\n"
     ]
    },
    {
     "name": "stderr",
     "output_type": "stream",
     "text": [
      "100%|██████████| 1000/1000 [00:01<00:00, 625.06it/s]\n",
      "  7%|▋         | 66/1000 [00:00<00:01, 653.83it/s]"
     ]
    },
    {
     "name": "stdout",
     "output_type": "stream",
     "text": [
      "the accuracy value is :91.5\n",
      "==================================================\n",
      "\n",
      "\n",
      "==================================================\n",
      "knn calculating..... for k= 6 and n=3\n"
     ]
    },
    {
     "name": "stderr",
     "output_type": "stream",
     "text": [
      "100%|██████████| 1000/1000 [00:01<00:00, 635.16it/s]\n",
      "  5%|▌         | 53/1000 [00:00<00:01, 521.96it/s]"
     ]
    },
    {
     "name": "stdout",
     "output_type": "stream",
     "text": [
      "the accuracy value is :90.2\n",
      "==================================================\n",
      "\n",
      "\n",
      "==================================================\n",
      "knn calculating..... for k= 6 and n=4\n"
     ]
    },
    {
     "name": "stderr",
     "output_type": "stream",
     "text": [
      "100%|██████████| 1000/1000 [00:01<00:00, 578.36it/s]\n",
      "  6%|▌         | 62/1000 [00:00<00:01, 610.10it/s]"
     ]
    },
    {
     "name": "stdout",
     "output_type": "stream",
     "text": [
      "the accuracy value is :89.60000000000001\n",
      "==================================================\n",
      "\n",
      "\n",
      "==================================================\n",
      "knn calculating..... for k= 6 and n=5\n"
     ]
    },
    {
     "name": "stderr",
     "output_type": "stream",
     "text": [
      "100%|██████████| 1000/1000 [00:01<00:00, 594.03it/s]\n",
      "  6%|▌         | 60/1000 [00:00<00:01, 599.83it/s]"
     ]
    },
    {
     "name": "stdout",
     "output_type": "stream",
     "text": [
      "the accuracy value is :89.1\n",
      "==================================================\n",
      "\n",
      "\n",
      "==================================================\n",
      "knn calculating..... for k= 7 and n=1\n"
     ]
    },
    {
     "name": "stderr",
     "output_type": "stream",
     "text": [
      "100%|██████████| 1000/1000 [00:01<00:00, 603.92it/s]\n",
      "  6%|▋         | 64/1000 [00:00<00:01, 637.31it/s]"
     ]
    },
    {
     "name": "stdout",
     "output_type": "stream",
     "text": [
      "the accuracy value is :91.8\n",
      "==================================================\n",
      "\n",
      "\n",
      "==================================================\n",
      "knn calculating..... for k= 7 and n=2\n"
     ]
    },
    {
     "name": "stderr",
     "output_type": "stream",
     "text": [
      "100%|██████████| 1000/1000 [00:01<00:00, 652.10it/s]\n",
      "  6%|▋         | 65/1000 [00:00<00:01, 648.53it/s]"
     ]
    },
    {
     "name": "stdout",
     "output_type": "stream",
     "text": [
      "the accuracy value is :91.5\n",
      "==================================================\n",
      "\n",
      "\n",
      "==================================================\n",
      "knn calculating..... for k= 7 and n=3\n"
     ]
    },
    {
     "name": "stderr",
     "output_type": "stream",
     "text": [
      "100%|██████████| 1000/1000 [00:01<00:00, 638.50it/s]\n",
      "  6%|▋         | 65/1000 [00:00<00:01, 647.92it/s]"
     ]
    },
    {
     "name": "stdout",
     "output_type": "stream",
     "text": [
      "the accuracy value is :90.10000000000001\n",
      "==================================================\n",
      "\n",
      "\n",
      "==================================================\n",
      "knn calculating..... for k= 7 and n=4\n"
     ]
    },
    {
     "name": "stderr",
     "output_type": "stream",
     "text": [
      "100%|██████████| 1000/1000 [00:01<00:00, 625.81it/s]\n",
      "  6%|▋         | 64/1000 [00:00<00:01, 634.83it/s]"
     ]
    },
    {
     "name": "stdout",
     "output_type": "stream",
     "text": [
      "the accuracy value is :89.5\n",
      "==================================================\n",
      "\n",
      "\n",
      "==================================================\n",
      "knn calculating..... for k= 7 and n=5\n"
     ]
    },
    {
     "name": "stderr",
     "output_type": "stream",
     "text": [
      "100%|██████████| 1000/1000 [00:01<00:00, 590.89it/s]\n",
      "  6%|▌         | 59/1000 [00:00<00:01, 586.47it/s]"
     ]
    },
    {
     "name": "stdout",
     "output_type": "stream",
     "text": [
      "the accuracy value is :89.2\n",
      "==================================================\n",
      "\n",
      "\n",
      "==================================================\n",
      "knn calculating..... for k= 8 and n=1\n"
     ]
    },
    {
     "name": "stderr",
     "output_type": "stream",
     "text": [
      "100%|██████████| 1000/1000 [00:01<00:00, 611.74it/s]\n",
      "  7%|▋         | 67/1000 [00:00<00:01, 662.46it/s]"
     ]
    },
    {
     "name": "stdout",
     "output_type": "stream",
     "text": [
      "the accuracy value is :91.4\n",
      "==================================================\n",
      "\n",
      "\n",
      "==================================================\n",
      "knn calculating..... for k= 8 and n=2\n"
     ]
    },
    {
     "name": "stderr",
     "output_type": "stream",
     "text": [
      "100%|██████████| 1000/1000 [00:01<00:00, 616.46it/s]\n",
      "  6%|▋         | 63/1000 [00:00<00:01, 624.32it/s]"
     ]
    },
    {
     "name": "stdout",
     "output_type": "stream",
     "text": [
      "the accuracy value is :91.3\n",
      "==================================================\n",
      "\n",
      "\n",
      "==================================================\n",
      "knn calculating..... for k= 8 and n=3\n"
     ]
    },
    {
     "name": "stderr",
     "output_type": "stream",
     "text": [
      "100%|██████████| 1000/1000 [00:01<00:00, 601.36it/s]\n",
      "  6%|▌         | 59/1000 [00:00<00:01, 589.87it/s]"
     ]
    },
    {
     "name": "stdout",
     "output_type": "stream",
     "text": [
      "the accuracy value is :90.4\n",
      "==================================================\n",
      "\n",
      "\n",
      "==================================================\n",
      "knn calculating..... for k= 8 and n=4\n"
     ]
    },
    {
     "name": "stderr",
     "output_type": "stream",
     "text": [
      "100%|██████████| 1000/1000 [00:01<00:00, 615.43it/s]\n",
      "  7%|▋         | 68/1000 [00:00<00:01, 677.16it/s]"
     ]
    },
    {
     "name": "stdout",
     "output_type": "stream",
     "text": [
      "the accuracy value is :89.3\n",
      "==================================================\n",
      "\n",
      "\n",
      "==================================================\n",
      "knn calculating..... for k= 8 and n=5\n"
     ]
    },
    {
     "name": "stderr",
     "output_type": "stream",
     "text": [
      "100%|██████████| 1000/1000 [00:01<00:00, 660.31it/s]\n",
      "  6%|▌         | 61/1000 [00:00<00:01, 602.27it/s]"
     ]
    },
    {
     "name": "stdout",
     "output_type": "stream",
     "text": [
      "the accuracy value is :89.1\n",
      "==================================================\n",
      "\n",
      "\n",
      "==================================================\n",
      "knn calculating..... for k= 9 and n=1\n"
     ]
    },
    {
     "name": "stderr",
     "output_type": "stream",
     "text": [
      "100%|██████████| 1000/1000 [00:01<00:00, 614.84it/s]\n",
      " 13%|█▎        | 134/1000 [00:00<00:01, 671.66it/s]"
     ]
    },
    {
     "name": "stdout",
     "output_type": "stream",
     "text": [
      "the accuracy value is :92.7\n",
      "==================================================\n",
      "\n",
      "\n",
      "==================================================\n",
      "knn calculating..... for k= 9 and n=2\n"
     ]
    },
    {
     "name": "stderr",
     "output_type": "stream",
     "text": [
      "100%|██████████| 1000/1000 [00:01<00:00, 624.03it/s]\n",
      "  6%|▌         | 61/1000 [00:00<00:01, 604.08it/s]"
     ]
    },
    {
     "name": "stdout",
     "output_type": "stream",
     "text": [
      "the accuracy value is :92.0\n",
      "==================================================\n",
      "\n",
      "\n",
      "==================================================\n",
      "knn calculating..... for k= 9 and n=3\n"
     ]
    },
    {
     "name": "stderr",
     "output_type": "stream",
     "text": [
      "100%|██████████| 1000/1000 [00:01<00:00, 616.36it/s]\n",
      " 12%|█▏        | 121/1000 [00:00<00:01, 600.94it/s]"
     ]
    },
    {
     "name": "stdout",
     "output_type": "stream",
     "text": [
      "the accuracy value is :90.9\n",
      "==================================================\n",
      "\n",
      "\n",
      "==================================================\n",
      "knn calculating..... for k= 9 and n=4\n"
     ]
    },
    {
     "name": "stderr",
     "output_type": "stream",
     "text": [
      "100%|██████████| 1000/1000 [00:01<00:00, 596.57it/s]\n",
      "  6%|▌         | 60/1000 [00:00<00:01, 595.25it/s]"
     ]
    },
    {
     "name": "stdout",
     "output_type": "stream",
     "text": [
      "the accuracy value is :90.4\n",
      "==================================================\n",
      "\n",
      "\n",
      "==================================================\n",
      "knn calculating..... for k= 9 and n=5\n"
     ]
    },
    {
     "name": "stderr",
     "output_type": "stream",
     "text": [
      "100%|██████████| 1000/1000 [00:01<00:00, 604.25it/s]\n",
      "  6%|▋         | 64/1000 [00:00<00:01, 637.71it/s]"
     ]
    },
    {
     "name": "stdout",
     "output_type": "stream",
     "text": [
      "the accuracy value is :89.8\n",
      "==================================================\n",
      "\n",
      "\n",
      "==================================================\n",
      "knn calculating..... for k= 10 and n=1\n"
     ]
    },
    {
     "name": "stderr",
     "output_type": "stream",
     "text": [
      "100%|██████████| 1000/1000 [00:01<00:00, 652.24it/s]\n",
      "  7%|▋         | 66/1000 [00:00<00:01, 655.97it/s]"
     ]
    },
    {
     "name": "stdout",
     "output_type": "stream",
     "text": [
      "the accuracy value is :91.9\n",
      "==================================================\n",
      "\n",
      "\n",
      "==================================================\n",
      "knn calculating..... for k= 10 and n=2\n"
     ]
    },
    {
     "name": "stderr",
     "output_type": "stream",
     "text": [
      "100%|██████████| 1000/1000 [00:01<00:00, 649.44it/s]\n",
      "  6%|▋         | 63/1000 [00:00<00:01, 624.62it/s]"
     ]
    },
    {
     "name": "stdout",
     "output_type": "stream",
     "text": [
      "the accuracy value is :91.4\n",
      "==================================================\n",
      "\n",
      "\n",
      "==================================================\n",
      "knn calculating..... for k= 10 and n=3\n"
     ]
    },
    {
     "name": "stderr",
     "output_type": "stream",
     "text": [
      "100%|██████████| 1000/1000 [00:01<00:00, 614.79it/s]\n",
      "  6%|▌         | 62/1000 [00:00<00:01, 613.18it/s]"
     ]
    },
    {
     "name": "stdout",
     "output_type": "stream",
     "text": [
      "the accuracy value is :91.0\n",
      "==================================================\n",
      "\n",
      "\n",
      "==================================================\n",
      "knn calculating..... for k= 10 and n=4\n"
     ]
    },
    {
     "name": "stderr",
     "output_type": "stream",
     "text": [
      "100%|██████████| 1000/1000 [00:01<00:00, 630.29it/s]\n",
      "  6%|▋         | 65/1000 [00:00<00:01, 646.57it/s]"
     ]
    },
    {
     "name": "stdout",
     "output_type": "stream",
     "text": [
      "the accuracy value is :89.9\n",
      "==================================================\n",
      "\n",
      "\n",
      "==================================================\n",
      "knn calculating..... for k= 10 and n=5\n"
     ]
    },
    {
     "name": "stderr",
     "output_type": "stream",
     "text": [
      "100%|██████████| 1000/1000 [00:01<00:00, 646.45it/s]\n",
      "  6%|▌         | 59/1000 [00:00<00:01, 585.76it/s]"
     ]
    },
    {
     "name": "stdout",
     "output_type": "stream",
     "text": [
      "the accuracy value is :89.2\n",
      "==================================================\n",
      "\n",
      "\n",
      "==================================================\n",
      "knn calculating..... for k= 11 and n=1\n"
     ]
    },
    {
     "name": "stderr",
     "output_type": "stream",
     "text": [
      "100%|██████████| 1000/1000 [00:01<00:00, 634.58it/s]\n",
      "  7%|▋         | 67/1000 [00:00<00:01, 665.52it/s]"
     ]
    },
    {
     "name": "stdout",
     "output_type": "stream",
     "text": [
      "the accuracy value is :92.30000000000001\n",
      "==================================================\n",
      "\n",
      "\n",
      "==================================================\n",
      "knn calculating..... for k= 11 and n=2\n"
     ]
    },
    {
     "name": "stderr",
     "output_type": "stream",
     "text": [
      "100%|██████████| 1000/1000 [00:01<00:00, 627.92it/s]\n",
      "  7%|▋         | 67/1000 [00:00<00:01, 666.28it/s]"
     ]
    },
    {
     "name": "stdout",
     "output_type": "stream",
     "text": [
      "the accuracy value is :91.9\n",
      "==================================================\n",
      "\n",
      "\n",
      "==================================================\n",
      "knn calculating..... for k= 11 and n=3\n"
     ]
    },
    {
     "name": "stderr",
     "output_type": "stream",
     "text": [
      "100%|██████████| 1000/1000 [00:01<00:00, 665.52it/s]\n",
      "  7%|▋         | 66/1000 [00:00<00:01, 655.79it/s]"
     ]
    },
    {
     "name": "stdout",
     "output_type": "stream",
     "text": [
      "the accuracy value is :90.8\n",
      "==================================================\n",
      "\n",
      "\n",
      "==================================================\n",
      "knn calculating..... for k= 11 and n=4\n"
     ]
    },
    {
     "name": "stderr",
     "output_type": "stream",
     "text": [
      "100%|██████████| 1000/1000 [00:01<00:00, 647.38it/s]\n",
      "  6%|▌         | 61/1000 [00:00<00:01, 606.27it/s]"
     ]
    },
    {
     "name": "stdout",
     "output_type": "stream",
     "text": [
      "the accuracy value is :89.8\n",
      "==================================================\n",
      "\n",
      "\n",
      "==================================================\n",
      "knn calculating..... for k= 11 and n=5\n"
     ]
    },
    {
     "name": "stderr",
     "output_type": "stream",
     "text": [
      "100%|██████████| 1000/1000 [00:01<00:00, 665.90it/s]\n",
      "  6%|▋         | 64/1000 [00:00<00:01, 631.95it/s]"
     ]
    },
    {
     "name": "stdout",
     "output_type": "stream",
     "text": [
      "the accuracy value is :89.2\n",
      "==================================================\n",
      "\n",
      "\n",
      "==================================================\n",
      "knn calculating..... for k= 12 and n=1\n"
     ]
    },
    {
     "name": "stderr",
     "output_type": "stream",
     "text": [
      "100%|██████████| 1000/1000 [00:01<00:00, 625.66it/s]\n",
      "  7%|▋         | 66/1000 [00:00<00:01, 657.14it/s]"
     ]
    },
    {
     "name": "stdout",
     "output_type": "stream",
     "text": [
      "the accuracy value is :92.30000000000001\n",
      "==================================================\n",
      "\n",
      "\n",
      "==================================================\n",
      "knn calculating..... for k= 12 and n=2\n"
     ]
    },
    {
     "name": "stderr",
     "output_type": "stream",
     "text": [
      "100%|██████████| 1000/1000 [00:01<00:00, 668.09it/s]\n",
      "  6%|▋         | 63/1000 [00:00<00:01, 623.49it/s]"
     ]
    },
    {
     "name": "stdout",
     "output_type": "stream",
     "text": [
      "the accuracy value is :92.30000000000001\n",
      "==================================================\n",
      "\n",
      "\n",
      "==================================================\n",
      "knn calculating..... for k= 12 and n=3\n"
     ]
    },
    {
     "name": "stderr",
     "output_type": "stream",
     "text": [
      "100%|██████████| 1000/1000 [00:01<00:00, 646.13it/s]\n",
      "  6%|▌         | 60/1000 [00:00<00:01, 594.96it/s]"
     ]
    },
    {
     "name": "stdout",
     "output_type": "stream",
     "text": [
      "the accuracy value is :91.3\n",
      "==================================================\n",
      "\n",
      "\n",
      "==================================================\n",
      "knn calculating..... for k= 12 and n=4\n"
     ]
    },
    {
     "name": "stderr",
     "output_type": "stream",
     "text": [
      "100%|██████████| 1000/1000 [00:01<00:00, 600.83it/s]\n",
      "  6%|▌         | 62/1000 [00:00<00:01, 613.21it/s]"
     ]
    },
    {
     "name": "stdout",
     "output_type": "stream",
     "text": [
      "the accuracy value is :90.0\n",
      "==================================================\n",
      "\n",
      "\n",
      "==================================================\n",
      "knn calculating..... for k= 12 and n=5\n"
     ]
    },
    {
     "name": "stderr",
     "output_type": "stream",
     "text": [
      "100%|██████████| 1000/1000 [00:01<00:00, 647.19it/s]\n",
      "  7%|▋         | 69/1000 [00:00<00:01, 683.73it/s]"
     ]
    },
    {
     "name": "stdout",
     "output_type": "stream",
     "text": [
      "the accuracy value is :88.9\n",
      "==================================================\n",
      "\n",
      "\n",
      "==================================================\n",
      "knn calculating..... for k= 13 and n=1\n"
     ]
    },
    {
     "name": "stderr",
     "output_type": "stream",
     "text": [
      "100%|██████████| 1000/1000 [00:01<00:00, 625.15it/s]\n",
      "  7%|▋         | 68/1000 [00:00<00:01, 674.98it/s]"
     ]
    },
    {
     "name": "stdout",
     "output_type": "stream",
     "text": [
      "the accuracy value is :92.0\n",
      "==================================================\n",
      "\n",
      "\n",
      "==================================================\n",
      "knn calculating..... for k= 13 and n=2\n"
     ]
    },
    {
     "name": "stderr",
     "output_type": "stream",
     "text": [
      "100%|██████████| 1000/1000 [00:01<00:00, 656.62it/s]\n",
      "  7%|▋         | 68/1000 [00:00<00:01, 677.41it/s]"
     ]
    },
    {
     "name": "stdout",
     "output_type": "stream",
     "text": [
      "the accuracy value is :91.9\n",
      "==================================================\n",
      "\n",
      "\n",
      "==================================================\n",
      "knn calculating..... for k= 13 and n=3\n"
     ]
    },
    {
     "name": "stderr",
     "output_type": "stream",
     "text": [
      "100%|██████████| 1000/1000 [00:01<00:00, 655.73it/s]\n",
      "  7%|▋         | 68/1000 [00:00<00:01, 675.57it/s]"
     ]
    },
    {
     "name": "stdout",
     "output_type": "stream",
     "text": [
      "the accuracy value is :91.3\n",
      "==================================================\n",
      "\n",
      "\n",
      "==================================================\n",
      "knn calculating..... for k= 13 and n=4\n"
     ]
    },
    {
     "name": "stderr",
     "output_type": "stream",
     "text": [
      "100%|██████████| 1000/1000 [00:01<00:00, 617.36it/s]\n",
      "  6%|▌         | 62/1000 [00:00<00:01, 617.21it/s]"
     ]
    },
    {
     "name": "stdout",
     "output_type": "stream",
     "text": [
      "the accuracy value is :90.10000000000001\n",
      "==================================================\n",
      "\n",
      "\n",
      "==================================================\n",
      "knn calculating..... for k= 13 and n=5\n"
     ]
    },
    {
     "name": "stderr",
     "output_type": "stream",
     "text": [
      "100%|██████████| 1000/1000 [00:01<00:00, 610.32it/s]\n",
      "  6%|▋         | 63/1000 [00:00<00:01, 623.26it/s]"
     ]
    },
    {
     "name": "stdout",
     "output_type": "stream",
     "text": [
      "the accuracy value is :88.9\n",
      "==================================================\n",
      "\n",
      "\n",
      "==================================================\n",
      "knn calculating..... for k= 14 and n=1\n"
     ]
    },
    {
     "name": "stderr",
     "output_type": "stream",
     "text": [
      "100%|██████████| 1000/1000 [00:01<00:00, 604.59it/s]\n",
      "  6%|▌         | 62/1000 [00:00<00:01, 618.60it/s]"
     ]
    },
    {
     "name": "stdout",
     "output_type": "stream",
     "text": [
      "the accuracy value is :92.0\n",
      "==================================================\n",
      "\n",
      "\n",
      "==================================================\n",
      "knn calculating..... for k= 14 and n=2\n"
     ]
    },
    {
     "name": "stderr",
     "output_type": "stream",
     "text": [
      "100%|██████████| 1000/1000 [00:01<00:00, 609.02it/s]\n",
      "  6%|▌         | 59/1000 [00:00<00:01, 585.03it/s]"
     ]
    },
    {
     "name": "stdout",
     "output_type": "stream",
     "text": [
      "the accuracy value is :92.10000000000001\n",
      "==================================================\n",
      "\n",
      "\n",
      "==================================================\n",
      "knn calculating..... for k= 14 and n=3\n"
     ]
    },
    {
     "name": "stderr",
     "output_type": "stream",
     "text": [
      "100%|██████████| 1000/1000 [00:01<00:00, 604.68it/s]\n",
      " 12%|█▏        | 123/1000 [00:00<00:01, 615.41it/s]"
     ]
    },
    {
     "name": "stdout",
     "output_type": "stream",
     "text": [
      "the accuracy value is :91.7\n",
      "==================================================\n",
      "\n",
      "\n",
      "==================================================\n",
      "knn calculating..... for k= 14 and n=4\n"
     ]
    },
    {
     "name": "stderr",
     "output_type": "stream",
     "text": [
      "100%|██████████| 1000/1000 [00:01<00:00, 597.33it/s]\n",
      "  6%|▌         | 61/1000 [00:00<00:01, 609.55it/s]"
     ]
    },
    {
     "name": "stdout",
     "output_type": "stream",
     "text": [
      "the accuracy value is :90.3\n",
      "==================================================\n",
      "\n",
      "\n",
      "==================================================\n",
      "knn calculating..... for k= 14 and n=5\n"
     ]
    },
    {
     "name": "stderr",
     "output_type": "stream",
     "text": [
      "100%|██████████| 1000/1000 [00:01<00:00, 597.67it/s]\n",
      " 12%|█▏        | 124/1000 [00:00<00:01, 622.45it/s]"
     ]
    },
    {
     "name": "stdout",
     "output_type": "stream",
     "text": [
      "the accuracy value is :89.4\n",
      "==================================================\n",
      "\n",
      "\n",
      "==================================================\n",
      "knn calculating..... for k= 15 and n=1\n"
     ]
    },
    {
     "name": "stderr",
     "output_type": "stream",
     "text": [
      "100%|██████████| 1000/1000 [00:01<00:00, 606.08it/s]\n",
      "  6%|▌         | 61/1000 [00:00<00:01, 606.24it/s]"
     ]
    },
    {
     "name": "stdout",
     "output_type": "stream",
     "text": [
      "the accuracy value is :92.10000000000001\n",
      "==================================================\n",
      "\n",
      "\n",
      "==================================================\n",
      "knn calculating..... for k= 15 and n=2\n"
     ]
    },
    {
     "name": "stderr",
     "output_type": "stream",
     "text": [
      "100%|██████████| 1000/1000 [00:01<00:00, 605.46it/s]\n",
      "  6%|▌         | 60/1000 [00:00<00:01, 597.31it/s]"
     ]
    },
    {
     "name": "stdout",
     "output_type": "stream",
     "text": [
      "the accuracy value is :91.7\n",
      "==================================================\n",
      "\n",
      "\n",
      "==================================================\n",
      "knn calculating..... for k= 15 and n=3\n"
     ]
    },
    {
     "name": "stderr",
     "output_type": "stream",
     "text": [
      "100%|██████████| 1000/1000 [00:01<00:00, 605.58it/s]\n",
      "  6%|▋         | 63/1000 [00:00<00:01, 628.29it/s]"
     ]
    },
    {
     "name": "stdout",
     "output_type": "stream",
     "text": [
      "the accuracy value is :91.7\n",
      "==================================================\n",
      "\n",
      "\n",
      "==================================================\n",
      "knn calculating..... for k= 15 and n=4\n"
     ]
    },
    {
     "name": "stderr",
     "output_type": "stream",
     "text": [
      "100%|██████████| 1000/1000 [00:01<00:00, 603.35it/s]\n",
      "  6%|▌         | 57/1000 [00:00<00:01, 566.28it/s]"
     ]
    },
    {
     "name": "stdout",
     "output_type": "stream",
     "text": [
      "the accuracy value is :90.5\n",
      "==================================================\n",
      "\n",
      "\n",
      "==================================================\n",
      "knn calculating..... for k= 15 and n=5\n"
     ]
    },
    {
     "name": "stderr",
     "output_type": "stream",
     "text": [
      "100%|██████████| 1000/1000 [00:01<00:00, 605.64it/s]\n",
      "  6%|▋         | 64/1000 [00:00<00:01, 639.23it/s]"
     ]
    },
    {
     "name": "stdout",
     "output_type": "stream",
     "text": [
      "the accuracy value is :89.60000000000001\n",
      "==================================================\n",
      "\n",
      "\n",
      "==================================================\n",
      "knn calculating..... for k= 16 and n=1\n"
     ]
    },
    {
     "name": "stderr",
     "output_type": "stream",
     "text": [
      "100%|██████████| 1000/1000 [00:01<00:00, 616.98it/s]\n",
      "  6%|▌         | 62/1000 [00:00<00:01, 615.20it/s]"
     ]
    },
    {
     "name": "stdout",
     "output_type": "stream",
     "text": [
      "the accuracy value is :91.9\n",
      "==================================================\n",
      "\n",
      "\n",
      "==================================================\n",
      "knn calculating..... for k= 16 and n=2\n"
     ]
    },
    {
     "name": "stderr",
     "output_type": "stream",
     "text": [
      "100%|██████████| 1000/1000 [00:01<00:00, 606.04it/s]\n",
      " 13%|█▎        | 133/1000 [00:00<00:01, 660.09it/s]"
     ]
    },
    {
     "name": "stdout",
     "output_type": "stream",
     "text": [
      "the accuracy value is :92.0\n",
      "==================================================\n",
      "\n",
      "\n",
      "==================================================\n",
      "knn calculating..... for k= 16 and n=3\n"
     ]
    },
    {
     "name": "stderr",
     "output_type": "stream",
     "text": [
      "100%|██████████| 1000/1000 [00:01<00:00, 618.38it/s]\n",
      "  6%|▋         | 63/1000 [00:00<00:01, 624.00it/s]"
     ]
    },
    {
     "name": "stdout",
     "output_type": "stream",
     "text": [
      "the accuracy value is :91.4\n",
      "==================================================\n",
      "\n",
      "\n",
      "==================================================\n",
      "knn calculating..... for k= 16 and n=4\n"
     ]
    },
    {
     "name": "stderr",
     "output_type": "stream",
     "text": [
      "100%|██████████| 1000/1000 [00:01<00:00, 617.16it/s]\n",
      "  6%|▌         | 62/1000 [00:00<00:01, 617.10it/s]"
     ]
    },
    {
     "name": "stdout",
     "output_type": "stream",
     "text": [
      "the accuracy value is :90.60000000000001\n",
      "==================================================\n",
      "\n",
      "\n",
      "==================================================\n",
      "knn calculating..... for k= 16 and n=5\n"
     ]
    },
    {
     "name": "stderr",
     "output_type": "stream",
     "text": [
      "100%|██████████| 1000/1000 [00:01<00:00, 632.40it/s]\n",
      "  7%|▋         | 66/1000 [00:00<00:01, 654.77it/s]"
     ]
    },
    {
     "name": "stdout",
     "output_type": "stream",
     "text": [
      "the accuracy value is :89.60000000000001\n",
      "==================================================\n",
      "\n",
      "\n",
      "==================================================\n",
      "knn calculating..... for k= 17 and n=1\n"
     ]
    },
    {
     "name": "stderr",
     "output_type": "stream",
     "text": [
      "100%|██████████| 1000/1000 [00:01<00:00, 614.32it/s]\n",
      "  6%|▌         | 60/1000 [00:00<00:01, 599.60it/s]"
     ]
    },
    {
     "name": "stdout",
     "output_type": "stream",
     "text": [
      "the accuracy value is :91.7\n",
      "==================================================\n",
      "\n",
      "\n",
      "==================================================\n",
      "knn calculating..... for k= 17 and n=2\n"
     ]
    },
    {
     "name": "stderr",
     "output_type": "stream",
     "text": [
      "100%|██████████| 1000/1000 [00:01<00:00, 605.31it/s]\n",
      "  6%|▌         | 61/1000 [00:00<00:01, 607.31it/s]"
     ]
    },
    {
     "name": "stdout",
     "output_type": "stream",
     "text": [
      "the accuracy value is :91.4\n",
      "==================================================\n",
      "\n",
      "\n",
      "==================================================\n",
      "knn calculating..... for k= 17 and n=3\n"
     ]
    },
    {
     "name": "stderr",
     "output_type": "stream",
     "text": [
      "100%|██████████| 1000/1000 [00:01<00:00, 625.79it/s]\n",
      "  7%|▋         | 66/1000 [00:00<00:01, 655.69it/s]"
     ]
    },
    {
     "name": "stdout",
     "output_type": "stream",
     "text": [
      "the accuracy value is :91.10000000000001\n",
      "==================================================\n",
      "\n",
      "\n",
      "==================================================\n",
      "knn calculating..... for k= 17 and n=4\n"
     ]
    },
    {
     "name": "stderr",
     "output_type": "stream",
     "text": [
      "100%|██████████| 1000/1000 [00:01<00:00, 654.11it/s]\n",
      "  7%|▋         | 67/1000 [00:00<00:01, 667.09it/s]"
     ]
    },
    {
     "name": "stdout",
     "output_type": "stream",
     "text": [
      "the accuracy value is :90.60000000000001\n",
      "==================================================\n",
      "\n",
      "\n",
      "==================================================\n",
      "knn calculating..... for k= 17 and n=5\n"
     ]
    },
    {
     "name": "stderr",
     "output_type": "stream",
     "text": [
      "100%|██████████| 1000/1000 [00:01<00:00, 622.60it/s]\n",
      " 12%|█▎        | 125/1000 [00:00<00:01, 619.60it/s]"
     ]
    },
    {
     "name": "stdout",
     "output_type": "stream",
     "text": [
      "the accuracy value is :89.60000000000001\n",
      "==================================================\n",
      "\n",
      "\n",
      "==================================================\n",
      "knn calculating..... for k= 18 and n=1\n"
     ]
    },
    {
     "name": "stderr",
     "output_type": "stream",
     "text": [
      "100%|██████████| 1000/1000 [00:01<00:00, 603.86it/s]\n",
      "  6%|▋         | 63/1000 [00:00<00:01, 623.93it/s]"
     ]
    },
    {
     "name": "stdout",
     "output_type": "stream",
     "text": [
      "the accuracy value is :91.7\n",
      "==================================================\n",
      "\n",
      "\n",
      "==================================================\n",
      "knn calculating..... for k= 18 and n=2\n"
     ]
    },
    {
     "name": "stderr",
     "output_type": "stream",
     "text": [
      "100%|██████████| 1000/1000 [00:01<00:00, 625.08it/s]\n",
      "  6%|▌         | 62/1000 [00:00<00:01, 610.39it/s]"
     ]
    },
    {
     "name": "stdout",
     "output_type": "stream",
     "text": [
      "the accuracy value is :91.60000000000001\n",
      "==================================================\n",
      "\n",
      "\n",
      "==================================================\n",
      "knn calculating..... for k= 18 and n=3\n"
     ]
    },
    {
     "name": "stderr",
     "output_type": "stream",
     "text": [
      "100%|██████████| 1000/1000 [00:01<00:00, 622.68it/s]\n",
      "  6%|▌         | 62/1000 [00:00<00:01, 617.21it/s]"
     ]
    },
    {
     "name": "stdout",
     "output_type": "stream",
     "text": [
      "the accuracy value is :91.2\n",
      "==================================================\n",
      "\n",
      "\n",
      "==================================================\n",
      "knn calculating..... for k= 18 and n=4\n"
     ]
    },
    {
     "name": "stderr",
     "output_type": "stream",
     "text": [
      "100%|██████████| 1000/1000 [00:01<00:00, 604.73it/s]\n",
      "  6%|▋         | 64/1000 [00:00<00:01, 636.70it/s]"
     ]
    },
    {
     "name": "stdout",
     "output_type": "stream",
     "text": [
      "the accuracy value is :90.9\n",
      "==================================================\n",
      "\n",
      "\n",
      "==================================================\n",
      "knn calculating..... for k= 18 and n=5\n"
     ]
    },
    {
     "name": "stderr",
     "output_type": "stream",
     "text": [
      "100%|██████████| 1000/1000 [00:01<00:00, 621.70it/s]\n",
      "  6%|▋         | 64/1000 [00:00<00:01, 635.28it/s]"
     ]
    },
    {
     "name": "stdout",
     "output_type": "stream",
     "text": [
      "the accuracy value is :90.3\n",
      "==================================================\n",
      "\n",
      "\n",
      "==================================================\n",
      "knn calculating..... for k= 19 and n=1\n"
     ]
    },
    {
     "name": "stderr",
     "output_type": "stream",
     "text": [
      "100%|██████████| 1000/1000 [00:01<00:00, 603.61it/s]\n",
      "  4%|▍         | 44/1000 [00:00<00:02, 433.56it/s]"
     ]
    },
    {
     "name": "stdout",
     "output_type": "stream",
     "text": [
      "the accuracy value is :91.60000000000001\n",
      "==================================================\n",
      "\n",
      "\n",
      "==================================================\n",
      "knn calculating..... for k= 19 and n=2\n"
     ]
    },
    {
     "name": "stderr",
     "output_type": "stream",
     "text": [
      "100%|██████████| 1000/1000 [00:01<00:00, 614.99it/s]\n",
      "  7%|▋         | 66/1000 [00:00<00:01, 658.30it/s]"
     ]
    },
    {
     "name": "stdout",
     "output_type": "stream",
     "text": [
      "the accuracy value is :91.8\n",
      "==================================================\n",
      "\n",
      "\n",
      "==================================================\n",
      "knn calculating..... for k= 19 and n=3\n"
     ]
    },
    {
     "name": "stderr",
     "output_type": "stream",
     "text": [
      "100%|██████████| 1000/1000 [00:01<00:00, 606.32it/s]\n",
      "  6%|▌         | 60/1000 [00:00<00:01, 594.74it/s]"
     ]
    },
    {
     "name": "stdout",
     "output_type": "stream",
     "text": [
      "the accuracy value is :91.4\n",
      "==================================================\n",
      "\n",
      "\n",
      "==================================================\n",
      "knn calculating..... for k= 19 and n=4\n"
     ]
    },
    {
     "name": "stderr",
     "output_type": "stream",
     "text": [
      "100%|██████████| 1000/1000 [00:01<00:00, 596.60it/s]\n",
      "  6%|▌         | 56/1000 [00:00<00:01, 557.84it/s]"
     ]
    },
    {
     "name": "stdout",
     "output_type": "stream",
     "text": [
      "the accuracy value is :91.0\n",
      "==================================================\n",
      "\n",
      "\n",
      "==================================================\n",
      "knn calculating..... for k= 19 and n=5\n"
     ]
    },
    {
     "name": "stderr",
     "output_type": "stream",
     "text": [
      "100%|██████████| 1000/1000 [00:01<00:00, 611.95it/s]\n",
      "  7%|▋         | 67/1000 [00:00<00:01, 669.71it/s]"
     ]
    },
    {
     "name": "stdout",
     "output_type": "stream",
     "text": [
      "the accuracy value is :90.10000000000001\n",
      "==================================================\n",
      "\n",
      "\n",
      "==================================================\n",
      "knn calculating..... for k= 20 and n=1\n"
     ]
    },
    {
     "name": "stderr",
     "output_type": "stream",
     "text": [
      "100%|██████████| 1000/1000 [00:01<00:00, 607.07it/s]\n",
      "  6%|▋         | 65/1000 [00:00<00:01, 641.46it/s]"
     ]
    },
    {
     "name": "stdout",
     "output_type": "stream",
     "text": [
      "the accuracy value is :91.5\n",
      "==================================================\n",
      "\n",
      "\n",
      "==================================================\n",
      "knn calculating..... for k= 20 and n=2\n"
     ]
    },
    {
     "name": "stderr",
     "output_type": "stream",
     "text": [
      "100%|██████████| 1000/1000 [00:01<00:00, 648.02it/s]\n",
      " 13%|█▎        | 126/1000 [00:00<00:01, 633.94it/s]"
     ]
    },
    {
     "name": "stdout",
     "output_type": "stream",
     "text": [
      "the accuracy value is :91.3\n",
      "==================================================\n",
      "\n",
      "\n",
      "==================================================\n",
      "knn calculating..... for k= 20 and n=3\n"
     ]
    },
    {
     "name": "stderr",
     "output_type": "stream",
     "text": [
      "100%|██████████| 1000/1000 [00:01<00:00, 625.34it/s]\n",
      "  7%|▋         | 67/1000 [00:00<00:01, 661.79it/s]"
     ]
    },
    {
     "name": "stdout",
     "output_type": "stream",
     "text": [
      "the accuracy value is :91.4\n",
      "==================================================\n",
      "\n",
      "\n",
      "==================================================\n",
      "knn calculating..... for k= 20 and n=4\n"
     ]
    },
    {
     "name": "stderr",
     "output_type": "stream",
     "text": [
      "100%|██████████| 1000/1000 [00:01<00:00, 630.29it/s]\n",
      " 13%|█▎        | 126/1000 [00:00<00:01, 630.95it/s]"
     ]
    },
    {
     "name": "stdout",
     "output_type": "stream",
     "text": [
      "the accuracy value is :90.60000000000001\n",
      "==================================================\n",
      "\n",
      "\n",
      "==================================================\n",
      "knn calculating..... for k= 20 and n=5\n"
     ]
    },
    {
     "name": "stderr",
     "output_type": "stream",
     "text": [
      "100%|██████████| 1000/1000 [00:01<00:00, 622.74it/s]\n",
      "  6%|▋         | 64/1000 [00:00<00:01, 631.81it/s]"
     ]
    },
    {
     "name": "stdout",
     "output_type": "stream",
     "text": [
      "the accuracy value is :90.0\n",
      "==================================================\n",
      "\n",
      "\n",
      "==================================================\n",
      "knn calculating..... for k= 21 and n=1\n"
     ]
    },
    {
     "name": "stderr",
     "output_type": "stream",
     "text": [
      "100%|██████████| 1000/1000 [00:01<00:00, 621.01it/s]\n",
      "  7%|▋         | 66/1000 [00:00<00:01, 651.77it/s]"
     ]
    },
    {
     "name": "stdout",
     "output_type": "stream",
     "text": [
      "the accuracy value is :91.5\n",
      "==================================================\n",
      "\n",
      "\n",
      "==================================================\n",
      "knn calculating..... for k= 21 and n=2\n"
     ]
    },
    {
     "name": "stderr",
     "output_type": "stream",
     "text": [
      "100%|██████████| 1000/1000 [00:01<00:00, 628.63it/s]\n",
      "  6%|▌         | 62/1000 [00:00<00:01, 618.56it/s]"
     ]
    },
    {
     "name": "stdout",
     "output_type": "stream",
     "text": [
      "the accuracy value is :91.0\n",
      "==================================================\n",
      "\n",
      "\n",
      "==================================================\n",
      "knn calculating..... for k= 21 and n=3\n"
     ]
    },
    {
     "name": "stderr",
     "output_type": "stream",
     "text": [
      "100%|██████████| 1000/1000 [00:01<00:00, 632.47it/s]\n",
      "  7%|▋         | 67/1000 [00:00<00:01, 661.13it/s]"
     ]
    },
    {
     "name": "stdout",
     "output_type": "stream",
     "text": [
      "the accuracy value is :91.10000000000001\n",
      "==================================================\n",
      "\n",
      "\n",
      "==================================================\n",
      "knn calculating..... for k= 21 and n=4\n"
     ]
    },
    {
     "name": "stderr",
     "output_type": "stream",
     "text": [
      "100%|██████████| 1000/1000 [00:01<00:00, 636.11it/s]\n",
      " 13%|█▎        | 134/1000 [00:00<00:01, 667.06it/s]"
     ]
    },
    {
     "name": "stdout",
     "output_type": "stream",
     "text": [
      "the accuracy value is :90.2\n",
      "==================================================\n",
      "\n",
      "\n",
      "==================================================\n",
      "knn calculating..... for k= 21 and n=5\n"
     ]
    },
    {
     "name": "stderr",
     "output_type": "stream",
     "text": [
      "100%|██████████| 1000/1000 [00:01<00:00, 637.43it/s]\n",
      "  7%|▋         | 67/1000 [00:00<00:01, 667.54it/s]"
     ]
    },
    {
     "name": "stdout",
     "output_type": "stream",
     "text": [
      "the accuracy value is :89.9\n",
      "==================================================\n",
      "\n",
      "\n",
      "==================================================\n",
      "knn calculating..... for k= 22 and n=1\n"
     ]
    },
    {
     "name": "stderr",
     "output_type": "stream",
     "text": [
      "100%|██████████| 1000/1000 [00:01<00:00, 630.77it/s]\n",
      "  7%|▋         | 68/1000 [00:00<00:01, 674.94it/s]"
     ]
    },
    {
     "name": "stdout",
     "output_type": "stream",
     "text": [
      "the accuracy value is :91.7\n",
      "==================================================\n",
      "\n",
      "\n",
      "==================================================\n",
      "knn calculating..... for k= 22 and n=2\n"
     ]
    },
    {
     "name": "stderr",
     "output_type": "stream",
     "text": [
      "100%|██████████| 1000/1000 [00:01<00:00, 627.19it/s]\n",
      "  6%|▌         | 62/1000 [00:00<00:01, 618.72it/s]"
     ]
    },
    {
     "name": "stdout",
     "output_type": "stream",
     "text": [
      "the accuracy value is :91.2\n",
      "==================================================\n",
      "\n",
      "\n",
      "==================================================\n",
      "knn calculating..... for k= 22 and n=3\n"
     ]
    },
    {
     "name": "stderr",
     "output_type": "stream",
     "text": [
      "100%|██████████| 1000/1000 [00:01<00:00, 632.69it/s]\n",
      "  7%|▋         | 68/1000 [00:00<00:01, 673.52it/s]"
     ]
    },
    {
     "name": "stdout",
     "output_type": "stream",
     "text": [
      "the accuracy value is :90.9\n",
      "==================================================\n",
      "\n",
      "\n",
      "==================================================\n",
      "knn calculating..... for k= 22 and n=4\n"
     ]
    },
    {
     "name": "stderr",
     "output_type": "stream",
     "text": [
      "100%|██████████| 1000/1000 [00:01<00:00, 641.52it/s]\n",
      "  7%|▋         | 66/1000 [00:00<00:01, 650.41it/s]"
     ]
    },
    {
     "name": "stdout",
     "output_type": "stream",
     "text": [
      "the accuracy value is :90.10000000000001\n",
      "==================================================\n",
      "\n",
      "\n",
      "==================================================\n",
      "knn calculating..... for k= 22 and n=5\n"
     ]
    },
    {
     "name": "stderr",
     "output_type": "stream",
     "text": [
      "100%|██████████| 1000/1000 [00:01<00:00, 628.85it/s]\n",
      "  6%|▋         | 63/1000 [00:00<00:01, 621.37it/s]"
     ]
    },
    {
     "name": "stdout",
     "output_type": "stream",
     "text": [
      "the accuracy value is :89.8\n",
      "==================================================\n",
      "\n",
      "\n",
      "==================================================\n",
      "knn calculating..... for k= 23 and n=1\n"
     ]
    },
    {
     "name": "stderr",
     "output_type": "stream",
     "text": [
      "100%|██████████| 1000/1000 [00:01<00:00, 635.53it/s]\n",
      "  6%|▌         | 59/1000 [00:00<00:01, 584.84it/s]"
     ]
    },
    {
     "name": "stdout",
     "output_type": "stream",
     "text": [
      "the accuracy value is :91.4\n",
      "==================================================\n",
      "\n",
      "\n",
      "==================================================\n",
      "knn calculating..... for k= 23 and n=2\n"
     ]
    },
    {
     "name": "stderr",
     "output_type": "stream",
     "text": [
      "100%|██████████| 1000/1000 [00:01<00:00, 631.64it/s]\n",
      "  7%|▋         | 68/1000 [00:00<00:01, 674.83it/s]"
     ]
    },
    {
     "name": "stdout",
     "output_type": "stream",
     "text": [
      "the accuracy value is :90.9\n",
      "==================================================\n",
      "\n",
      "\n",
      "==================================================\n",
      "knn calculating..... for k= 23 and n=3\n"
     ]
    },
    {
     "name": "stderr",
     "output_type": "stream",
     "text": [
      "100%|██████████| 1000/1000 [00:01<00:00, 668.67it/s]\n",
      "  7%|▋         | 67/1000 [00:00<00:01, 666.68it/s]"
     ]
    },
    {
     "name": "stdout",
     "output_type": "stream",
     "text": [
      "the accuracy value is :91.0\n",
      "==================================================\n",
      "\n",
      "\n",
      "==================================================\n",
      "knn calculating..... for k= 23 and n=4\n"
     ]
    },
    {
     "name": "stderr",
     "output_type": "stream",
     "text": [
      "100%|██████████| 1000/1000 [00:01<00:00, 649.85it/s]\n",
      "  7%|▋         | 68/1000 [00:00<00:01, 670.65it/s]"
     ]
    },
    {
     "name": "stdout",
     "output_type": "stream",
     "text": [
      "the accuracy value is :89.9\n",
      "==================================================\n",
      "\n",
      "\n",
      "==================================================\n",
      "knn calculating..... for k= 23 and n=5\n"
     ]
    },
    {
     "name": "stderr",
     "output_type": "stream",
     "text": [
      "100%|██████████| 1000/1000 [00:01<00:00, 634.57it/s]\n",
      " 13%|█▎        | 132/1000 [00:00<00:01, 657.56it/s]"
     ]
    },
    {
     "name": "stdout",
     "output_type": "stream",
     "text": [
      "the accuracy value is :88.9\n",
      "==================================================\n",
      "\n",
      "\n",
      "==================================================\n",
      "knn calculating..... for k= 24 and n=1\n"
     ]
    },
    {
     "name": "stderr",
     "output_type": "stream",
     "text": [
      "100%|██████████| 1000/1000 [00:01<00:00, 648.02it/s]\n",
      "  7%|▋         | 66/1000 [00:00<00:01, 653.53it/s]"
     ]
    },
    {
     "name": "stdout",
     "output_type": "stream",
     "text": [
      "the accuracy value is :90.60000000000001\n",
      "==================================================\n",
      "\n",
      "\n",
      "==================================================\n",
      "knn calculating..... for k= 24 and n=2\n"
     ]
    },
    {
     "name": "stderr",
     "output_type": "stream",
     "text": [
      "100%|██████████| 1000/1000 [00:01<00:00, 630.96it/s]\n",
      "  6%|▌         | 60/1000 [00:00<00:01, 594.03it/s]"
     ]
    },
    {
     "name": "stdout",
     "output_type": "stream",
     "text": [
      "the accuracy value is :90.4\n",
      "==================================================\n",
      "\n",
      "\n",
      "==================================================\n",
      "knn calculating..... for k= 24 and n=3\n"
     ]
    },
    {
     "name": "stderr",
     "output_type": "stream",
     "text": [
      "100%|██████████| 1000/1000 [00:01<00:00, 653.82it/s]\n",
      "  7%|▋         | 68/1000 [00:00<00:01, 673.85it/s]"
     ]
    },
    {
     "name": "stdout",
     "output_type": "stream",
     "text": [
      "the accuracy value is :90.60000000000001\n",
      "==================================================\n",
      "\n",
      "\n",
      "==================================================\n",
      "knn calculating..... for k= 24 and n=4\n"
     ]
    },
    {
     "name": "stderr",
     "output_type": "stream",
     "text": [
      "100%|██████████| 1000/1000 [00:01<00:00, 642.24it/s]\n",
      "  7%|▋         | 68/1000 [00:00<00:01, 668.69it/s]"
     ]
    },
    {
     "name": "stdout",
     "output_type": "stream",
     "text": [
      "the accuracy value is :90.0\n",
      "==================================================\n",
      "\n",
      "\n",
      "==================================================\n",
      "knn calculating..... for k= 24 and n=5\n"
     ]
    },
    {
     "name": "stderr",
     "output_type": "stream",
     "text": [
      "100%|██████████| 1000/1000 [00:01<00:00, 628.26it/s]\n",
      "  6%|▋         | 63/1000 [00:00<00:01, 622.71it/s]"
     ]
    },
    {
     "name": "stdout",
     "output_type": "stream",
     "text": [
      "the accuracy value is :89.0\n",
      "==================================================\n",
      "\n",
      "\n",
      "==================================================\n",
      "knn calculating..... for k= 25 and n=1\n"
     ]
    },
    {
     "name": "stderr",
     "output_type": "stream",
     "text": [
      "100%|██████████| 1000/1000 [00:01<00:00, 638.86it/s]\n",
      "  6%|▋         | 64/1000 [00:00<00:01, 634.68it/s]"
     ]
    },
    {
     "name": "stdout",
     "output_type": "stream",
     "text": [
      "the accuracy value is :90.9\n",
      "==================================================\n",
      "\n",
      "\n",
      "==================================================\n",
      "knn calculating..... for k= 25 and n=2\n"
     ]
    },
    {
     "name": "stderr",
     "output_type": "stream",
     "text": [
      "100%|██████████| 1000/1000 [00:01<00:00, 622.47it/s]\n",
      "  7%|▋         | 68/1000 [00:00<00:01, 672.50it/s]"
     ]
    },
    {
     "name": "stdout",
     "output_type": "stream",
     "text": [
      "the accuracy value is :90.3\n",
      "==================================================\n",
      "\n",
      "\n",
      "==================================================\n",
      "knn calculating..... for k= 25 and n=3\n"
     ]
    },
    {
     "name": "stderr",
     "output_type": "stream",
     "text": [
      "100%|██████████| 1000/1000 [00:01<00:00, 635.16it/s]\n",
      "  6%|▋         | 64/1000 [00:00<00:01, 621.82it/s]"
     ]
    },
    {
     "name": "stdout",
     "output_type": "stream",
     "text": [
      "the accuracy value is :90.4\n",
      "==================================================\n",
      "\n",
      "\n",
      "==================================================\n",
      "knn calculating..... for k= 25 and n=4\n"
     ]
    },
    {
     "name": "stderr",
     "output_type": "stream",
     "text": [
      "100%|██████████| 1000/1000 [00:01<00:00, 619.19it/s]\n",
      "  7%|▋         | 67/1000 [00:00<00:01, 664.77it/s]"
     ]
    },
    {
     "name": "stdout",
     "output_type": "stream",
     "text": [
      "the accuracy value is :89.8\n",
      "==================================================\n",
      "\n",
      "\n",
      "==================================================\n",
      "knn calculating..... for k= 25 and n=5\n"
     ]
    },
    {
     "name": "stderr",
     "output_type": "stream",
     "text": [
      "100%|██████████| 1000/1000 [00:01<00:00, 634.36it/s]\n",
      " 13%|█▎        | 131/1000 [00:00<00:01, 652.28it/s]"
     ]
    },
    {
     "name": "stdout",
     "output_type": "stream",
     "text": [
      "the accuracy value is :89.1\n",
      "==================================================\n",
      "\n",
      "\n",
      "==================================================\n",
      "knn calculating..... for k= 26 and n=1\n"
     ]
    },
    {
     "name": "stderr",
     "output_type": "stream",
     "text": [
      "100%|██████████| 1000/1000 [00:01<00:00, 638.21it/s]\n",
      " 13%|█▎        | 126/1000 [00:00<00:01, 608.85it/s]"
     ]
    },
    {
     "name": "stdout",
     "output_type": "stream",
     "text": [
      "the accuracy value is :90.60000000000001\n",
      "==================================================\n",
      "\n",
      "\n",
      "==================================================\n",
      "knn calculating..... for k= 26 and n=2\n"
     ]
    },
    {
     "name": "stderr",
     "output_type": "stream",
     "text": [
      "100%|██████████| 1000/1000 [00:01<00:00, 626.23it/s]\n",
      " 13%|█▎        | 128/1000 [00:00<00:01, 622.97it/s]"
     ]
    },
    {
     "name": "stdout",
     "output_type": "stream",
     "text": [
      "the accuracy value is :90.7\n",
      "==================================================\n",
      "\n",
      "\n",
      "==================================================\n",
      "knn calculating..... for k= 26 and n=3\n"
     ]
    },
    {
     "name": "stderr",
     "output_type": "stream",
     "text": [
      "100%|██████████| 1000/1000 [00:01<00:00, 643.69it/s]\n",
      " 13%|█▎        | 133/1000 [00:00<00:01, 653.07it/s]"
     ]
    },
    {
     "name": "stdout",
     "output_type": "stream",
     "text": [
      "the accuracy value is :90.3\n",
      "==================================================\n",
      "\n",
      "\n",
      "==================================================\n",
      "knn calculating..... for k= 26 and n=4\n"
     ]
    },
    {
     "name": "stderr",
     "output_type": "stream",
     "text": [
      "100%|██████████| 1000/1000 [00:01<00:00, 642.96it/s]\n",
      "  6%|▌         | 62/1000 [00:00<00:01, 611.05it/s]"
     ]
    },
    {
     "name": "stdout",
     "output_type": "stream",
     "text": [
      "the accuracy value is :89.7\n",
      "==================================================\n",
      "\n",
      "\n",
      "==================================================\n",
      "knn calculating..... for k= 26 and n=5\n"
     ]
    },
    {
     "name": "stderr",
     "output_type": "stream",
     "text": [
      "100%|██████████| 1000/1000 [00:01<00:00, 626.63it/s]\n",
      "  7%|▋         | 68/1000 [00:00<00:01, 679.55it/s]"
     ]
    },
    {
     "name": "stdout",
     "output_type": "stream",
     "text": [
      "the accuracy value is :88.8\n",
      "==================================================\n",
      "\n",
      "\n",
      "==================================================\n",
      "knn calculating..... for k= 27 and n=1\n"
     ]
    },
    {
     "name": "stderr",
     "output_type": "stream",
     "text": [
      "100%|██████████| 1000/1000 [00:01<00:00, 631.59it/s]\n",
      "  6%|▌         | 60/1000 [00:00<00:01, 598.38it/s]"
     ]
    },
    {
     "name": "stdout",
     "output_type": "stream",
     "text": [
      "the accuracy value is :90.60000000000001\n",
      "==================================================\n",
      "\n",
      "\n",
      "==================================================\n",
      "knn calculating..... for k= 27 and n=2\n"
     ]
    },
    {
     "name": "stderr",
     "output_type": "stream",
     "text": [
      "100%|██████████| 1000/1000 [00:01<00:00, 654.26it/s]\n",
      "  7%|▋         | 67/1000 [00:00<00:01, 669.38it/s]"
     ]
    },
    {
     "name": "stdout",
     "output_type": "stream",
     "text": [
      "the accuracy value is :89.7\n",
      "==================================================\n",
      "\n",
      "\n",
      "==================================================\n",
      "knn calculating..... for k= 27 and n=3\n"
     ]
    },
    {
     "name": "stderr",
     "output_type": "stream",
     "text": [
      "100%|██████████| 1000/1000 [00:01<00:00, 646.48it/s]\n",
      " 14%|█▎        | 135/1000 [00:00<00:01, 669.53it/s]"
     ]
    },
    {
     "name": "stdout",
     "output_type": "stream",
     "text": [
      "the accuracy value is :89.7\n",
      "==================================================\n",
      "\n",
      "\n",
      "==================================================\n",
      "knn calculating..... for k= 27 and n=4\n"
     ]
    },
    {
     "name": "stderr",
     "output_type": "stream",
     "text": [
      "100%|██████████| 1000/1000 [00:01<00:00, 655.44it/s]\n",
      "  7%|▋         | 68/1000 [00:00<00:01, 672.34it/s]"
     ]
    },
    {
     "name": "stdout",
     "output_type": "stream",
     "text": [
      "the accuracy value is :89.4\n",
      "==================================================\n",
      "\n",
      "\n",
      "==================================================\n",
      "knn calculating..... for k= 27 and n=5\n"
     ]
    },
    {
     "name": "stderr",
     "output_type": "stream",
     "text": [
      "100%|██████████| 1000/1000 [00:01<00:00, 657.91it/s]\n",
      "  6%|▋         | 65/1000 [00:00<00:01, 642.39it/s]"
     ]
    },
    {
     "name": "stdout",
     "output_type": "stream",
     "text": [
      "the accuracy value is :87.9\n",
      "==================================================\n",
      "\n",
      "\n",
      "==================================================\n",
      "knn calculating..... for k= 28 and n=1\n"
     ]
    },
    {
     "name": "stderr",
     "output_type": "stream",
     "text": [
      "100%|██████████| 1000/1000 [00:01<00:00, 632.49it/s]\n",
      "  6%|▌         | 62/1000 [00:00<00:01, 612.04it/s]"
     ]
    },
    {
     "name": "stdout",
     "output_type": "stream",
     "text": [
      "the accuracy value is :90.5\n",
      "==================================================\n",
      "\n",
      "\n",
      "==================================================\n",
      "knn calculating..... for k= 28 and n=2\n"
     ]
    },
    {
     "name": "stderr",
     "output_type": "stream",
     "text": [
      "100%|██████████| 1000/1000 [00:01<00:00, 623.12it/s]\n",
      "  7%|▋         | 67/1000 [00:00<00:01, 660.36it/s]"
     ]
    },
    {
     "name": "stdout",
     "output_type": "stream",
     "text": [
      "the accuracy value is :90.2\n",
      "==================================================\n",
      "\n",
      "\n",
      "==================================================\n",
      "knn calculating..... for k= 28 and n=3\n"
     ]
    },
    {
     "name": "stderr",
     "output_type": "stream",
     "text": [
      "100%|██████████| 1000/1000 [00:01<00:00, 633.69it/s]\n",
      " 12%|█▎        | 125/1000 [00:00<00:01, 612.48it/s]"
     ]
    },
    {
     "name": "stdout",
     "output_type": "stream",
     "text": [
      "the accuracy value is :90.10000000000001\n",
      "==================================================\n",
      "\n",
      "\n",
      "==================================================\n",
      "knn calculating..... for k= 28 and n=4\n"
     ]
    },
    {
     "name": "stderr",
     "output_type": "stream",
     "text": [
      "100%|██████████| 1000/1000 [00:01<00:00, 652.07it/s]\n",
      "  7%|▋         | 66/1000 [00:00<00:01, 659.37it/s]"
     ]
    },
    {
     "name": "stdout",
     "output_type": "stream",
     "text": [
      "the accuracy value is :89.1\n",
      "==================================================\n",
      "\n",
      "\n",
      "==================================================\n",
      "knn calculating..... for k= 28 and n=5\n"
     ]
    },
    {
     "name": "stderr",
     "output_type": "stream",
     "text": [
      "100%|██████████| 1000/1000 [00:01<00:00, 636.92it/s]\n",
      "  6%|▋         | 63/1000 [00:00<00:01, 624.20it/s]"
     ]
    },
    {
     "name": "stdout",
     "output_type": "stream",
     "text": [
      "the accuracy value is :88.3\n",
      "==================================================\n",
      "\n",
      "\n",
      "==================================================\n",
      "knn calculating..... for k= 29 and n=1\n"
     ]
    },
    {
     "name": "stderr",
     "output_type": "stream",
     "text": [
      "100%|██████████| 1000/1000 [00:01<00:00, 638.66it/s]\n",
      "  7%|▋         | 66/1000 [00:00<00:01, 657.52it/s]"
     ]
    },
    {
     "name": "stdout",
     "output_type": "stream",
     "text": [
      "the accuracy value is :90.4\n",
      "==================================================\n",
      "\n",
      "\n",
      "==================================================\n",
      "knn calculating..... for k= 29 and n=2\n"
     ]
    },
    {
     "name": "stderr",
     "output_type": "stream",
     "text": [
      "100%|██████████| 1000/1000 [00:01<00:00, 632.39it/s]\n",
      " 13%|█▎        | 126/1000 [00:00<00:01, 634.96it/s]"
     ]
    },
    {
     "name": "stdout",
     "output_type": "stream",
     "text": [
      "the accuracy value is :90.10000000000001\n",
      "==================================================\n",
      "\n",
      "\n",
      "==================================================\n",
      "knn calculating..... for k= 29 and n=3\n"
     ]
    },
    {
     "name": "stderr",
     "output_type": "stream",
     "text": [
      "100%|██████████| 1000/1000 [00:01<00:00, 637.12it/s]\n",
      " 12%|█▏        | 121/1000 [00:00<00:01, 595.38it/s]"
     ]
    },
    {
     "name": "stdout",
     "output_type": "stream",
     "text": [
      "the accuracy value is :90.10000000000001\n",
      "==================================================\n",
      "\n",
      "\n",
      "==================================================\n",
      "knn calculating..... for k= 29 and n=4\n"
     ]
    },
    {
     "name": "stderr",
     "output_type": "stream",
     "text": [
      "100%|██████████| 1000/1000 [00:01<00:00, 638.98it/s]\n",
      "  7%|▋         | 67/1000 [00:00<00:01, 660.41it/s]"
     ]
    },
    {
     "name": "stdout",
     "output_type": "stream",
     "text": [
      "the accuracy value is :89.2\n",
      "==================================================\n",
      "\n",
      "\n",
      "==================================================\n",
      "knn calculating..... for k= 29 and n=5\n"
     ]
    },
    {
     "name": "stderr",
     "output_type": "stream",
     "text": [
      "100%|██████████| 1000/1000 [00:01<00:00, 627.24it/s]\n",
      "  7%|▋         | 68/1000 [00:00<00:01, 674.64it/s]"
     ]
    },
    {
     "name": "stdout",
     "output_type": "stream",
     "text": [
      "the accuracy value is :88.4\n",
      "==================================================\n",
      "\n",
      "\n",
      "==================================================\n",
      "knn calculating..... for k= 30 and n=1\n"
     ]
    },
    {
     "name": "stderr",
     "output_type": "stream",
     "text": [
      "100%|██████████| 1000/1000 [00:01<00:00, 646.84it/s]\n",
      " 13%|█▎        | 132/1000 [00:00<00:01, 655.06it/s]"
     ]
    },
    {
     "name": "stdout",
     "output_type": "stream",
     "text": [
      "the accuracy value is :89.7\n",
      "==================================================\n",
      "\n",
      "\n",
      "==================================================\n",
      "knn calculating..... for k= 30 and n=2\n"
     ]
    },
    {
     "name": "stderr",
     "output_type": "stream",
     "text": [
      "100%|██████████| 1000/1000 [00:01<00:00, 654.33it/s]\n",
      "  6%|▌         | 59/1000 [00:00<00:01, 588.78it/s]"
     ]
    },
    {
     "name": "stdout",
     "output_type": "stream",
     "text": [
      "the accuracy value is :89.7\n",
      "==================================================\n",
      "\n",
      "\n",
      "==================================================\n",
      "knn calculating..... for k= 30 and n=3\n"
     ]
    },
    {
     "name": "stderr",
     "output_type": "stream",
     "text": [
      "100%|██████████| 1000/1000 [00:01<00:00, 635.94it/s]\n",
      "  7%|▋         | 68/1000 [00:00<00:01, 675.55it/s]"
     ]
    },
    {
     "name": "stdout",
     "output_type": "stream",
     "text": [
      "the accuracy value is :89.7\n",
      "==================================================\n",
      "\n",
      "\n",
      "==================================================\n",
      "knn calculating..... for k= 30 and n=4\n"
     ]
    },
    {
     "name": "stderr",
     "output_type": "stream",
     "text": [
      "100%|██████████| 1000/1000 [00:01<00:00, 667.71it/s]\n",
      " 14%|█▎        | 135/1000 [00:00<00:01, 671.20it/s]"
     ]
    },
    {
     "name": "stdout",
     "output_type": "stream",
     "text": [
      "the accuracy value is :89.1\n",
      "==================================================\n",
      "\n",
      "\n",
      "==================================================\n",
      "knn calculating..... for k= 30 and n=5\n"
     ]
    },
    {
     "name": "stderr",
     "output_type": "stream",
     "text": [
      "100%|██████████| 1000/1000 [00:01<00:00, 629.20it/s]"
     ]
    },
    {
     "name": "stdout",
     "output_type": "stream",
     "text": [
      "the accuracy value is :87.8\n",
      "==================================================\n",
      "\n",
      "\n",
      "time taken to evaluate is:239.97605800628662\n"
     ]
    },
    {
     "name": "stderr",
     "output_type": "stream",
     "text": [
      "\n"
     ]
    }
   ],
   "source": [
    "from numpy import genfromtxt\n",
    "my_data = genfromtxt('trainingData.csv', delimiter=',')\n",
    "\n",
    "y_train=my_data[:,10]# this prints the labels\n",
    "x_train=my_data[:,:-1] #every row except the last row until last col\n",
    "\n",
    "\n",
    "print(x_train.shape)\n",
    "\n",
    "my_data = genfromtxt('testData.csv', delimiter=',')\n",
    "\n",
    "y_test=my_data[:,10]\n",
    "x_test=my_data[:,:-1]\n",
    "\n",
    "k_ranges_weight_std=[]\n",
    "accuracy_ranges_weight_std=[]\n",
    "n_ranges_std=[]\n",
    "tic=time.time()\n",
    "for k in range(1,31):\n",
    "    for n in range(1,6):\n",
    "        y_test_predicted=[]\n",
    "        print(\"=\"*50)\n",
    "        print(\"knn calculating..... for k= {} and n={}\".format(k,n))\n",
    "\n",
    "        for element in tqdm(x_test):\n",
    "            indexes,distances=calculateDistances(x_train, element)\n",
    "            #print(distances.shape)\n",
    "            indexes,distances=slice_k(k,indexes,distances)\n",
    "            label=weighted_majority_vote(distances,indexes,y_train,n)\n",
    "            y_test_predicted.append(label)\n",
    "\n",
    "        y_test_predicted=np.asarray(y_test_predicted)##y_predicted is my predictions\n",
    "\n",
    "        acc=accuracy_score(y_test,y_test_predicted)*100\n",
    "        print(\"the accuracy value is :{}\".format(acc))\n",
    "        print(\"=\"*50)\n",
    "        print(\"\\n\") \n",
    "        k_ranges_weight_std.append(k)\n",
    "        accuracy_ranges_weight_std.append(acc)\n",
    "        n_ranges_std.append(n)\n",
    "    \n",
    "toc=time.time()\n",
    "print(\"time taken to evaluate is:{}\".format(toc-tic))\n",
    "#print(accuracy_ranges_weight_std)\n",
    "#plotting graphs with matplot lib\n"
   ]
  },
  {
   "cell_type": "code",
   "execution_count": 25,
   "metadata": {},
   "outputs": [
    {
     "name": "stdout",
     "output_type": "stream",
     "text": [
      "92.7\n"
     ]
    },
    {
     "data": {
      "image/png": "[encoded data removed]",
      "text/plain": [
       "<Figure size 432x288 with 1 Axes>"
      ]
     },
     "metadata": {
      "needs_background": "light"
     },
     "output_type": "display_data"
    },
    {
     "name": "stdout",
     "output_type": "stream",
     "text": [
      "maximum accuracy is 92.7 at 40th run\n",
      "the best k value is:9, and the accuracy is 92.7\n"
     ]
    }
   ],
   "source": [
    "print(max(accuracy_ranges_weight_std))\n",
    "%matplotlib inline\n",
    "import warnings\n",
    "warnings.filterwarnings(\"ignore\")\n",
    "import matplotlib.pyplot as plt\n",
    "plt.figure(1, figsize=(6, 4))\n",
    "plt.clf()\n",
    "plt.plot(k_ranges_weight_std, accuracy_ranges_weight_std, linewidth=2)\n",
    "plt.legend([\"k weighted on std\",\"knn weighted no std\"])\n",
    "plt.axis('tight')\n",
    "plt.grid()\n",
    "plt.xlabel('k values')\n",
    "plt.ylabel('accuracy')\n",
    "plt.title(\"knn weighted with varying n\")\n",
    "plt.show()\n",
    "ind=accuracy_ranges_weight_std.index(max(accuracy_ranges_weight_std))\n",
    "print(\"maximum accuracy is {} at {}th run\".format(max(accuracy_ranges_weight_std),ind))\n",
    "best_k_weight_std=k_ranges_weight_std[ind]\n",
    "print(\"the best k value is:{}, and the accuracy is {}\".format(best_k_weight_std,accuracy_ranges_weight_std[ind]))"
   ]
  },
  {
   "cell_type": "markdown",
   "metadata": {},
   "source": [
    "the oscillation below clearly shows that my value is maximum for n=1 and then falls down as i keep penalizing my large distance, at some point the model becomes extremly biased towards it.\n",
    "\n",
    "Hence, this is not helping us acheive the goal so varying n does not improve the accuracy only worsens it"
   ]
  },
  {
   "cell_type": "code",
   "execution_count": 19,
   "metadata": {},
   "outputs": [
    {
     "name": "stderr",
     "output_type": "stream",
     "text": [
      "\r",
      "  0%|          | 0/1000 [00:00<?, ?it/s]"
     ]
    },
    {
     "name": "stdout",
     "output_type": "stream",
     "text": [
      "==================================================\n",
      "knn calculating..... for k= 1 and p=1\n"
     ]
    },
    {
     "name": "stderr",
     "output_type": "stream",
     "text": [
      "100%|██████████| 1000/1000 [00:01<00:00, 871.44it/s]\n",
      "  6%|▌         | 61/1000 [00:00<00:01, 604.04it/s]"
     ]
    },
    {
     "name": "stdout",
     "output_type": "stream",
     "text": [
      "the accuracy value is :49.8\n",
      "==================================================\n",
      "\n",
      "\n",
      "==================================================\n",
      "knn calculating..... for k= 1 and p=2\n"
     ]
    },
    {
     "name": "stderr",
     "output_type": "stream",
     "text": [
      "100%|██████████| 1000/1000 [00:01<00:00, 655.45it/s]\n",
      "  6%|▋         | 65/1000 [00:00<00:01, 640.62it/s]"
     ]
    },
    {
     "name": "stdout",
     "output_type": "stream",
     "text": [
      "the accuracy value is :89.5\n",
      "==================================================\n",
      "\n",
      "\n",
      "==================================================\n",
      "knn calculating..... for k= 1 and p=3\n"
     ]
    },
    {
     "name": "stderr",
     "output_type": "stream",
     "text": [
      "100%|██████████| 1000/1000 [00:01<00:00, 636.35it/s]\n",
      "  6%|▋         | 65/1000 [00:00<00:01, 639.64it/s]"
     ]
    },
    {
     "name": "stdout",
     "output_type": "stream",
     "text": [
      "the accuracy value is :46.800000000000004\n",
      "==================================================\n",
      "\n",
      "\n",
      "==================================================\n",
      "knn calculating..... for k= 1 and p=4\n"
     ]
    },
    {
     "name": "stderr",
     "output_type": "stream",
     "text": [
      "100%|██████████| 1000/1000 [00:01<00:00, 620.23it/s]\n",
      "  6%|▋         | 63/1000 [00:00<00:01, 625.18it/s]"
     ]
    },
    {
     "name": "stdout",
     "output_type": "stream",
     "text": [
      "the accuracy value is :88.8\n",
      "==================================================\n",
      "\n",
      "\n",
      "==================================================\n",
      "knn calculating..... for k= 1 and p=5\n"
     ]
    },
    {
     "name": "stderr",
     "output_type": "stream",
     "text": [
      "100%|██████████| 1000/1000 [00:01<00:00, 666.61it/s]\n",
      "  7%|▋         | 67/1000 [00:00<00:01, 660.84it/s]"
     ]
    },
    {
     "name": "stdout",
     "output_type": "stream",
     "text": [
      "the accuracy value is :49.0\n",
      "==================================================\n",
      "\n",
      "\n",
      "==================================================\n",
      "knn calculating..... for k= 1 and p=6\n"
     ]
    },
    {
     "name": "stderr",
     "output_type": "stream",
     "text": [
      "100%|██████████| 1000/1000 [00:01<00:00, 659.79it/s]\n",
      "  7%|▋         | 70/1000 [00:00<00:01, 699.51it/s]"
     ]
    },
    {
     "name": "stdout",
     "output_type": "stream",
     "text": [
      "the accuracy value is :88.9\n",
      "==================================================\n",
      "\n",
      "\n",
      "==================================================\n",
      "knn calculating..... for k= 1 and p=7\n"
     ]
    },
    {
     "name": "stderr",
     "output_type": "stream",
     "text": [
      "100%|██████████| 1000/1000 [00:01<00:00, 694.15it/s]\n",
      "  8%|▊         | 81/1000 [00:00<00:01, 805.71it/s]"
     ]
    },
    {
     "name": "stdout",
     "output_type": "stream",
     "text": [
      "the accuracy value is :52.400000000000006\n",
      "==================================================\n",
      "\n",
      "\n",
      "==================================================\n",
      "knn calculating..... for k= 2 and p=1\n"
     ]
    },
    {
     "name": "stderr",
     "output_type": "stream",
     "text": [
      "100%|██████████| 1000/1000 [00:01<00:00, 866.67it/s]\n",
      " 13%|█▎        | 131/1000 [00:00<00:01, 651.94it/s]"
     ]
    },
    {
     "name": "stdout",
     "output_type": "stream",
     "text": [
      "the accuracy value is :40.699999999999996\n",
      "==================================================\n",
      "\n",
      "\n",
      "==================================================\n",
      "knn calculating..... for k= 2 and p=2\n"
     ]
    },
    {
     "name": "stderr",
     "output_type": "stream",
     "text": [
      "100%|██████████| 1000/1000 [00:01<00:00, 654.07it/s]\n",
      "  7%|▋         | 72/1000 [00:00<00:01, 715.74it/s]"
     ]
    },
    {
     "name": "stdout",
     "output_type": "stream",
     "text": [
      "the accuracy value is :89.1\n",
      "==================================================\n",
      "\n",
      "\n",
      "==================================================\n",
      "knn calculating..... for k= 2 and p=3\n"
     ]
    },
    {
     "name": "stderr",
     "output_type": "stream",
     "text": [
      "100%|██████████| 1000/1000 [00:01<00:00, 709.55it/s]\n",
      " 14%|█▎        | 137/1000 [00:00<00:01, 681.75it/s]"
     ]
    },
    {
     "name": "stdout",
     "output_type": "stream",
     "text": [
      "the accuracy value is :45.9\n",
      "==================================================\n",
      "\n",
      "\n",
      "==================================================\n",
      "knn calculating..... for k= 2 and p=4\n"
     ]
    },
    {
     "name": "stderr",
     "output_type": "stream",
     "text": [
      "100%|██████████| 1000/1000 [00:01<00:00, 658.04it/s]\n",
      " 14%|█▍        | 143/1000 [00:00<00:01, 708.33it/s]"
     ]
    },
    {
     "name": "stdout",
     "output_type": "stream",
     "text": [
      "the accuracy value is :88.6\n",
      "==================================================\n",
      "\n",
      "\n",
      "==================================================\n",
      "knn calculating..... for k= 2 and p=5\n"
     ]
    },
    {
     "name": "stderr",
     "output_type": "stream",
     "text": [
      "100%|██████████| 1000/1000 [00:01<00:00, 667.19it/s]\n",
      "  7%|▋         | 68/1000 [00:00<00:01, 677.22it/s]"
     ]
    },
    {
     "name": "stdout",
     "output_type": "stream",
     "text": [
      "the accuracy value is :48.0\n",
      "==================================================\n",
      "\n",
      "\n",
      "==================================================\n",
      "knn calculating..... for k= 2 and p=6\n"
     ]
    },
    {
     "name": "stderr",
     "output_type": "stream",
     "text": [
      "100%|██████████| 1000/1000 [00:01<00:00, 613.68it/s]\n",
      "  6%|▋         | 63/1000 [00:00<00:01, 628.61it/s]"
     ]
    },
    {
     "name": "stdout",
     "output_type": "stream",
     "text": [
      "the accuracy value is :88.2\n",
      "==================================================\n",
      "\n",
      "\n",
      "==================================================\n",
      "knn calculating..... for k= 2 and p=7\n"
     ]
    },
    {
     "name": "stderr",
     "output_type": "stream",
     "text": [
      "100%|██████████| 1000/1000 [00:01<00:00, 625.45it/s]\n",
      "  8%|▊         | 79/1000 [00:00<00:01, 787.54it/s]"
     ]
    },
    {
     "name": "stdout",
     "output_type": "stream",
     "text": [
      "the accuracy value is :52.2\n",
      "==================================================\n",
      "\n",
      "\n",
      "==================================================\n",
      "knn calculating..... for k= 3 and p=1\n"
     ]
    },
    {
     "name": "stderr",
     "output_type": "stream",
     "text": [
      "100%|██████████| 1000/1000 [00:01<00:00, 793.83it/s]\n",
      " 13%|█▎        | 126/1000 [00:00<00:01, 636.47it/s]"
     ]
    },
    {
     "name": "stdout",
     "output_type": "stream",
     "text": [
      "the accuracy value is :43.4\n",
      "==================================================\n",
      "\n",
      "\n",
      "==================================================\n",
      "knn calculating..... for k= 3 and p=2\n"
     ]
    },
    {
     "name": "stderr",
     "output_type": "stream",
     "text": [
      "100%|██████████| 1000/1000 [00:01<00:00, 612.53it/s]\n",
      "  7%|▋         | 66/1000 [00:00<00:01, 650.16it/s]"
     ]
    },
    {
     "name": "stdout",
     "output_type": "stream",
     "text": [
      "the accuracy value is :89.1\n",
      "==================================================\n",
      "\n",
      "\n",
      "==================================================\n",
      "knn calculating..... for k= 3 and p=3\n"
     ]
    },
    {
     "name": "stderr",
     "output_type": "stream",
     "text": [
      "100%|██████████| 1000/1000 [00:01<00:00, 643.84it/s]\n",
      "  6%|▌         | 62/1000 [00:00<00:01, 611.91it/s]"
     ]
    },
    {
     "name": "stdout",
     "output_type": "stream",
     "text": [
      "the accuracy value is :44.9\n",
      "==================================================\n",
      "\n",
      "\n",
      "==================================================\n",
      "knn calculating..... for k= 3 and p=4\n"
     ]
    },
    {
     "name": "stderr",
     "output_type": "stream",
     "text": [
      "100%|██████████| 1000/1000 [00:01<00:00, 611.12it/s]\n",
      "  6%|▋         | 65/1000 [00:00<00:01, 640.57it/s]"
     ]
    },
    {
     "name": "stdout",
     "output_type": "stream",
     "text": [
      "the accuracy value is :89.60000000000001\n",
      "==================================================\n",
      "\n",
      "\n",
      "==================================================\n",
      "knn calculating..... for k= 3 and p=5\n"
     ]
    },
    {
     "name": "stderr",
     "output_type": "stream",
     "text": [
      "100%|██████████| 1000/1000 [00:01<00:00, 642.32it/s]\n",
      "  6%|▌         | 61/1000 [00:00<00:01, 606.02it/s]"
     ]
    },
    {
     "name": "stdout",
     "output_type": "stream",
     "text": [
      "the accuracy value is :49.0\n",
      "==================================================\n",
      "\n",
      "\n",
      "==================================================\n",
      "knn calculating..... for k= 3 and p=6\n"
     ]
    },
    {
     "name": "stderr",
     "output_type": "stream",
     "text": [
      "100%|██████████| 1000/1000 [00:01<00:00, 613.04it/s]\n",
      "  6%|▌         | 59/1000 [00:00<00:01, 585.26it/s]"
     ]
    },
    {
     "name": "stdout",
     "output_type": "stream",
     "text": [
      "the accuracy value is :89.1\n",
      "==================================================\n",
      "\n",
      "\n",
      "==================================================\n",
      "knn calculating..... for k= 3 and p=7\n"
     ]
    },
    {
     "name": "stderr",
     "output_type": "stream",
     "text": [
      "100%|██████████| 1000/1000 [00:01<00:00, 639.35it/s]\n",
      " 17%|█▋        | 170/1000 [00:00<00:00, 843.51it/s]"
     ]
    },
    {
     "name": "stdout",
     "output_type": "stream",
     "text": [
      "the accuracy value is :49.7\n",
      "==================================================\n",
      "\n",
      "\n",
      "==================================================\n",
      "knn calculating..... for k= 4 and p=1\n"
     ]
    },
    {
     "name": "stderr",
     "output_type": "stream",
     "text": [
      "100%|██████████| 1000/1000 [00:01<00:00, 822.42it/s]\n",
      "  6%|▋         | 64/1000 [00:00<00:01, 638.41it/s]"
     ]
    },
    {
     "name": "stdout",
     "output_type": "stream",
     "text": [
      "the accuracy value is :39.4\n",
      "==================================================\n",
      "\n",
      "\n",
      "==================================================\n",
      "knn calculating..... for k= 4 and p=2\n"
     ]
    },
    {
     "name": "stderr",
     "output_type": "stream",
     "text": [
      "100%|██████████| 1000/1000 [00:01<00:00, 620.86it/s]\n",
      "  7%|▋         | 69/1000 [00:00<00:01, 677.95it/s]"
     ]
    },
    {
     "name": "stdout",
     "output_type": "stream",
     "text": [
      "the accuracy value is :89.8\n",
      "==================================================\n",
      "\n",
      "\n",
      "==================================================\n",
      "knn calculating..... for k= 4 and p=3\n"
     ]
    },
    {
     "name": "stderr",
     "output_type": "stream",
     "text": [
      "100%|██████████| 1000/1000 [00:01<00:00, 661.30it/s]\n",
      "  7%|▋         | 68/1000 [00:00<00:01, 676.92it/s]"
     ]
    },
    {
     "name": "stdout",
     "output_type": "stream",
     "text": [
      "the accuracy value is :43.9\n",
      "==================================================\n",
      "\n",
      "\n",
      "==================================================\n",
      "knn calculating..... for k= 4 and p=4\n"
     ]
    },
    {
     "name": "stderr",
     "output_type": "stream",
     "text": [
      "100%|██████████| 1000/1000 [00:01<00:00, 645.52it/s]\n",
      "  7%|▋         | 69/1000 [00:00<00:01, 680.70it/s]"
     ]
    },
    {
     "name": "stdout",
     "output_type": "stream",
     "text": [
      "the accuracy value is :89.7\n",
      "==================================================\n",
      "\n",
      "\n",
      "==================================================\n",
      "knn calculating..... for k= 4 and p=5\n"
     ]
    },
    {
     "name": "stderr",
     "output_type": "stream",
     "text": [
      "100%|██████████| 1000/1000 [00:01<00:00, 674.32it/s]\n",
      "  7%|▋         | 68/1000 [00:00<00:01, 673.26it/s]"
     ]
    },
    {
     "name": "stdout",
     "output_type": "stream",
     "text": [
      "the accuracy value is :44.7\n",
      "==================================================\n",
      "\n",
      "\n",
      "==================================================\n",
      "knn calculating..... for k= 4 and p=6\n"
     ]
    },
    {
     "name": "stderr",
     "output_type": "stream",
     "text": [
      "100%|██████████| 1000/1000 [00:01<00:00, 657.16it/s]\n",
      "  7%|▋         | 68/1000 [00:00<00:01, 673.87it/s]"
     ]
    },
    {
     "name": "stdout",
     "output_type": "stream",
     "text": [
      "the accuracy value is :89.7\n",
      "==================================================\n",
      "\n",
      "\n",
      "==================================================\n",
      "knn calculating..... for k= 4 and p=7\n"
     ]
    },
    {
     "name": "stderr",
     "output_type": "stream",
     "text": [
      "100%|██████████| 1000/1000 [00:01<00:00, 685.09it/s]"
     ]
    },
    {
     "name": "stdout",
     "output_type": "stream",
     "text": [
      "the accuracy value is :43.2\n",
      "==================================================\n",
      "\n",
      "\n",
      "time taken to evaluate is:41.90811491012573\n",
      "[49.8, 89.5, 46.800000000000004, 88.8, 49.0, 88.9, 52.400000000000006, 40.699999999999996, 89.1, 45.9, 88.6, 48.0, 88.2, 52.2, 43.4, 89.1, 44.9, 89.60000000000001, 49.0, 89.1, 49.7, 39.4, 89.8, 43.9, 89.7, 44.7, 89.7, 43.2]\n"
     ]
    },
    {
     "name": "stderr",
     "output_type": "stream",
     "text": [
      "\n"
     ]
    }
   ],
   "source": [
    "#lets try for various distance measures in minkowski power \n",
    "#1- manhattan #2-euclidean\n",
    "\n",
    "k_ranges_weight_std=[]\n",
    "accuracy_ranges_weight_std=[]\n",
    "tic=time.time()\n",
    "for k in range(1,5):\n",
    "    for p in range(1,8):\n",
    "        y_test_predicted=[]\n",
    "        print(\"=\"*50)\n",
    "        print(\"knn calculating..... for k= {} and p={}\".format(k,p))\n",
    "        for element in tqdm(x_test):\n",
    "            indexes,distances=calculateDistances(x_train, element,p)\n",
    "            #print(distances.shape)\n",
    "            indexes,distances=slice_k(k,indexes,distances)\n",
    "            label=weighted_majority_vote(distances,indexes,y_train,n)\n",
    "            y_test_predicted.append(label)\n",
    "        y_test_predicted=np.asarray(y_test_predicted)##y_predicted is my predictions\n",
    "\n",
    "        acc=accuracy_score(y_test,y_test_predicted)*100\n",
    "        print(\"the accuracy value is :{}\".format(acc))\n",
    "        print(\"=\"*50)\n",
    "        print(\"\\n\") \n",
    "        k_ranges_weight_std.append(k)\n",
    "        accuracy_ranges_weight_std.append(acc)\n",
    "    \n",
    "toc=time.time()\n",
    "print(\"time taken to evaluate is:{}\".format(toc-tic))\n",
    "print(accuracy_ranges_weight_std)\n",
    "#plotting graphs with matplot lib\n",
    "\n",
    "#clearly increasing the power of the minkowski metric does not help however an interesting behaviour is seen when\n",
    "#the powers are in even they still hold some values but not when they are odd.\n",
    "\n",
    "\n"
   ]
  },
  {
   "cell_type": "code",
   "execution_count": 20,
   "metadata": {},
   "outputs": [],
   "source": []
  },
  {
   "cell_type": "code",
   "execution_count": 21,
   "metadata": {},
   "outputs": [
    {
     "name": "stdout",
     "output_type": "stream",
     "text": [
      "92.7\n",
      "10\n"
     ]
    }
   ],
   "source": []
  },
  {
   "cell_type": "code",
   "execution_count": 229,
   "metadata": {},
   "outputs": [
    {
     "name": "stdout",
     "output_type": "stream",
     "text": [
      "[]\n"
     ]
    }
   ],
   "source": [
    "\n"
   ]
  },
  {
   "cell_type": "code",
   "execution_count": null,
   "metadata": {},
   "outputs": [],
   "source": []
  }
 ],
 "metadata": {
  "kernelspec": {
   "display_name": "Python 3",
   "language": "python",
   "name": "python3"
  },
  "language_info": {
   "codemirror_mode": {
    "name": "ipython",
    "version": 3
   },
   "file_extension": ".py",
   "mimetype": "text/x-python",
   "name": "python",
   "nbconvert_exporter": "python",
   "pygments_lexer": "ipython3",
   "version": "3.7.5"
  }
 },
 "nbformat": 4,
 "nbformat_minor": 2
}
