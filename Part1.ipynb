{
 "cells": [
  {
   "cell_type": "markdown",
   "metadata": {},
   "source": [
    "# This is the part 1 implementation of the pdf"
   ]
  },
  {
   "cell_type": "code",
   "execution_count": 169,
   "metadata": {},
   "outputs": [
    {
     "name": "stdout",
     "output_type": "stream",
     "text": [
      "\n",
      "\n",
      "result:4.0\n"
     ]
    }
   ],
   "source": [
    "#this function calculates the distances between 2 vectors \n",
    "#the input feed is 2 np arrays\n",
    "#np array[2,3,4,5]  and np array[1,4,8,2]\n",
    "import numpy as np\n",
    "from tqdm import tqdm\n",
    "list1=np.array([2,1])\n",
    "list2=np.array([-2,1])\n",
    "\n",
    "####this is 1d euclidean distance\n",
    "\n",
    "def d1_euc_dist(list1,list2):\n",
    "    import numpy as np\n",
    "    if (len(list1)==len(list2)):\n",
    "        print(\"\\n\")\n",
    "        #print(\"elements are of equal length, euc dist can be calculated\")\n",
    "    else:\n",
    "        print(\"length of paths is not equal\")\n",
    "        return\n",
    "    diff=(list1-list2)\n",
    "    power=np.power(diff,2)\n",
    "    total=np.sum(power)\n",
    "    result=np.sqrt(total)\n",
    "    return result\n",
    "\n",
    "result=d1_euc_dist(list1,list2)\n",
    "print(\"result:{}\".format(result))"
   ]
  },
  {
   "cell_type": "code",
   "execution_count": 170,
   "metadata": {},
   "outputs": [
    {
     "name": "stdout",
     "output_type": "stream",
     "text": [
      "result:[[1.]\n",
      " [2.]]\n"
     ]
    }
   ],
   "source": [
    "#this function calculates the distances between 2 vectors \n",
    "#the input feed is 2 np arrays\n",
    "#np 2d array[2,3,4,5]  and np 2d array[1,4,8,2]\n",
    "import numpy as np\n",
    "\n",
    "list1=np.array([(2,1),(1,3)])\n",
    "list2=np.ones((2,2),dtype=np.int16)\n",
    "\n",
    "def euc_dist(list1,list2):\n",
    "    \"\"\"takes a 2d matrix and another 2d matrix and computes a result of distances\"\"\"\n",
    "    if (list1.shape!=list2.shape):\n",
    "        print(\"shapes do not match ip1 :{} and ip2: {}\".format(list1.shape,list2.shape))\n",
    "    diff=(list1-list2)\n",
    "    power=np.power(diff,2)\n",
    "    total=np.sum(power, axis=1)\n",
    "    total=total.reshape((power.shape[0], 1))\n",
    "    distances=np.power(total,(1/2))\n",
    "    return distances\n",
    "\n",
    "result=euc_dist(list1,list2)\n",
    "print(\"result:{}\".format(result))"
   ]
  },
  {
   "cell_type": "code",
   "execution_count": 171,
   "metadata": {},
   "outputs": [
    {
     "name": "stdout",
     "output_type": "stream",
     "text": [
      "result :[1. 0.], dist:[[198.        ]\n",
      " [ 27.01851217]]\n"
     ]
    }
   ],
   "source": [
    "#calculateDistances is a function that takes 2d array of all the points and a query point \n",
    "#then returns distances with all the query points and sorted distances indexes\n",
    "#no for loops inside this function\n",
    "\n",
    "def calculateDistances(array2d, array1d):\n",
    "    \"\"\"array 2d is my all training points taken for calculation of distance\n",
    "    array 1d is the query point with which the distance has to be calculated\n",
    "    returns me distances sorted from top to bottom\n",
    "    and their corresponding indices to look them in y_train\"\"\"\n",
    "    #lets broadcast this query to all the points in the train \n",
    "    shape_arr1=array2d.shape\n",
    "    #make ones of the same shape as train data is given\n",
    "    broadcast_shape=np.ones(shape_arr1,dtype=np.int16)*array1d\n",
    "    #now calculate the distance between the two arrays\n",
    "    distances=euc_dist(broadcast_shape,array2d)\n",
    "    #add an index to the distances\n",
    "    rows=distances.shape[0] #counts froom 0\n",
    "    index=np.arange(0,rows,1,dtype=np.int16)\n",
    "    index=index.reshape((index.shape[0], 1))\n",
    "    #stacking indexes with distances \n",
    "    index_dist=np.column_stack((index,distances))\n",
    "    \n",
    "    #now sorting the arrays based on 1st axis\n",
    "    index_dist=index_dist[index_dist[:,1].argsort()]\n",
    "    \"\"\"returning the index value of the distance that can be used to look for the vector\n",
    "    also returning the distance\"\"\"\n",
    "    index=index_dist[:,0]\n",
    "    #print(distances.shape)\n",
    "    #distances=index_dist[:,1] #if we turn this on then we will only get the shortest value usually for k=1\n",
    "    #shortest distances on the top\n",
    "    return index, distances\n",
    " \n",
    "#example run\n",
    "array2d=np.array([(1.5,200,3), (1.5,3,30)], dtype = float)\n",
    "array1d=np.array([1.5,2,3])\n",
    "\n",
    "op1,op2=calculateDistances(array2d,array1d)    \n",
    "print(\"result :{}, dist:{}\".format(op1,op2))"
   ]
  },
  {
   "cell_type": "code",
   "execution_count": 172,
   "metadata": {},
   "outputs": [
    {
     "name": "stdout",
     "output_type": "stream",
     "text": [
      "score:0.5\n"
     ]
    }
   ],
   "source": [
    "def accuracy_score(arr1,arr2):\n",
    "    \"\"\"compares elements in both the arrays if they are same then its a match oterwise, No match\n",
    "    return acc_score defined as total matches upon the elements present\"\"\"\n",
    "    #since both of them are col vectors\n",
    "    #we can take the row size as total number of elements\n",
    "    total=arr1.shape[0]#row in arr1\n",
    "    match=0\n",
    "    for ele1,ele2 in zip(arr1,arr2):\n",
    "        if(ele1==ele2):\n",
    "            match+=1\n",
    "    return match/total\n",
    "\n",
    "pred_1=np.array([1,2,3,4])\n",
    "pred_2=np.array([1,2,1,1])\n",
    "score=accuracy_score(pred_1,pred_2)\n",
    "print(\"score:{}\".format(score))"
   ]
  },
  {
   "cell_type": "markdown",
   "metadata": {},
   "source": [
    "# now load data to x_train, y_train, x_test,  y_test"
   ]
  },
  {
   "cell_type": "code",
   "execution_count": 173,
   "metadata": {},
   "outputs": [
    {
     "name": "stderr",
     "output_type": "stream",
     "text": [
      "  7%|▋         | 69/1000 [00:00<00:01, 683.67it/s]"
     ]
    },
    {
     "name": "stdout",
     "output_type": "stream",
     "text": [
      "(4000, 11)\n",
      "indexes are :[ 792. 1037. 1518. ... 2979.  534. 2068.], distances are :[[0.45730647]\n",
      " [0.40561773]\n",
      " [0.43496813]\n",
      " ...\n",
      " [0.32210837]\n",
      " [0.46737854]\n",
      " [0.86729724]]\n",
      "\n",
      "\n",
      "the lowest distance computed between 792 in train i.e [0.51162893 0.47543597 0.38870508 0.49676188 0.5109842  0.2729233\n",
      " 0.31984558 0.37737269 0.53117388 0.33281375] and query[0.54131721 0.52305685 0.42921551 0.39607615 0.52285322 0.27466181\n",
      " 0.3682674  0.37434461 0.52591475 0.36184407] is 0.1352627341914311\n",
      "the label of the query point [0.54131721 0.52305685 0.42921551 0.39607615 0.52285322 0.27466181\n",
      " 0.3682674  0.37434461 0.52591475 0.36184407] based on K= 1 is label :0.0\n",
      "==================================================\n",
      "knn calculating..... for k=1\n"
     ]
    },
    {
     "name": "stderr",
     "output_type": "stream",
     "text": [
      "100%|██████████| 1000/1000 [00:01<00:00, 690.63it/s]"
     ]
    },
    {
     "name": "stdout",
     "output_type": "stream",
     "text": [
      "the accuracy value is :89.5\n",
      "==================================================\n"
     ]
    },
    {
     "name": "stderr",
     "output_type": "stream",
     "text": [
      "\n"
     ]
    }
   ],
   "source": [
    "#loading the train data\n",
    "from numpy import genfromtxt\n",
    "my_data = genfromtxt('trainingData.csv', delimiter=',')\n",
    "\n",
    "print(my_data.shape)#you can check the data shape\n",
    "#upon loading we found that the data has total 11 cols starting from 1 as the 1st col\n",
    "#or you can say 10 cols starting from 0 as the 1st col\n",
    "y_train=my_data[:,10]# this prints the labels\n",
    "x_train=my_data[:,:-1] #every row except the last row until last col\n",
    "\n",
    "#for test data\n",
    "from numpy import genfromtxt\n",
    "my_data = genfromtxt('testData.csv', delimiter=',')\n",
    "y_test=my_data[:,10]\n",
    "x_test=my_data[:,:-1]\n",
    "\n",
    "#now lets start predicting a query point label\n",
    "first=x_test[0] #this is the query point\n",
    "#compute the KNN for first\n",
    "\n",
    "indexes,result=calculateDistances(x_train,first)\n",
    "print(\"indexes are :{}, distances are :{}\".format(indexes,result))\n",
    "#as we can see in the above example the 792th element in the train data is closest to the query point (oth in test data)\n",
    "#and their distance value is lowest which is 0.13526\n",
    "\n",
    "#lets try to verify this by actually picking up the 792th element and computing the distance of that point with query\n",
    "no=792\n",
    "val=d1_euc_dist(x_train[no],first)\n",
    "print(\"the lowest distance computed between {} in train i.e {} and query{} is {}\".format(no,x_train[no],first,val))\n",
    "\n",
    "##in the above example we proved that this is actually the lowest query point\n",
    "#since K=1 meaning we take only 1 nearest neighbour that means the nearest neighbour is the output\n",
    "nn=int(indexes[0])#<<<this is my nearest neighbour index\n",
    "#print(nn)\n",
    "##look this neighbour in x_train\n",
    "neighbour=x_train[nn]####<<<this is my neighbour returned\n",
    "#print(neighbour)\n",
    "#if we want to predict the class of this query we can look for the same index value in y_train and say this is the output\n",
    "\n",
    "print(\"the label of the query point {} based on K= {} is label :{}\".format(first,\"1\",y_train[nn]))\n",
    "\n",
    "#can we now predict the values for all the elements in X_test\n",
    "y_test_predicted=[]\n",
    "print(\"=\"*50)\n",
    "print(\"knn calculating..... for k=1\")\n",
    "for element in tqdm(x_test):\n",
    "    index,distances=calculateDistances(x_train, element)\n",
    "    #print(\"=\"*50)\n",
    "    label=y_train[int(index[0])]\n",
    "    #print(label)\n",
    "    y_test_predicted.append(label)\n",
    "\n",
    "y_test_predicted=np.asarray(y_test_predicted)\n",
    "y_test_predicted.shape\n",
    "\n",
    "acc=accuracy_score(y_test,y_test_predicted)*100\n",
    "print(\"the accuracy value is :{}\".format(acc))\n",
    "print(\"=\"*50)"
   ]
  },
  {
   "cell_type": "code",
   "execution_count": 183,
   "metadata": {},
   "outputs": [
    {
     "name": "stderr",
     "output_type": "stream",
     "text": [
      "100%|██████████| 1/1 [00:00<00:00,  7.31it/s]\n"
     ]
    }
   ],
   "source": []
  },
  {
   "cell_type": "code",
   "execution_count": 184,
   "metadata": {},
   "outputs": [
    {
     "name": "stdout",
     "output_type": "stream",
     "text": [
      "89.5\n"
     ]
    }
   ],
   "source": []
  },
  {
   "cell_type": "code",
   "execution_count": null,
   "metadata": {},
   "outputs": [],
   "source": []
  }
 ],
 "metadata": {
  "kernelspec": {
   "display_name": "Python 3",
   "language": "python",
   "name": "python3"
  },
  "language_info": {
   "codemirror_mode": {
    "name": "ipython",
    "version": 3
   },
   "file_extension": ".py",
   "mimetype": "text/x-python",
   "name": "python",
   "nbconvert_exporter": "python",
   "pygments_lexer": "ipython3",
   "version": "3.7.3"
  }
 },
 "nbformat": 4,
 "nbformat_minor": 2
}
