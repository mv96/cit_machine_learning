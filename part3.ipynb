{
 "cells": [
  {
   "cell_type": "code",
   "execution_count": 64,
   "metadata": {},
   "outputs": [],
   "source": [
    "#loading the train data\n",
    "import numpy as np\n",
    "from numpy import genfromtxt\n",
    "from tqdm import tqdm\n",
    "import time"
   ]
  },
  {
   "cell_type": "code",
   "execution_count": 65,
   "metadata": {},
   "outputs": [],
   "source": [
    "#before we begin lets import some of the important functions that we made in the part 1 and use them here\n",
    "\n",
    "def d1_euc_dist(list1,list2):\n",
    "    import numpy as np\n",
    "    if (len(list1)==len(list2)):\n",
    "        print(\"\\n\")\n",
    "        #print(\"elements are of equal length, euc dist can be calculated\")\n",
    "    else:\n",
    "        print(\"length of paths is not equal\")\n",
    "        return\n",
    "    diff=(list1-list2)\n",
    "    power=np.power(diff,2)\n",
    "    total=np.sum(power)\n",
    "    result=np.sqrt(total)\n",
    "    return result\n",
    "\n",
    "def mink_dist(list1,list2,p):\n",
    "    \"\"\"takes a 2d matrix and another 2d matrix and computes a result of distances\n",
    "    this computes the value of the power p as the minkowski dist\"\"\"\n",
    "    if (list1.shape!=list2.shape):\n",
    "        print(\"shapes do not match ip1 :{} and ip2: {}\".format(list1.shape,list2.shape))\n",
    "    diff=(list1-list2)\n",
    "    power=np.power(diff,p)\n",
    "    total=np.sum(power, axis=1)\n",
    "    total=total.reshape((power.shape[0], 1))\n",
    "    distances=np.power(total,(1/p))\n",
    "    return distances\n",
    "\n",
    "def calculateDistances(array2d, array1d,p=2):\n",
    "    \"\"\"array 2d is my all training points taken for calculation of distance\n",
    "    array 1d is the query point with which the distance has to be calculated\"\"\"\n",
    "    #lets broadcast this query to all the points in the train \n",
    "    shape_arr1=array2d.shape\n",
    "    #make ones of the same shape as train data is given\n",
    "    broadcast_shape=np.ones(shape_arr1,dtype=np.int16)*array1d\n",
    "    #now calculate the distance between the two arrays\n",
    "    distances=mink_dist(broadcast_shape,array2d,p)\n",
    "    #add an index to the distances\n",
    "    rows=distances.shape[0] #counts froom 0\n",
    "    index=np.arange(0,rows,1)\n",
    "    index=index.reshape((index.shape[0], 1))\n",
    "    #stacking indexes with distances \n",
    "    index_dist=np.column_stack((index,distances))\n",
    "    \n",
    "    #now sorting the arrays based on 1st axis\n",
    "    index_dist=index_dist[index_dist[:,1].argsort()]\n",
    "    \"\"\"returning the index value of the distance that can be used to look for the vector\n",
    "    also returning the distance\"\"\"\n",
    "    index=index_dist[:,0]\n",
    "    #distances=index_dist[:,1]\n",
    "    #shortest distances on the top\n",
    "    return index, distances\n",
    "\n",
    "def r2score(y_true,y_pred):\n",
    "    \"\"\"compares elements in both the arrays if they are same then its a match oterwise, No match\n",
    "    return acc_score defined as total matches upon the elements present\"\"\"\n",
    "    #since both of them are col vectors\n",
    "    #we can take the row size as total number of elements\n",
    "    y_true_mean=np.mean(y_true)\n",
    "    ss_total=np.sum(np.power((y_true-y_true_mean),2))#might need broadcasting\n",
    "    ss_residual=np.sum(np.power((y_true-y_pred),2))\n",
    "    print(ss_residual,ss_total)\n",
    "    return 1-(ss_residual/ss_total)\n",
    "\n",
    "def slice_k(k,indexes,distances):\n",
    "    \"\"\"slices top k elements from index and distances\"\"\"\n",
    "    rows=indexes.shape[0]\n",
    "    indexes=indexes.reshape(rows,1)\n",
    "    k_indexes=indexes[:k]#select top k rows\n",
    "    k_distances=distances[:k]\n",
    "    return k_indexes, k_distances\n",
    "\n",
    "def weighted_regressor(distances,indexes,x_train,weight_penalty):\n",
    "    \"\"\"computes the weighted avergage and returns a prediction as label\"\"\"\n",
    "    row,col=distances.shape\n",
    "    dist_based_x_train=[]\n",
    "    for element in indexes:#for every element in the shortest k distance selected\n",
    "        element=int(element)\n",
    "        dist_based_x_train.append(x_train[element])#look for these index in x_train\n",
    "    dist_based_x_train=np.asarray(dist_based_x_train)\n",
    "    distances=np.power(distances,weight_penalty)\n",
    "    weight=np.divide(np.ones((row,col)),distances)###these are my weights\n",
    "    row=dist_based_x_train.shape[0]\n",
    "    dist_based_x_train=dist_based_x_train.reshape(row,1)\n",
    "    weight_X_x_train=np.multiply(dist_based_x_train,weight)\n",
    "    weight_X_x_train=np.sum(weight_X_x_train)\n",
    "    label=weight_X_x_train/np.sum(weight)\n",
    "    return label\n",
    "    "
   ]
  },
  {
   "cell_type": "code",
   "execution_count": 66,
   "metadata": {},
   "outputs": [
    {
     "name": "stderr",
     "output_type": "stream",
     "text": [
      "  2%|▏         | 30/1600 [00:00<00:05, 273.90it/s]"
     ]
    },
    {
     "name": "stdout",
     "output_type": "stream",
     "text": [
      "==================================================\n",
      "knn calculating..... for k= 1\n"
     ]
    },
    {
     "name": "stderr",
     "output_type": "stream",
     "text": [
      "100%|██████████| 1600/1600 [00:04<00:00, 345.58it/s]\n",
      "  2%|▏         | 35/1600 [00:00<00:04, 341.23it/s]"
     ]
    },
    {
     "name": "stdout",
     "output_type": "stream",
     "text": [
      "14594300.707810711 44828711.24895885\n",
      "the r2 score is :67.4443000898232\n",
      "==================================================\n",
      "\n",
      "\n",
      "==================================================\n",
      "knn calculating..... for k= 2\n"
     ]
    },
    {
     "name": "stderr",
     "output_type": "stream",
     "text": [
      "100%|██████████| 1600/1600 [00:04<00:00, 346.76it/s]\n",
      "  2%|▏         | 36/1600 [00:00<00:04, 352.91it/s]"
     ]
    },
    {
     "name": "stdout",
     "output_type": "stream",
     "text": [
      "9545898.53182882 44828711.24895885\n",
      "the r2 score is :78.70583769670486\n",
      "==================================================\n",
      "\n",
      "\n",
      "==================================================\n",
      "knn calculating..... for k= 3\n"
     ]
    },
    {
     "name": "stderr",
     "output_type": "stream",
     "text": [
      "100%|██████████| 1600/1600 [00:04<00:00, 360.55it/s]\n",
      "  2%|▎         | 40/1600 [00:00<00:03, 394.59it/s]"
     ]
    },
    {
     "name": "stdout",
     "output_type": "stream",
     "text": [
      "8309297.741501026 44828711.24895885\n",
      "the r2 score is :81.46433946014004\n",
      "==================================================\n",
      "\n",
      "\n",
      "==================================================\n",
      "knn calculating..... for k= 4\n"
     ]
    },
    {
     "name": "stderr",
     "output_type": "stream",
     "text": [
      "100%|██████████| 1600/1600 [00:04<00:00, 345.53it/s]\n",
      "  2%|▏         | 34/1600 [00:00<00:04, 335.21it/s]"
     ]
    },
    {
     "name": "stdout",
     "output_type": "stream",
     "text": [
      "7589380.647548835 44828711.24895885\n",
      "the r2 score is :83.07026805789538\n",
      "==================================================\n",
      "\n",
      "\n",
      "==================================================\n",
      "knn calculating..... for k= 5\n"
     ]
    },
    {
     "name": "stderr",
     "output_type": "stream",
     "text": [
      "100%|██████████| 1600/1600 [00:04<00:00, 346.14it/s]\n",
      "  2%|▏         | 39/1600 [00:00<00:04, 387.36it/s]"
     ]
    },
    {
     "name": "stdout",
     "output_type": "stream",
     "text": [
      "7292863.506108427 44828711.24895885\n",
      "the r2 score is :83.73171277307732\n",
      "==================================================\n",
      "\n",
      "\n",
      "==================================================\n",
      "knn calculating..... for k= 6\n"
     ]
    },
    {
     "name": "stderr",
     "output_type": "stream",
     "text": [
      "100%|██████████| 1600/1600 [00:04<00:00, 365.69it/s]\n",
      "  2%|▏         | 35/1600 [00:00<00:04, 343.75it/s]"
     ]
    },
    {
     "name": "stdout",
     "output_type": "stream",
     "text": [
      "7161602.26287663 44828711.24895885\n",
      "the r2 score is :84.02451896708727\n",
      "==================================================\n",
      "\n",
      "\n",
      "==================================================\n",
      "knn calculating..... for k= 7\n"
     ]
    },
    {
     "name": "stderr",
     "output_type": "stream",
     "text": [
      "100%|██████████| 1600/1600 [00:04<00:00, 347.48it/s]\n",
      "  2%|▏         | 38/1600 [00:00<00:04, 375.11it/s]"
     ]
    },
    {
     "name": "stdout",
     "output_type": "stream",
     "text": [
      "7169235.678329203 44828711.24895885\n",
      "the r2 score is :84.00749100612231\n",
      "==================================================\n",
      "\n",
      "\n",
      "==================================================\n",
      "knn calculating..... for k= 8\n"
     ]
    },
    {
     "name": "stderr",
     "output_type": "stream",
     "text": [
      "100%|██████████| 1600/1600 [00:04<00:00, 354.27it/s]\n",
      "  2%|▏         | 39/1600 [00:00<00:04, 380.74it/s]"
     ]
    },
    {
     "name": "stdout",
     "output_type": "stream",
     "text": [
      "7067666.999858999 44828711.24895885\n",
      "the r2 score is :84.23406160260039\n",
      "==================================================\n",
      "\n",
      "\n",
      "==================================================\n",
      "knn calculating..... for k= 9\n"
     ]
    },
    {
     "name": "stderr",
     "output_type": "stream",
     "text": [
      "100%|██████████| 1600/1600 [00:04<00:00, 356.46it/s]\n",
      "  2%|▏         | 31/1600 [00:00<00:05, 303.84it/s]"
     ]
    },
    {
     "name": "stdout",
     "output_type": "stream",
     "text": [
      "7044311.6727834735 44828711.24895885\n",
      "the r2 score is :84.28616064008068\n",
      "==================================================\n",
      "\n",
      "\n",
      "==================================================\n",
      "knn calculating..... for k= 10\n"
     ]
    },
    {
     "name": "stderr",
     "output_type": "stream",
     "text": [
      "100%|██████████| 1600/1600 [00:04<00:00, 353.47it/s]\n",
      "  2%|▏         | 39/1600 [00:00<00:04, 388.67it/s]"
     ]
    },
    {
     "name": "stdout",
     "output_type": "stream",
     "text": [
      "6973449.014616473 44828711.24895885\n",
      "the r2 score is :84.44423491032562\n",
      "==================================================\n",
      "\n",
      "\n",
      "==================================================\n",
      "knn calculating..... for k= 11\n"
     ]
    },
    {
     "name": "stderr",
     "output_type": "stream",
     "text": [
      "100%|██████████| 1600/1600 [00:04<00:00, 362.50it/s]\n",
      "  2%|▎         | 40/1600 [00:00<00:03, 393.46it/s]"
     ]
    },
    {
     "name": "stdout",
     "output_type": "stream",
     "text": [
      "6967451.069271813 44828711.24895885\n",
      "the r2 score is :84.45761460645686\n",
      "==================================================\n",
      "\n",
      "\n",
      "==================================================\n",
      "knn calculating..... for k= 12\n"
     ]
    },
    {
     "name": "stderr",
     "output_type": "stream",
     "text": [
      "100%|██████████| 1600/1600 [00:04<00:00, 347.41it/s]\n",
      "  2%|▏         | 37/1600 [00:00<00:04, 361.51it/s]"
     ]
    },
    {
     "name": "stdout",
     "output_type": "stream",
     "text": [
      "6986679.683990579 44828711.24895885\n",
      "the r2 score is :84.41472108089468\n",
      "==================================================\n",
      "\n",
      "\n",
      "==================================================\n",
      "knn calculating..... for k= 13\n"
     ]
    },
    {
     "name": "stderr",
     "output_type": "stream",
     "text": [
      "100%|██████████| 1600/1600 [00:04<00:00, 360.33it/s]\n",
      "  2%|▏         | 35/1600 [00:00<00:04, 349.19it/s]"
     ]
    },
    {
     "name": "stdout",
     "output_type": "stream",
     "text": [
      "7127978.387391269 44828711.24895885\n",
      "the r2 score is :84.09952419152621\n",
      "==================================================\n",
      "\n",
      "\n",
      "==================================================\n",
      "knn calculating..... for k= 14\n"
     ]
    },
    {
     "name": "stderr",
     "output_type": "stream",
     "text": [
      "100%|██████████| 1600/1600 [00:04<00:00, 381.36it/s]\n",
      "  2%|▏         | 39/1600 [00:00<00:04, 388.39it/s]"
     ]
    },
    {
     "name": "stdout",
     "output_type": "stream",
     "text": [
      "7184747.943505189 44828711.24895885\n",
      "the r2 score is :83.9728875907133\n",
      "==================================================\n",
      "\n",
      "\n",
      "==================================================\n",
      "knn calculating..... for k= 15\n"
     ]
    },
    {
     "name": "stderr",
     "output_type": "stream",
     "text": [
      "100%|██████████| 1600/1600 [00:04<00:00, 368.77it/s]\n",
      "  2%|▏         | 35/1600 [00:00<00:04, 347.31it/s]"
     ]
    },
    {
     "name": "stdout",
     "output_type": "stream",
     "text": [
      "7316041.9195617875 44828711.24895885\n",
      "the r2 score is :83.68000837915744\n",
      "==================================================\n",
      "\n",
      "\n",
      "==================================================\n",
      "knn calculating..... for k= 16\n"
     ]
    },
    {
     "name": "stderr",
     "output_type": "stream",
     "text": [
      "100%|██████████| 1600/1600 [00:04<00:00, 363.64it/s]\n",
      "  2%|▏         | 34/1600 [00:00<00:04, 335.63it/s]"
     ]
    },
    {
     "name": "stdout",
     "output_type": "stream",
     "text": [
      "7370772.1744810045 44828711.24895885\n",
      "the r2 score is :83.55792087453285\n",
      "==================================================\n",
      "\n",
      "\n",
      "==================================================\n",
      "knn calculating..... for k= 17\n"
     ]
    },
    {
     "name": "stderr",
     "output_type": "stream",
     "text": [
      "100%|██████████| 1600/1600 [00:04<00:00, 364.13it/s]\n",
      "  2%|▏         | 34/1600 [00:00<00:04, 337.64it/s]"
     ]
    },
    {
     "name": "stdout",
     "output_type": "stream",
     "text": [
      "7431828.214424534 44828711.24895885\n",
      "the r2 score is :83.42172235746095\n",
      "==================================================\n",
      "\n",
      "\n",
      "==================================================\n",
      "knn calculating..... for k= 18\n"
     ]
    },
    {
     "name": "stderr",
     "output_type": "stream",
     "text": [
      "100%|██████████| 1600/1600 [00:04<00:00, 356.71it/s]\n",
      "  2%|▏         | 37/1600 [00:00<00:04, 369.53it/s]"
     ]
    },
    {
     "name": "stdout",
     "output_type": "stream",
     "text": [
      "7479718.666864818 44828711.24895885\n",
      "the r2 score is :83.31489249082856\n",
      "==================================================\n",
      "\n",
      "\n",
      "==================================================\n",
      "knn calculating..... for k= 19\n"
     ]
    },
    {
     "name": "stderr",
     "output_type": "stream",
     "text": [
      "100%|██████████| 1600/1600 [00:04<00:00, 370.75it/s]\n",
      "  2%|▏         | 38/1600 [00:00<00:04, 374.48it/s]"
     ]
    },
    {
     "name": "stdout",
     "output_type": "stream",
     "text": [
      "7557536.095990091 44828711.24895885\n",
      "the r2 score is :83.14130412088166\n",
      "==================================================\n",
      "\n",
      "\n",
      "==================================================\n",
      "knn calculating..... for k= 20\n"
     ]
    },
    {
     "name": "stderr",
     "output_type": "stream",
     "text": [
      "100%|██████████| 1600/1600 [00:04<00:00, 374.50it/s]\n",
      "  2%|▏         | 34/1600 [00:00<00:04, 332.87it/s]"
     ]
    },
    {
     "name": "stdout",
     "output_type": "stream",
     "text": [
      "7614543.271132414 44828711.24895885\n",
      "the r2 score is :83.01413746015449\n",
      "==================================================\n",
      "\n",
      "\n",
      "==================================================\n",
      "knn calculating..... for k= 21\n"
     ]
    },
    {
     "name": "stderr",
     "output_type": "stream",
     "text": [
      "100%|██████████| 1600/1600 [00:04<00:00, 326.14it/s]\n",
      "  2%|▏         | 32/1600 [00:00<00:05, 312.93it/s]"
     ]
    },
    {
     "name": "stdout",
     "output_type": "stream",
     "text": [
      "7658558.816679109 44828711.24895885\n",
      "the r2 score is :82.915951399658\n",
      "==================================================\n",
      "\n",
      "\n",
      "==================================================\n",
      "knn calculating..... for k= 22\n"
     ]
    },
    {
     "name": "stderr",
     "output_type": "stream",
     "text": [
      "100%|██████████| 1600/1600 [00:04<00:00, 334.11it/s]\n",
      "  2%|▏         | 38/1600 [00:00<00:04, 373.68it/s]"
     ]
    },
    {
     "name": "stdout",
     "output_type": "stream",
     "text": [
      "7678609.370801935 44828711.24895885\n",
      "the r2 score is :82.87122436297949\n",
      "==================================================\n",
      "\n",
      "\n",
      "==================================================\n",
      "knn calculating..... for k= 23\n"
     ]
    },
    {
     "name": "stderr",
     "output_type": "stream",
     "text": [
      "100%|██████████| 1600/1600 [00:04<00:00, 344.30it/s]\n",
      "  2%|▏         | 36/1600 [00:00<00:04, 352.28it/s]"
     ]
    },
    {
     "name": "stdout",
     "output_type": "stream",
     "text": [
      "7736593.521936633 44828711.24895885\n",
      "the r2 score is :82.74187834896478\n",
      "==================================================\n",
      "\n",
      "\n",
      "==================================================\n",
      "knn calculating..... for k= 24\n"
     ]
    },
    {
     "name": "stderr",
     "output_type": "stream",
     "text": [
      "100%|██████████| 1600/1600 [00:04<00:00, 336.53it/s]\n",
      "  2%|▏         | 32/1600 [00:00<00:04, 318.77it/s]"
     ]
    },
    {
     "name": "stdout",
     "output_type": "stream",
     "text": [
      "7807465.182120647 44828711.24895885\n",
      "the r2 score is :82.58378399780125\n",
      "==================================================\n",
      "\n",
      "\n",
      "==================================================\n",
      "knn calculating..... for k= 25\n"
     ]
    },
    {
     "name": "stderr",
     "output_type": "stream",
     "text": [
      "100%|██████████| 1600/1600 [00:04<00:00, 333.89it/s]\n",
      "  2%|▏         | 38/1600 [00:00<00:04, 372.79it/s]"
     ]
    },
    {
     "name": "stdout",
     "output_type": "stream",
     "text": [
      "7832376.009384875 44828711.24895885\n",
      "the r2 score is :82.5282150854453\n",
      "==================================================\n",
      "\n",
      "\n",
      "==================================================\n",
      "knn calculating..... for k= 26\n"
     ]
    },
    {
     "name": "stderr",
     "output_type": "stream",
     "text": [
      "100%|██████████| 1600/1600 [00:04<00:00, 341.30it/s]\n",
      "  2%|▏         | 33/1600 [00:00<00:04, 327.35it/s]"
     ]
    },
    {
     "name": "stdout",
     "output_type": "stream",
     "text": [
      "7906452.533074034 44828711.24895885\n",
      "the r2 score is :82.3629716028081\n",
      "==================================================\n",
      "\n",
      "\n",
      "==================================================\n",
      "knn calculating..... for k= 27\n"
     ]
    },
    {
     "name": "stderr",
     "output_type": "stream",
     "text": [
      "100%|██████████| 1600/1600 [00:04<00:00, 340.44it/s]\n",
      "  2%|▏         | 39/1600 [00:00<00:04, 381.08it/s]"
     ]
    },
    {
     "name": "stdout",
     "output_type": "stream",
     "text": [
      "7951720.265600609 44828711.24895885\n",
      "the r2 score is :82.2619922722287\n",
      "==================================================\n",
      "\n",
      "\n",
      "==================================================\n",
      "knn calculating..... for k= 28\n"
     ]
    },
    {
     "name": "stderr",
     "output_type": "stream",
     "text": [
      "100%|██████████| 1600/1600 [00:04<00:00, 374.09it/s]\n",
      "  2%|▏         | 39/1600 [00:00<00:04, 389.08it/s]"
     ]
    },
    {
     "name": "stdout",
     "output_type": "stream",
     "text": [
      "7982043.6887306115 44828711.24895885\n",
      "the r2 score is :82.19434941057781\n",
      "==================================================\n",
      "\n",
      "\n",
      "==================================================\n",
      "knn calculating..... for k= 29\n"
     ]
    },
    {
     "name": "stderr",
     "output_type": "stream",
     "text": [
      "100%|██████████| 1600/1600 [00:04<00:00, 374.13it/s]\n"
     ]
    },
    {
     "name": "stdout",
     "output_type": "stream",
     "text": [
      "8027070.370274211 44828711.24895885\n",
      "the r2 score is :82.09390779561917\n",
      "==================================================\n",
      "\n",
      "\n",
      "total time taken by knn is :131.26940178871155\n",
      "[67.4443000898232, 78.70583769670486, 81.46433946014004, 83.07026805789538, 83.73171277307732, 84.02451896708727, 84.00749100612231, 84.23406160260039, 84.28616064008068, 84.44423491032562, 84.45761460645686, 84.41472108089468, 84.09952419152621, 83.9728875907133, 83.68000837915744, 83.55792087453285, 83.42172235746095, 83.31489249082856, 83.14130412088166, 83.01413746015449, 82.915951399658, 82.87122436297949, 82.74187834896478, 82.58378399780125, 82.5282150854453, 82.3629716028081, 82.2619922722287, 82.19434941057781, 82.09390779561917]\n"
     ]
    },
    {
     "data": {
      "image/png": "[encoded data removed]",
      "text/plain": [
       "<Figure size 432x288 with 1 Axes>"
      ]
     },
     "metadata": {
      "needs_background": "light"
     },
     "output_type": "display_data"
    },
    {
     "name": "stdout",
     "output_type": "stream",
     "text": [
      "maximum r2 value is 84.45761460645686 at 10th run\n",
      "the best k value is:11, and the r2 val is 84.45761460645686\n"
     ]
    }
   ],
   "source": [
    "my_data = genfromtxt('trainingData.csv', delimiter=',')\n",
    "#upon loading we found that the data has total 13 cols starting from 1 as the 1st col\n",
    "#or you can say 12 cols starting from 0 as the 1st col\n",
    "y_train=my_data[:,12]# this prints the labels\n",
    "x_train=my_data[:,:-1] #every row except the last row until last col\n",
    "\n",
    "\n",
    "\n",
    "#for test data\n",
    "from numpy import genfromtxt\n",
    "my_data = genfromtxt('testData.csv', delimiter=',')\n",
    "y_test=my_data[:,12]#thirteenth col\n",
    "x_test=my_data[:,:-1]\n",
    "\n",
    "\n",
    "import time\n",
    "tic=time.time()\n",
    "k_ranges_weight=[]\n",
    "accuracy_ranges_weight=[]\n",
    "\n",
    "for k in range(1,30):\n",
    "    y_test_predicted=[]\n",
    "    print(\"=\"*50)\n",
    "    print(\"knn calculating..... for k= {}\".format(k))\n",
    "\n",
    "    for element in tqdm(x_test):\n",
    "        indexes,distances=calculateDistances(x_train, element)\n",
    "        #print(distances.shape)\n",
    "        indexes,distances=slice_k(k,indexes,distances)\n",
    "        label=weighted_regressor(distances,indexes,y_train,1)\n",
    "        y_test_predicted.append(label)\n",
    "\n",
    "    y_test_predicted=np.asarray(y_test_predicted)##y_predicted is my predictions\n",
    "\n",
    "    \n",
    "    acc=r2score(y_test,y_test_predicted)*100 ####<<<<< r2 metric\n",
    "    print(\"the r2 score is :{}\".format(acc))\n",
    "    print(\"=\"*50)\n",
    "    print(\"\\n\") \n",
    "    k_ranges_weight.append(k)\n",
    "    accuracy_ranges_weight.append(acc)\n",
    "\n",
    "toc=time.time()\n",
    "weighted_knn_time=toc-tic\n",
    "print(\"total time taken by knn is :{}\".format(weighted_knn_time))\n",
    "\n",
    "############graph plotting#########################################\n",
    "print(accuracy_ranges_weight)\n",
    "#plotting graphs with matplot lib\n",
    "%matplotlib inline\n",
    "import warnings\n",
    "warnings.filterwarnings(\"ignore\")\n",
    "import matplotlib.pyplot as plt\n",
    "plt.figure(1, figsize=(6, 4))\n",
    "plt.clf()\n",
    "plt.plot(k_ranges_weight, accuracy_ranges_weight, linewidth=2)\n",
    "plt.plot(k_ranges_weight, accuracy_ranges_weight, 'ro')\n",
    "plt.axis('tight')\n",
    "plt.grid()\n",
    "plt.xlabel('k values')\n",
    "plt.ylabel('r2 values')\n",
    "plt.title(\"knn with weights:{}sec\".format(weighted_knn_time))\n",
    "plt.show()\n",
    "ind=accuracy_ranges_weight.index(max(accuracy_ranges_weight))\n",
    "print(\"maximum r2 value is {} at {}th run\".format(max(accuracy_ranges_weight),ind))\n",
    "best_k_weight=k_ranges_weight[ind]\n",
    "print(\"the best k value is:{}, and the r2 val is {}\".format(best_k_weight,accuracy_ranges_weight[ind]))\n",
    "\n"
   ]
  },
  {
   "cell_type": "markdown",
   "metadata": {},
   "source": [
    "Observation: as we can see that KNN based approaches can actually perform better than baseline which always predicts mean of true labels, but still lacks from a perfect model, because we got r2 value as .84 or 84.45 when converted into 100 scale.\n",
    "\n",
    "this value lies between 0 and 100 hence its actually 84% better than the baseline model."
   ]
  },
  {
   "cell_type": "markdown",
   "metadata": {},
   "source": [
    "# Problem with euclidean distance as measure \n",
    "\n",
    "as explained in the pdf we know euclidean measure is not the best measure, as the feature with bigger range dominates the feature with smaller hence we have to use col standardization that equally scales features proportitional and shifting the centre to the origin \n",
    "\n",
    "In this demonstration I am allowed to tackle the problem <b>with high level libraries</b> so I will use standardization now from sk learn.\n",
    "to see it's impact on the r2 metric\n",
    "\n",
    "how is standardization different from normalization ?\n",
    "\n",
    "read here - https://stats.stackexchange.com/questions/10289/whats-the-difference-between-normalization-and-standardization"
   ]
  },
  {
   "cell_type": "code",
   "execution_count": 67,
   "metadata": {},
   "outputs": [
    {
     "name": "stderr",
     "output_type": "stream",
     "text": [
      "\r",
      "  0%|          | 0/1600 [00:00<?, ?it/s]"
     ]
    },
    {
     "name": "stdout",
     "output_type": "stream",
     "text": [
      "==================================================\n",
      "knn calculating..... for k= 1\n"
     ]
    },
    {
     "name": "stderr",
     "output_type": "stream",
     "text": [
      "100%|██████████| 1600/1600 [00:04<00:00, 351.80it/s]\n",
      "  2%|▎         | 40/1600 [00:00<00:03, 394.17it/s]"
     ]
    },
    {
     "name": "stdout",
     "output_type": "stream",
     "text": [
      "14594300.707810711 44828711.24895885\n",
      "the r2 score is :67.4443000898232\n",
      "==================================================\n",
      "\n",
      "\n",
      "==================================================\n",
      "knn calculating..... for k= 2\n"
     ]
    },
    {
     "name": "stderr",
     "output_type": "stream",
     "text": [
      "100%|██████████| 1600/1600 [00:04<00:00, 372.50it/s]\n",
      "  2%|▏         | 33/1600 [00:00<00:04, 327.29it/s]"
     ]
    },
    {
     "name": "stdout",
     "output_type": "stream",
     "text": [
      "9545898.53182882 44828711.24895885\n",
      "the r2 score is :78.70583769670486\n",
      "==================================================\n",
      "\n",
      "\n",
      "==================================================\n",
      "knn calculating..... for k= 3\n"
     ]
    },
    {
     "name": "stderr",
     "output_type": "stream",
     "text": [
      "100%|██████████| 1600/1600 [00:04<00:00, 353.06it/s]\n",
      "  2%|▏         | 38/1600 [00:00<00:04, 375.28it/s]"
     ]
    },
    {
     "name": "stdout",
     "output_type": "stream",
     "text": [
      "8309297.741501026 44828711.24895885\n",
      "the r2 score is :81.46433946014004\n",
      "==================================================\n",
      "\n",
      "\n",
      "==================================================\n",
      "knn calculating..... for k= 4\n"
     ]
    },
    {
     "name": "stderr",
     "output_type": "stream",
     "text": [
      "100%|██████████| 1600/1600 [00:04<00:00, 360.66it/s]\n",
      "  2%|▏         | 38/1600 [00:00<00:04, 368.42it/s]"
     ]
    },
    {
     "name": "stdout",
     "output_type": "stream",
     "text": [
      "7589380.647548835 44828711.24895885\n",
      "the r2 score is :83.07026805789538\n",
      "==================================================\n",
      "\n",
      "\n",
      "==================================================\n",
      "knn calculating..... for k= 5\n"
     ]
    },
    {
     "name": "stderr",
     "output_type": "stream",
     "text": [
      "100%|██████████| 1600/1600 [00:04<00:00, 351.50it/s]\n",
      "  2%|▏         | 38/1600 [00:00<00:04, 371.59it/s]"
     ]
    },
    {
     "name": "stdout",
     "output_type": "stream",
     "text": [
      "7292863.506108427 44828711.24895885\n",
      "the r2 score is :83.73171277307732\n",
      "==================================================\n",
      "\n",
      "\n",
      "==================================================\n",
      "knn calculating..... for k= 6\n"
     ]
    },
    {
     "name": "stderr",
     "output_type": "stream",
     "text": [
      "100%|██████████| 1600/1600 [00:04<00:00, 346.69it/s]\n",
      "  2%|▏         | 38/1600 [00:00<00:04, 371.83it/s]"
     ]
    },
    {
     "name": "stdout",
     "output_type": "stream",
     "text": [
      "7161602.26287663 44828711.24895885\n",
      "the r2 score is :84.02451896708727\n",
      "==================================================\n",
      "\n",
      "\n",
      "==================================================\n",
      "knn calculating..... for k= 7\n"
     ]
    },
    {
     "name": "stderr",
     "output_type": "stream",
     "text": [
      "100%|██████████| 1600/1600 [00:04<00:00, 357.18it/s]\n",
      "  2%|▏         | 36/1600 [00:00<00:04, 354.87it/s]"
     ]
    },
    {
     "name": "stdout",
     "output_type": "stream",
     "text": [
      "7169235.678329203 44828711.24895885\n",
      "the r2 score is :84.00749100612231\n",
      "==================================================\n",
      "\n",
      "\n",
      "==================================================\n",
      "knn calculating..... for k= 8\n"
     ]
    },
    {
     "name": "stderr",
     "output_type": "stream",
     "text": [
      "100%|██████████| 1600/1600 [00:04<00:00, 340.49it/s]\n",
      "  2%|▏         | 39/1600 [00:00<00:04, 384.22it/s]"
     ]
    },
    {
     "name": "stdout",
     "output_type": "stream",
     "text": [
      "7067666.999858999 44828711.24895885\n",
      "the r2 score is :84.23406160260039\n",
      "==================================================\n",
      "\n",
      "\n",
      "==================================================\n",
      "knn calculating..... for k= 9\n"
     ]
    },
    {
     "name": "stderr",
     "output_type": "stream",
     "text": [
      "100%|██████████| 1600/1600 [00:04<00:00, 349.46it/s]\n",
      "  2%|▏         | 38/1600 [00:00<00:04, 374.37it/s]"
     ]
    },
    {
     "name": "stdout",
     "output_type": "stream",
     "text": [
      "7044311.6727834735 44828711.24895885\n",
      "the r2 score is :84.28616064008068\n",
      "==================================================\n",
      "\n",
      "\n",
      "==================================================\n",
      "knn calculating..... for k= 10\n"
     ]
    },
    {
     "name": "stderr",
     "output_type": "stream",
     "text": [
      "100%|██████████| 1600/1600 [00:04<00:00, 332.16it/s]\n",
      "  2%|▏         | 36/1600 [00:00<00:04, 353.90it/s]"
     ]
    },
    {
     "name": "stdout",
     "output_type": "stream",
     "text": [
      "6973449.014616473 44828711.24895885\n",
      "the r2 score is :84.44423491032562\n",
      "==================================================\n",
      "\n",
      "\n",
      "==================================================\n",
      "knn calculating..... for k= 11\n"
     ]
    },
    {
     "name": "stderr",
     "output_type": "stream",
     "text": [
      "100%|██████████| 1600/1600 [00:04<00:00, 339.51it/s]\n",
      "  2%|▏         | 32/1600 [00:00<00:04, 319.66it/s]"
     ]
    },
    {
     "name": "stdout",
     "output_type": "stream",
     "text": [
      "6967451.069271813 44828711.24895885\n",
      "the r2 score is :84.45761460645686\n",
      "==================================================\n",
      "\n",
      "\n",
      "==================================================\n",
      "knn calculating..... for k= 12\n"
     ]
    },
    {
     "name": "stderr",
     "output_type": "stream",
     "text": [
      "100%|██████████| 1600/1600 [00:04<00:00, 348.68it/s]\n",
      "  2%|▏         | 36/1600 [00:00<00:04, 357.03it/s]"
     ]
    },
    {
     "name": "stdout",
     "output_type": "stream",
     "text": [
      "6986679.683990579 44828711.24895885\n",
      "the r2 score is :84.41472108089468\n",
      "==================================================\n",
      "\n",
      "\n",
      "==================================================\n",
      "knn calculating..... for k= 13\n"
     ]
    },
    {
     "name": "stderr",
     "output_type": "stream",
     "text": [
      "100%|██████████| 1600/1600 [00:04<00:00, 351.23it/s]\n",
      "  2%|▏         | 35/1600 [00:00<00:04, 349.98it/s]"
     ]
    },
    {
     "name": "stdout",
     "output_type": "stream",
     "text": [
      "7127978.387391269 44828711.24895885\n",
      "the r2 score is :84.09952419152621\n",
      "==================================================\n",
      "\n",
      "\n",
      "==================================================\n",
      "knn calculating..... for k= 14\n"
     ]
    },
    {
     "name": "stderr",
     "output_type": "stream",
     "text": [
      "100%|██████████| 1600/1600 [00:04<00:00, 352.95it/s]\n",
      "  2%|▎         | 40/1600 [00:00<00:03, 399.64it/s]"
     ]
    },
    {
     "name": "stdout",
     "output_type": "stream",
     "text": [
      "7184747.943505189 44828711.24895885\n",
      "the r2 score is :83.9728875907133\n",
      "==================================================\n",
      "\n",
      "\n",
      "==================================================\n",
      "knn calculating..... for k= 15\n"
     ]
    },
    {
     "name": "stderr",
     "output_type": "stream",
     "text": [
      "100%|██████████| 1600/1600 [00:04<00:00, 354.62it/s]\n",
      "  2%|▏         | 39/1600 [00:00<00:04, 381.93it/s]"
     ]
    },
    {
     "name": "stdout",
     "output_type": "stream",
     "text": [
      "7316041.9195617875 44828711.24895885\n",
      "the r2 score is :83.68000837915744\n",
      "==================================================\n",
      "\n",
      "\n",
      "==================================================\n",
      "knn calculating..... for k= 16\n"
     ]
    },
    {
     "name": "stderr",
     "output_type": "stream",
     "text": [
      "100%|██████████| 1600/1600 [00:04<00:00, 379.27it/s]\n",
      "  2%|▎         | 40/1600 [00:00<00:03, 397.15it/s]"
     ]
    },
    {
     "name": "stdout",
     "output_type": "stream",
     "text": [
      "7370772.1744810045 44828711.24895885\n",
      "the r2 score is :83.55792087453285\n",
      "==================================================\n",
      "\n",
      "\n",
      "==================================================\n",
      "knn calculating..... for k= 17\n"
     ]
    },
    {
     "name": "stderr",
     "output_type": "stream",
     "text": [
      "100%|██████████| 1600/1600 [00:04<00:00, 378.76it/s]\n",
      "  2%|▎         | 40/1600 [00:00<00:03, 399.09it/s]"
     ]
    },
    {
     "name": "stdout",
     "output_type": "stream",
     "text": [
      "7431828.214424534 44828711.24895885\n",
      "the r2 score is :83.42172235746095\n",
      "==================================================\n",
      "\n",
      "\n",
      "==================================================\n",
      "knn calculating..... for k= 18\n"
     ]
    },
    {
     "name": "stderr",
     "output_type": "stream",
     "text": [
      "100%|██████████| 1600/1600 [00:04<00:00, 363.69it/s]\n",
      "  2%|▏         | 34/1600 [00:00<00:04, 332.07it/s]"
     ]
    },
    {
     "name": "stdout",
     "output_type": "stream",
     "text": [
      "7479718.666864818 44828711.24895885\n",
      "the r2 score is :83.31489249082856\n",
      "==================================================\n",
      "\n",
      "\n",
      "==================================================\n",
      "knn calculating..... for k= 19\n"
     ]
    },
    {
     "name": "stderr",
     "output_type": "stream",
     "text": [
      "100%|██████████| 1600/1600 [00:04<00:00, 360.54it/s]\n"
     ]
    },
    {
     "name": "stdout",
     "output_type": "stream",
     "text": [
      "7557536.095990091 44828711.24895885\n",
      "the r2 score is :83.14130412088166\n",
      "==================================================\n",
      "\n",
      "\n",
      "total time taken by knn is :85.80961799621582\n",
      "[67.4443000898232, 78.70583769670486, 81.46433946014004, 83.07026805789538, 83.73171277307732, 84.02451896708727, 84.00749100612231, 84.23406160260039, 84.28616064008068, 84.44423491032562, 84.45761460645686, 84.41472108089468, 84.09952419152621, 83.9728875907133, 83.68000837915744, 83.55792087453285, 83.42172235746095, 83.31489249082856, 83.14130412088166]\n"
     ]
    },
    {
     "data": {
      "image/png": "[encoded data removed]",
      "text/plain": [
       "<Figure size 432x288 with 1 Axes>"
      ]
     },
     "metadata": {
      "needs_background": "light"
     },
     "output_type": "display_data"
    },
    {
     "name": "stdout",
     "output_type": "stream",
     "text": [
      "maximum r2 value is 84.45761460645686 at 10th run\n",
      "the best k value is:11, and the r2 val is 84.45761460645686\n"
     ]
    }
   ],
   "source": [
    "my_data = genfromtxt('trainingData.csv', delimiter=',')\n",
    "\n",
    "y_train=my_data[:,12]# this prints the labels\n",
    "x_train=my_data[:,:-1] #every row except the last row until last col\n",
    "\n",
    "####std#########################\n",
    "#standardization does not help turn this off\n",
    "#from sklearn.preprocessing import StandardScaler\n",
    "#x_train = StandardScaler().fit_transform(x_train)\n",
    "############################\n",
    "\n",
    "#for test data\n",
    "from numpy import genfromtxt\n",
    "my_data = genfromtxt('testData.csv', delimiter=',')\n",
    "y_test=my_data[:,12]#thirteenth col\n",
    "x_test=my_data[:,:-1]\n",
    "\n",
    "############################\n",
    "#from sklearn.preprocessing import StandardScaler\n",
    "#x_test = StandardScaler().fit_transform(x_test)\n",
    "#############################\n",
    "\n",
    "import time\n",
    "tic=time.time()\n",
    "k_ranges_weight=[]\n",
    "accuracy_ranges_weight=[]\n",
    "\n",
    "for k in range(1,20):\n",
    "    y_test_predicted=[]\n",
    "    print(\"=\"*50)\n",
    "    print(\"knn calculating..... for k= {}\".format(k))\n",
    "\n",
    "    for element in tqdm(x_test):\n",
    "        indexes,distances=calculateDistances(x_train, element)\n",
    "        #print(distances.shape)\n",
    "        indexes,distances=slice_k(k,indexes,distances)\n",
    "        label=weighted_regressor(distances,indexes,y_train,1)\n",
    "        y_test_predicted.append(label)\n",
    "\n",
    "    y_test_predicted=np.asarray(y_test_predicted)##y_predicted is my predictions\n",
    "\n",
    "    \n",
    "    acc=r2score(y_test,y_test_predicted)*100 ####<<<<< r2 metric\n",
    "    print(\"the r2 score is :{}\".format(acc))\n",
    "    print(\"=\"*50)\n",
    "    print(\"\\n\") \n",
    "    k_ranges_weight.append(k)\n",
    "    accuracy_ranges_weight.append(acc)\n",
    "\n",
    "toc=time.time()\n",
    "weighted_knn_time=toc-tic\n",
    "print(\"total time taken by knn is :{}\".format(weighted_knn_time))\n",
    "\n",
    "############graph plotting#########################################\n",
    "print(accuracy_ranges_weight)\n",
    "#plotting graphs with matplot lib\n",
    "%matplotlib inline\n",
    "import warnings\n",
    "warnings.filterwarnings(\"ignore\")\n",
    "import matplotlib.pyplot as plt\n",
    "plt.figure(1, figsize=(6, 4))\n",
    "plt.clf()\n",
    "plt.plot(k_ranges_weight, accuracy_ranges_weight, linewidth=2)\n",
    "plt.plot(k_ranges_weight, accuracy_ranges_weight, 'ro')\n",
    "plt.axis('tight')\n",
    "plt.grid()\n",
    "plt.xlabel('k values')\n",
    "plt.ylabel('r2 values')\n",
    "plt.title(\"knn with weights:{}sec\".format(weighted_knn_time))\n",
    "plt.show()\n",
    "ind=accuracy_ranges_weight.index(max(accuracy_ranges_weight))\n",
    "print(\"maximum r2 value is {} at {}th run\".format(max(accuracy_ranges_weight),ind))\n",
    "best_k_weight=k_ranges_weight[ind]\n",
    "print(\"the best k value is:{}, and the r2 val is {}\".format(best_k_weight,accuracy_ranges_weight[ind]))\n"
   ]
  },
  {
   "cell_type": "markdown",
   "metadata": {},
   "source": [
    "# Scikit's implementation is extremely fast , much much better than mine"
   ]
  },
  {
   "cell_type": "code",
   "execution_count": 68,
   "metadata": {},
   "outputs": [],
   "source": [
    "from numpy import genfromtxt\n",
    "import time\n",
    "from tqdm import tqdm \n",
    "my_data = genfromtxt('trainingData.csv', delimiter=',')\n",
    "\n",
    "y_train=my_data[:,12]# this prints the labels\n",
    "x_train=my_data[:,:-1] #every row except the last row until last col\n",
    "####std#########################\n",
    "from sklearn.preprocessing import StandardScaler\n",
    "#x_train = StandardScaler().fit_transform(x_train)  ##<<<<<<<<<turn this is off if want no std\n",
    "############################\n",
    "my_data = genfromtxt('testData.csv', delimiter=',')\n",
    "y_test=my_data[:,12]#thirteenth col\n",
    "x_test=my_data[:,:-1]\n",
    "############################\n",
    "from sklearn.preprocessing import StandardScaler\n",
    "#x_test = StandardScaler().fit_transform(x_test) ##<<<<<<<<<turn this is off if want no std\n",
    "#############################"
   ]
  },
  {
   "cell_type": "code",
   "execution_count": 69,
   "metadata": {},
   "outputs": [
    {
     "name": "stderr",
     "output_type": "stream",
     "text": [
      "100%|██████████| 29/29 [00:06<00:00,  4.29it/s]\n"
     ]
    },
    {
     "name": "stdout",
     "output_type": "stream",
     "text": [
      "max accuracy :0.8484817441980318\n",
      "[0.6744430008982321, 0.7902143377949231, 0.8185732982178427, 0.8346705683318565, 0.8405938933146834, 0.8439095319970109, 0.8442804836302874, 0.846701598549625, 0.8474151167266731, 0.8484817441980318, 0.8477567718213751, 0.8468957955262624, 0.8446665992245065, 0.8433228110455488, 0.8405570740905184, 0.8395088947165066, 0.8378018679249395, 0.8369006708231007, 0.8356787784844375, 0.834053193786899, 0.8332677393464014, 0.8328223285594196, 0.8318520617824241, 0.8304342577481169, 0.8298701957850334, 0.8283871656751032, 0.827520966156115, 0.8269367377929944, 0.8261229571136108]\n"
     ]
    },
    {
     "data": {
      "image/png": "[encoded data removed]",
      "text/plain": [
       "<Figure size 432x288 with 1 Axes>"
      ]
     },
     "metadata": {
      "needs_background": "light"
     },
     "output_type": "display_data"
    },
    {
     "name": "stdout",
     "output_type": "stream",
     "text": [
      "maximum r2 value is 0.8484817441980318 at 9th run\n",
      "the best k value is:10, and the r2 val is 0.8484817441980318\n"
     ]
    }
   ],
   "source": [
    "from sklearn.metrics import r2_score\n",
    "from sklearn.neighbors import KNeighborsRegressor\n",
    "accuracy_cv=[]\n",
    "k_values=[]\n",
    "tic=time.time()\n",
    "for i in tqdm(range(1,30)): #for all possible k values check accuracy on k_cv\n",
    "    # instantiate learning model (k = 30)\n",
    "    knn = KNeighborsRegressor(n_neighbors=i,weights=\"distance\",algorithm=\"kd_tree\") #######change this to kd_tree or brute\n",
    "\n",
    "    # fitting the model on crossvalidation train\n",
    "    knn.fit(x_train, y_train)\n",
    "\n",
    "    # predict the response on the crossvalidation train\n",
    "    pred = knn.predict(x_test)\n",
    "\n",
    "    # evaluate CV accuracy\n",
    "    acc = r2_score(y_test, pred)\n",
    "    \n",
    "    #print('\\nCV accuracy for k = %d is %d%%' % (i, acc))\n",
    "    k_values.append(i)\n",
    "    accuracy_cv.append(acc)\n",
    "    \n",
    "print(\"max accuracy :{}\".format(max(accuracy_cv)))\n",
    "toc=time.time()\n",
    "time_scikit=toc-tic\n",
    "print(accuracy_cv)\n",
    "#plotting graphs with matplot lib\n",
    "%matplotlib inline\n",
    "import warnings\n",
    "warnings.filterwarnings(\"ignore\")\n",
    "import matplotlib.pyplot as plt\n",
    "plt.figure(1, figsize=(6, 4))\n",
    "plt.clf()\n",
    "plt.plot(k_values, accuracy_cv, linewidth=2)\n",
    "plt.plot(k_values, accuracy_cv, 'ro')\n",
    "plt.axis('tight')\n",
    "plt.grid()\n",
    "plt.xlabel('k values')\n",
    "plt.ylabel('r2 values')\n",
    "plt.title(\"knn with weights:{}\".format(time_scikit))\n",
    "plt.show()\n",
    "ind=accuracy_cv.index(max(accuracy_cv))\n",
    "print(\"maximum r2 value is {} at {}th run\".format(max(accuracy_cv),ind))\n",
    "best_k_weight=k_values[ind]\n",
    "print(\"the best k value is:{}, and the r2 val is {}\".format(best_k_weight,accuracy_cv[ind]))"
   ]
  },
  {
   "cell_type": "code",
   "execution_count": 70,
   "metadata": {},
   "outputs": [],
   "source": [
    "#in out example standardization didn't help us  in increasing the accuracy in anyway. "
   ]
  },
  {
   "cell_type": "markdown",
   "metadata": {},
   "source": [
    "# time complexity analysis of kd-tree and KNN"
   ]
  },
  {
   "cell_type": "code",
   "execution_count": 71,
   "metadata": {},
   "outputs": [
    {
     "data": {
      "image/png": "[encoded data removed]",
      "text/plain": [
       "<Figure size 432x288 with 1 Axes>"
      ]
     },
     "metadata": {
      "needs_background": "light"
     },
     "output_type": "display_data"
    }
   ],
   "source": [
    "### in the scikit learn's implementation you can change the aLGORITHM from brute to kd_tree if you want to try and see the run time\n",
    "#apply Kd tree change algorithm to kd_tree from brute\n",
    "#this section plots the time complexity difference between kd and normal knn approach\n",
    "import math\n",
    "a=list(range(1,9))\n",
    "n=10\n",
    "calc=[]\n",
    "calc2=[]\n",
    "for ele1 in a:\n",
    "    new=(2**ele1)*math.log(n)\n",
    "    calc.append(new)\n",
    "    new=n*ele1\n",
    "    calc2.append(new)\n",
    "    \n",
    "\n",
    "\n",
    "#plotting graphs with matplot lib\n",
    "%matplotlib inline\n",
    "import warnings\n",
    "warnings.filterwarnings(\"ignore\")\n",
    "import matplotlib.pyplot as plt\n",
    "plt.figure(1, figsize=(6, 4))\n",
    "plt.clf()\n",
    "plt.plot(a,calc , linewidth=2)\n",
    "plt.plot(a, calc2, linewidth=2)\n",
    "plt.axis('tight')\n",
    "plt.legend([\"kd_tree time\",\"brute force KNN\"])\n",
    "plt.grid()\n",
    "plt.xlabel('varying dimensions')\n",
    "plt.ylabel('the time it takes')\n",
    "plt.title(\"kd tree vs knn at n=10\")\n",
    "plt.show()"
   ]
  },
  {
   "cell_type": "markdown",
   "metadata": {},
   "source": [
    "# turn the below line of code to be off it tries apply pca before features and then tries to run kd-tree on top of that, we got lower accuracy hence we will not ue this"
   ]
  },
  {
   "cell_type": "markdown",
   "metadata": {},
   "source": [
    "from sklearn.metrics import r2_score\n",
    "from sklearn.neighbors import KNeighborsRegressor\n",
    "from numpy import genfromtxt\n",
    "import time\n",
    "from tqdm import tqdm \n",
    "import numpy as np\n",
    "import seaborn as sn #adds more visual colors\n",
    "import warnings\n",
    "import pandas as pd\n",
    "warnings.filterwarnings(\"ignore\")\n",
    "\n",
    "################################### loading data and standardizing it #############################\n",
    "my_data = genfromtxt('trainingData.csv', delimiter=',')\n",
    "\n",
    "y_train=my_data[:,12]# this prints the labels\n",
    "x_train=my_data[:,:-1] #every row except the last row until last col\n",
    "####std#########################\n",
    "from sklearn.preprocessing import StandardScaler\n",
    "x_train = StandardScaler().fit_transform(x_train)  ##<<<<<<<<<turn this is off if want no std\n",
    "############################\n",
    "my_data = genfromtxt('testData.csv', delimiter=',')\n",
    "y_test=my_data[:,12]#thirteenth col\n",
    "x_test=my_data[:,:-1]\n",
    "############################\n",
    "from sklearn.preprocessing import StandardScaler\n",
    "x_test = StandardScaler().fit_transform(x_test) ##<<<<<<<<<turn this is off if want no std\n",
    "#############################\n",
    "\n",
    "\n",
    "################################### implementing PCA and reducing dimensions#############################\n",
    "#######pca plotting put here\n",
    "\n",
    "##########\n",
    "pca.n_components = 8\n",
    "x_test = pca.fit_transform(x_test)\n",
    "x_train = pca.fit_transform(x_train)\n",
    "print(x_train.shape,x_test.shape)\n",
    "#display(pca.explained_variance_.shape)\n",
    "#explained variance gives all the eigen vectors in a col format  \n",
    "percentage_var_explained = pca.explained_variance_ / np.sum(pca.explained_variance_);\n",
    "\n",
    "cum_var_explained = np.cumsum(percentage_var_explained)\n",
    "#do a cumlative sum\n",
    " \n",
    "# Plot the PCA spectrum #this will show exactly how many features are required to represent the variance of data \n",
    "plt.figure(1, figsize=(6, 4))\n",
    "plt.clf()\n",
    "plt.plot(cum_var_explained, linewidth=2)\n",
    "plt.axis('tight')\n",
    "plt.grid()\n",
    "plt.title(\"variance spread vs components\")\n",
    "plt.xlabel('n_components')\n",
    "plt.ylabel('Cumulative_explained_variance')\n",
    "plt.show()\n",
    "\n",
    "\n",
    "\n",
    "################################### running KNN using scikit learn#############################\n",
    "accuracy_cv=[]\n",
    "k_values=[]\n",
    "tic=time.time()\n",
    "for i in tqdm(range(1,30)): #for all possible k values check accuracy on k_cv\n",
    "    # instantiate learning model (k = 30)\n",
    "    knn = KNeighborsRegressor(n_neighbors=i,weights=\"distance\",algorithm=\"brute\")\n",
    "\n",
    "    # fitting the model on crossvalidation train\n",
    "    \n",
    "    knn.fit(x_train, y_train)\n",
    "\n",
    "    # predict the response on the crossvalidation train\n",
    "    pred = knn.predict(x_test)\n",
    "\n",
    "    # evaluate CV accuracy\n",
    "    acc = r2_score(y_test, pred)\n",
    "    \n",
    "    #print('\\nCV accuracy for k = %d is %d%%' % (i, acc))\n",
    "    k_values.append(i)\n",
    "    accuracy_cv.append(acc)\n",
    "    \n",
    "print(\"max accuracy :{}\".format(max(accuracy_cv)))\n",
    "toc=time.time()\n",
    "time_scikit=toc-tic\n",
    "print(accuracy_cv)\n",
    "#plotting graphs with matplot lib\n",
    "%matplotlib inline\n",
    "import warnings\n",
    "warnings.filterwarnings(\"ignore\")\n",
    "import matplotlib.pyplot as plt\n",
    "plt.figure(1, figsize=(6, 4))\n",
    "plt.clf()\n",
    "plt.plot(k_values, accuracy_cv, linewidth=2)\n",
    "plt.plot(k_values, accuracy_cv, 'ro')\n",
    "plt.axis('tight')\n",
    "plt.grid()\n",
    "plt.xlabel('k values')\n",
    "plt.ylabel('r2 values')\n",
    "plt.title(\"knn with weights:{}\".format(time_scikit))\n",
    "plt.show()\n",
    "ind=accuracy_cv.index(max(accuracy_cv))\n",
    "print(\"maximum r2 value is {} at {}th run\".format(max(accuracy_cv),ind))\n",
    "best_k_weight=k_values[ind]\n",
    "print(\"the best k value is:{}, and the r2 val is {}\".format(best_k_weight,accuracy_cv[ind]))    \n"
   ]
  },
  {
   "cell_type": "code",
   "execution_count": null,
   "metadata": {},
   "outputs": [],
   "source": []
  },
  {
   "cell_type": "code",
   "execution_count": null,
   "metadata": {},
   "outputs": [],
   "source": []
  }
 ],
 "metadata": {
  "kernelspec": {
   "display_name": "Python 3",
   "language": "python",
   "name": "python3"
  },
  "language_info": {
   "codemirror_mode": {
    "name": "ipython",
    "version": 3
   },
   "file_extension": ".py",
   "mimetype": "text/x-python",
   "name": "python",
   "nbconvert_exporter": "python",
   "pygments_lexer": "ipython3",
   "version": "3.7.3"
  }
 },
 "nbformat": 4,
 "nbformat_minor": 2
}
